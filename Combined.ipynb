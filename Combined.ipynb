{
 "cells": [
  {
   "cell_type": "code",
   "execution_count": 3,
   "metadata": {},
   "outputs": [],
   "source": [
    "import pandas as pd\n",
    "import numpy as np\n",
    "import seaborn as sns\n",
    "import matplotlib.pyplot as plt\n",
    "%matplotlib inline\n",
    "import glob\n",
    "import os\n",
    "import collections"
   ]
  },
  {
   "cell_type": "code",
   "execution_count": 4,
   "metadata": {},
   "outputs": [
    {
     "data": {
      "text/html": [
       "<div>\n",
       "<style scoped>\n",
       "    .dataframe tbody tr th:only-of-type {\n",
       "        vertical-align: middle;\n",
       "    }\n",
       "\n",
       "    .dataframe tbody tr th {\n",
       "        vertical-align: top;\n",
       "    }\n",
       "\n",
       "    .dataframe thead th {\n",
       "        text-align: right;\n",
       "    }\n",
       "</style>\n",
       "<table border=\"1\" class=\"dataframe\">\n",
       "  <thead>\n",
       "    <tr style=\"text-align: right;\">\n",
       "      <th></th>\n",
       "      <th>video_id</th>\n",
       "      <th>trending_date</th>\n",
       "      <th>title</th>\n",
       "      <th>channel_title</th>\n",
       "      <th>category_id</th>\n",
       "      <th>publish_time</th>\n",
       "      <th>tags</th>\n",
       "      <th>views</th>\n",
       "      <th>likes</th>\n",
       "      <th>dislikes</th>\n",
       "      <th>comment_count</th>\n",
       "      <th>thumbnail_link</th>\n",
       "      <th>comments_disabled</th>\n",
       "      <th>ratings_disabled</th>\n",
       "      <th>video_error_or_removed</th>\n",
       "      <th>description</th>\n",
       "      <th>trending_days</th>\n",
       "      <th>region</th>\n",
       "    </tr>\n",
       "  </thead>\n",
       "  <tbody>\n",
       "    <tr>\n",
       "      <td>10</td>\n",
       "      <td>9wRQljFNDW8</td>\n",
       "      <td>17.14.11</td>\n",
       "      <td>Dion Lewis' 103-Yd Kick Return TD vs. Denver! ...</td>\n",
       "      <td>NFL</td>\n",
       "      <td>17</td>\n",
       "      <td>2017-11-13T02:05:26.000Z</td>\n",
       "      <td>NFL|\"Football\"|\"offense\"|\"defense\"|\"afc\"|\"nfc\"...</td>\n",
       "      <td>81377</td>\n",
       "      <td>655</td>\n",
       "      <td>25</td>\n",
       "      <td>177</td>\n",
       "      <td>https://i.ytimg.com/vi/9wRQljFNDW8/default.jpg</td>\n",
       "      <td>False</td>\n",
       "      <td>False</td>\n",
       "      <td>False</td>\n",
       "      <td>New England Patriots returner Dion Lewis blast...</td>\n",
       "      <td>1</td>\n",
       "      <td>US</td>\n",
       "    </tr>\n",
       "    <tr>\n",
       "      <td>36</td>\n",
       "      <td>Om_zGhJLZ5U</td>\n",
       "      <td>17.14.11</td>\n",
       "      <td>TL;DW - Every DCEU Movie Before Justice League</td>\n",
       "      <td>Screen Junkies</td>\n",
       "      <td>1</td>\n",
       "      <td>2017-11-12T18:00:03.000Z</td>\n",
       "      <td>screenjunkies|\"screen junkies\"|\"sj news\"|\"hone...</td>\n",
       "      <td>288922</td>\n",
       "      <td>7515</td>\n",
       "      <td>792</td>\n",
       "      <td>2111</td>\n",
       "      <td>https://i.ytimg.com/vi/Om_zGhJLZ5U/default.jpg</td>\n",
       "      <td>False</td>\n",
       "      <td>False</td>\n",
       "      <td>False</td>\n",
       "      <td>With Justice League approaching fast we rewatc...</td>\n",
       "      <td>1</td>\n",
       "      <td>US</td>\n",
       "    </tr>\n",
       "    <tr>\n",
       "      <td>41</td>\n",
       "      <td>goP4Z5wyOlM</td>\n",
       "      <td>17.14.11</td>\n",
       "      <td>Iraq-Iran earthquake: Deadly tremor hits borde...</td>\n",
       "      <td>BBC News</td>\n",
       "      <td>25</td>\n",
       "      <td>2017-11-12T21:16:40.000Z</td>\n",
       "      <td>bbc|\"bbc news\"|\"news\"|\"iran\"|\"iran news\"|\"iraq...</td>\n",
       "      <td>34785</td>\n",
       "      <td>308</td>\n",
       "      <td>26</td>\n",
       "      <td>413</td>\n",
       "      <td>https://i.ytimg.com/vi/goP4Z5wyOlM/default.jpg</td>\n",
       "      <td>False</td>\n",
       "      <td>False</td>\n",
       "      <td>False</td>\n",
       "      <td>A strong 7.2-magnitude earthquake has rattled ...</td>\n",
       "      <td>1</td>\n",
       "      <td>US</td>\n",
       "    </tr>\n",
       "    <tr>\n",
       "      <td>44</td>\n",
       "      <td>STI2fI7sKMo</td>\n",
       "      <td>17.14.11</td>\n",
       "      <td>AFFAIRS, EX BOYFRIENDS, $18MILLION NET WORTH -...</td>\n",
       "      <td>Shawn Johnson East</td>\n",
       "      <td>22</td>\n",
       "      <td>2017-11-11T15:00:03.000Z</td>\n",
       "      <td>shawn johnson|\"andrew east\"|\"shawn east\"|\"shaw...</td>\n",
       "      <td>321053</td>\n",
       "      <td>4451</td>\n",
       "      <td>1772</td>\n",
       "      <td>895</td>\n",
       "      <td>https://i.ytimg.com/vi/STI2fI7sKMo/default.jpg</td>\n",
       "      <td>False</td>\n",
       "      <td>False</td>\n",
       "      <td>False</td>\n",
       "      <td>Subscribe for weekly videos ▶ http://bit.ly/sj...</td>\n",
       "      <td>1</td>\n",
       "      <td>US</td>\n",
       "    </tr>\n",
       "    <tr>\n",
       "      <td>46</td>\n",
       "      <td>ogYum4kWXgk</td>\n",
       "      <td>17.14.11</td>\n",
       "      <td>People are Awesome &amp; The Pet Collective presen...</td>\n",
       "      <td>People are Awesome</td>\n",
       "      <td>24</td>\n",
       "      <td>2017-11-13T13:00:06.000Z</td>\n",
       "      <td>people are awesome|\"people are awesome 2017\"|\"...</td>\n",
       "      <td>69844</td>\n",
       "      <td>3417</td>\n",
       "      <td>33</td>\n",
       "      <td>160</td>\n",
       "      <td>https://i.ytimg.com/vi/ogYum4kWXgk/default.jpg</td>\n",
       "      <td>False</td>\n",
       "      <td>False</td>\n",
       "      <td>False</td>\n",
       "      <td>Pets are Awesome! This is for all the animal l...</td>\n",
       "      <td>1</td>\n",
       "      <td>US</td>\n",
       "    </tr>\n",
       "  </tbody>\n",
       "</table>\n",
       "</div>"
      ],
      "text/plain": [
       "       video_id trending_date  \\\n",
       "10  9wRQljFNDW8      17.14.11   \n",
       "36  Om_zGhJLZ5U      17.14.11   \n",
       "41  goP4Z5wyOlM      17.14.11   \n",
       "44  STI2fI7sKMo      17.14.11   \n",
       "46  ogYum4kWXgk      17.14.11   \n",
       "\n",
       "                                                title       channel_title  \\\n",
       "10  Dion Lewis' 103-Yd Kick Return TD vs. Denver! ...                 NFL   \n",
       "36     TL;DW - Every DCEU Movie Before Justice League      Screen Junkies   \n",
       "41  Iraq-Iran earthquake: Deadly tremor hits borde...            BBC News   \n",
       "44  AFFAIRS, EX BOYFRIENDS, $18MILLION NET WORTH -...  Shawn Johnson East   \n",
       "46  People are Awesome & The Pet Collective presen...  People are Awesome   \n",
       "\n",
       "    category_id              publish_time  \\\n",
       "10           17  2017-11-13T02:05:26.000Z   \n",
       "36            1  2017-11-12T18:00:03.000Z   \n",
       "41           25  2017-11-12T21:16:40.000Z   \n",
       "44           22  2017-11-11T15:00:03.000Z   \n",
       "46           24  2017-11-13T13:00:06.000Z   \n",
       "\n",
       "                                                 tags   views  likes  \\\n",
       "10  NFL|\"Football\"|\"offense\"|\"defense\"|\"afc\"|\"nfc\"...   81377    655   \n",
       "36  screenjunkies|\"screen junkies\"|\"sj news\"|\"hone...  288922   7515   \n",
       "41  bbc|\"bbc news\"|\"news\"|\"iran\"|\"iran news\"|\"iraq...   34785    308   \n",
       "44  shawn johnson|\"andrew east\"|\"shawn east\"|\"shaw...  321053   4451   \n",
       "46  people are awesome|\"people are awesome 2017\"|\"...   69844   3417   \n",
       "\n",
       "    dislikes  comment_count                                  thumbnail_link  \\\n",
       "10        25            177  https://i.ytimg.com/vi/9wRQljFNDW8/default.jpg   \n",
       "36       792           2111  https://i.ytimg.com/vi/Om_zGhJLZ5U/default.jpg   \n",
       "41        26            413  https://i.ytimg.com/vi/goP4Z5wyOlM/default.jpg   \n",
       "44      1772            895  https://i.ytimg.com/vi/STI2fI7sKMo/default.jpg   \n",
       "46        33            160  https://i.ytimg.com/vi/ogYum4kWXgk/default.jpg   \n",
       "\n",
       "    comments_disabled  ratings_disabled  video_error_or_removed  \\\n",
       "10              False             False                   False   \n",
       "36              False             False                   False   \n",
       "41              False             False                   False   \n",
       "44              False             False                   False   \n",
       "46              False             False                   False   \n",
       "\n",
       "                                          description  trending_days region  \n",
       "10  New England Patriots returner Dion Lewis blast...              1     US  \n",
       "36  With Justice League approaching fast we rewatc...              1     US  \n",
       "41  A strong 7.2-magnitude earthquake has rattled ...              1     US  \n",
       "44  Subscribe for weekly videos ▶ http://bit.ly/sj...              1     US  \n",
       "46  Pets are Awesome! This is for all the animal l...              1     US  "
      ]
     },
     "execution_count": 4,
     "metadata": {},
     "output_type": "execute_result"
    }
   ],
   "source": [
    "nations = ['US', 'IN', 'DE', 'GB', 'JP']\n",
    "country = pd.DataFrame()\n",
    "for nation in nations:\n",
    "    df = pd.DataFrame()\n",
    "    filename = f'//Users/mahimakaushiva/Desktop/Youtube/Youtube/countries/{nation}videos.csv'\n",
    "    df = pd.read_csv(filename)\n",
    "    videos = collections.Counter(df['title'])\n",
    "#     total = len(videos)\n",
    "    codes = nation\n",
    "    df['trending_days'] = df['title'].map(videos)\n",
    "    df = df.drop_duplicates(subset='title', keep='last')\n",
    "    df['region'] = codes\n",
    "    country = country.append(df)\n",
    "country.head()"
   ]
  },
  {
   "cell_type": "code",
   "execution_count": 5,
   "metadata": {},
   "outputs": [
    {
     "data": {
      "text/plain": [
       "(69314, 18)"
      ]
     },
     "execution_count": 5,
     "metadata": {},
     "output_type": "execute_result"
    }
   ],
   "source": [
    "country.shape"
   ]
  },
  {
   "cell_type": "code",
   "execution_count": 6,
   "metadata": {},
   "outputs": [
    {
     "data": {
      "text/plain": [
       "{1,\n",
       " 2,\n",
       " 3,\n",
       " 4,\n",
       " 5,\n",
       " 6,\n",
       " 7,\n",
       " 8,\n",
       " 9,\n",
       " 10,\n",
       " 11,\n",
       " 12,\n",
       " 13,\n",
       " 14,\n",
       " 15,\n",
       " 16,\n",
       " 17,\n",
       " 18,\n",
       " 19,\n",
       " 20,\n",
       " 21,\n",
       " 22,\n",
       " 23,\n",
       " 24,\n",
       " 25,\n",
       " 26,\n",
       " 27,\n",
       " 28,\n",
       " 29,\n",
       " 30,\n",
       " 31,\n",
       " 32,\n",
       " 33,\n",
       " 34,\n",
       " 35,\n",
       " 36,\n",
       " 37,\n",
       " 38,\n",
       " 40}"
      ]
     },
     "execution_count": 6,
     "metadata": {},
     "output_type": "execute_result"
    }
   ],
   "source": [
    "set(country['trending_days'])"
   ]
  },
  {
   "cell_type": "code",
   "execution_count": 7,
   "metadata": {},
   "outputs": [
    {
     "data": {
      "text/html": [
       "<div>\n",
       "<style scoped>\n",
       "    .dataframe tbody tr th:only-of-type {\n",
       "        vertical-align: middle;\n",
       "    }\n",
       "\n",
       "    .dataframe tbody tr th {\n",
       "        vertical-align: top;\n",
       "    }\n",
       "\n",
       "    .dataframe thead th {\n",
       "        text-align: right;\n",
       "    }\n",
       "</style>\n",
       "<table border=\"1\" class=\"dataframe\">\n",
       "  <thead>\n",
       "    <tr style=\"text-align: right;\">\n",
       "      <th></th>\n",
       "      <th>video_id</th>\n",
       "      <th>trending_date</th>\n",
       "      <th>title</th>\n",
       "      <th>channel_title</th>\n",
       "      <th>category_id</th>\n",
       "      <th>publish_time</th>\n",
       "      <th>tags</th>\n",
       "      <th>views</th>\n",
       "      <th>likes</th>\n",
       "      <th>dislikes</th>\n",
       "      <th>comment_count</th>\n",
       "      <th>thumbnail_link</th>\n",
       "      <th>comments_disabled</th>\n",
       "      <th>ratings_disabled</th>\n",
       "      <th>video_error_or_removed</th>\n",
       "      <th>description</th>\n",
       "      <th>trending_days</th>\n",
       "      <th>region</th>\n",
       "    </tr>\n",
       "  </thead>\n",
       "  <tbody>\n",
       "    <tr>\n",
       "      <td>10</td>\n",
       "      <td>9wRQljFNDW8</td>\n",
       "      <td>2017-11-14</td>\n",
       "      <td>Dion Lewis' 103-Yd Kick Return TD vs. Denver! ...</td>\n",
       "      <td>NFL</td>\n",
       "      <td>17</td>\n",
       "      <td>2017-11-13 02:05:26</td>\n",
       "      <td>NFL|\"Football\"|\"offense\"|\"defense\"|\"afc\"|\"nfc\"...</td>\n",
       "      <td>81377</td>\n",
       "      <td>655</td>\n",
       "      <td>25</td>\n",
       "      <td>177</td>\n",
       "      <td>https://i.ytimg.com/vi/9wRQljFNDW8/default.jpg</td>\n",
       "      <td>False</td>\n",
       "      <td>False</td>\n",
       "      <td>False</td>\n",
       "      <td>New England Patriots returner Dion Lewis blast...</td>\n",
       "      <td>1</td>\n",
       "      <td>US</td>\n",
       "    </tr>\n",
       "    <tr>\n",
       "      <td>36</td>\n",
       "      <td>Om_zGhJLZ5U</td>\n",
       "      <td>2017-11-14</td>\n",
       "      <td>TL;DW - Every DCEU Movie Before Justice League</td>\n",
       "      <td>Screen Junkies</td>\n",
       "      <td>1</td>\n",
       "      <td>2017-11-12 18:00:03</td>\n",
       "      <td>screenjunkies|\"screen junkies\"|\"sj news\"|\"hone...</td>\n",
       "      <td>288922</td>\n",
       "      <td>7515</td>\n",
       "      <td>792</td>\n",
       "      <td>2111</td>\n",
       "      <td>https://i.ytimg.com/vi/Om_zGhJLZ5U/default.jpg</td>\n",
       "      <td>False</td>\n",
       "      <td>False</td>\n",
       "      <td>False</td>\n",
       "      <td>With Justice League approaching fast we rewatc...</td>\n",
       "      <td>1</td>\n",
       "      <td>US</td>\n",
       "    </tr>\n",
       "    <tr>\n",
       "      <td>41</td>\n",
       "      <td>goP4Z5wyOlM</td>\n",
       "      <td>2017-11-14</td>\n",
       "      <td>Iraq-Iran earthquake: Deadly tremor hits borde...</td>\n",
       "      <td>BBC News</td>\n",
       "      <td>25</td>\n",
       "      <td>2017-11-12 21:16:40</td>\n",
       "      <td>bbc|\"bbc news\"|\"news\"|\"iran\"|\"iran news\"|\"iraq...</td>\n",
       "      <td>34785</td>\n",
       "      <td>308</td>\n",
       "      <td>26</td>\n",
       "      <td>413</td>\n",
       "      <td>https://i.ytimg.com/vi/goP4Z5wyOlM/default.jpg</td>\n",
       "      <td>False</td>\n",
       "      <td>False</td>\n",
       "      <td>False</td>\n",
       "      <td>A strong 7.2-magnitude earthquake has rattled ...</td>\n",
       "      <td>1</td>\n",
       "      <td>US</td>\n",
       "    </tr>\n",
       "    <tr>\n",
       "      <td>44</td>\n",
       "      <td>STI2fI7sKMo</td>\n",
       "      <td>2017-11-14</td>\n",
       "      <td>AFFAIRS, EX BOYFRIENDS, $18MILLION NET WORTH -...</td>\n",
       "      <td>Shawn Johnson East</td>\n",
       "      <td>22</td>\n",
       "      <td>2017-11-11 15:00:03</td>\n",
       "      <td>shawn johnson|\"andrew east\"|\"shawn east\"|\"shaw...</td>\n",
       "      <td>321053</td>\n",
       "      <td>4451</td>\n",
       "      <td>1772</td>\n",
       "      <td>895</td>\n",
       "      <td>https://i.ytimg.com/vi/STI2fI7sKMo/default.jpg</td>\n",
       "      <td>False</td>\n",
       "      <td>False</td>\n",
       "      <td>False</td>\n",
       "      <td>Subscribe for weekly videos ▶ http://bit.ly/sj...</td>\n",
       "      <td>1</td>\n",
       "      <td>US</td>\n",
       "    </tr>\n",
       "    <tr>\n",
       "      <td>46</td>\n",
       "      <td>ogYum4kWXgk</td>\n",
       "      <td>2017-11-14</td>\n",
       "      <td>People are Awesome &amp; The Pet Collective presen...</td>\n",
       "      <td>People are Awesome</td>\n",
       "      <td>24</td>\n",
       "      <td>2017-11-13 13:00:06</td>\n",
       "      <td>people are awesome|\"people are awesome 2017\"|\"...</td>\n",
       "      <td>69844</td>\n",
       "      <td>3417</td>\n",
       "      <td>33</td>\n",
       "      <td>160</td>\n",
       "      <td>https://i.ytimg.com/vi/ogYum4kWXgk/default.jpg</td>\n",
       "      <td>False</td>\n",
       "      <td>False</td>\n",
       "      <td>False</td>\n",
       "      <td>Pets are Awesome! This is for all the animal l...</td>\n",
       "      <td>1</td>\n",
       "      <td>US</td>\n",
       "    </tr>\n",
       "  </tbody>\n",
       "</table>\n",
       "</div>"
      ],
      "text/plain": [
       "       video_id trending_date  \\\n",
       "10  9wRQljFNDW8    2017-11-14   \n",
       "36  Om_zGhJLZ5U    2017-11-14   \n",
       "41  goP4Z5wyOlM    2017-11-14   \n",
       "44  STI2fI7sKMo    2017-11-14   \n",
       "46  ogYum4kWXgk    2017-11-14   \n",
       "\n",
       "                                                title       channel_title  \\\n",
       "10  Dion Lewis' 103-Yd Kick Return TD vs. Denver! ...                 NFL   \n",
       "36     TL;DW - Every DCEU Movie Before Justice League      Screen Junkies   \n",
       "41  Iraq-Iran earthquake: Deadly tremor hits borde...            BBC News   \n",
       "44  AFFAIRS, EX BOYFRIENDS, $18MILLION NET WORTH -...  Shawn Johnson East   \n",
       "46  People are Awesome & The Pet Collective presen...  People are Awesome   \n",
       "\n",
       "    category_id        publish_time  \\\n",
       "10           17 2017-11-13 02:05:26   \n",
       "36            1 2017-11-12 18:00:03   \n",
       "41           25 2017-11-12 21:16:40   \n",
       "44           22 2017-11-11 15:00:03   \n",
       "46           24 2017-11-13 13:00:06   \n",
       "\n",
       "                                                 tags   views  likes  \\\n",
       "10  NFL|\"Football\"|\"offense\"|\"defense\"|\"afc\"|\"nfc\"...   81377    655   \n",
       "36  screenjunkies|\"screen junkies\"|\"sj news\"|\"hone...  288922   7515   \n",
       "41  bbc|\"bbc news\"|\"news\"|\"iran\"|\"iran news\"|\"iraq...   34785    308   \n",
       "44  shawn johnson|\"andrew east\"|\"shawn east\"|\"shaw...  321053   4451   \n",
       "46  people are awesome|\"people are awesome 2017\"|\"...   69844   3417   \n",
       "\n",
       "    dislikes  comment_count                                  thumbnail_link  \\\n",
       "10        25            177  https://i.ytimg.com/vi/9wRQljFNDW8/default.jpg   \n",
       "36       792           2111  https://i.ytimg.com/vi/Om_zGhJLZ5U/default.jpg   \n",
       "41        26            413  https://i.ytimg.com/vi/goP4Z5wyOlM/default.jpg   \n",
       "44      1772            895  https://i.ytimg.com/vi/STI2fI7sKMo/default.jpg   \n",
       "46        33            160  https://i.ytimg.com/vi/ogYum4kWXgk/default.jpg   \n",
       "\n",
       "    comments_disabled  ratings_disabled  video_error_or_removed  \\\n",
       "10              False             False                   False   \n",
       "36              False             False                   False   \n",
       "41              False             False                   False   \n",
       "44              False             False                   False   \n",
       "46              False             False                   False   \n",
       "\n",
       "                                          description  trending_days region  \n",
       "10  New England Patriots returner Dion Lewis blast...              1     US  \n",
       "36  With Justice League approaching fast we rewatc...              1     US  \n",
       "41  A strong 7.2-magnitude earthquake has rattled ...              1     US  \n",
       "44  Subscribe for weekly videos ▶ http://bit.ly/sj...              1     US  \n",
       "46  Pets are Awesome! This is for all the animal l...              1     US  "
      ]
     },
     "execution_count": 7,
     "metadata": {},
     "output_type": "execute_result"
    }
   ],
   "source": [
    "# converting trending_date and publish_time to datetime\n",
    "\n",
    "country['trending_date'] = pd.to_datetime(country['trending_date'],errors='coerce', format='%y.%d.%m')\n",
    "country['publish_time'] = pd.to_datetime(country['publish_time'], errors='coerce', format='%Y-%m-%dT%H:%M:%S.%fZ')\n",
    "\n",
    "country = country[country['trending_date'].notnull()]\n",
    "country = country[country['publish_time'].notnull()]\n",
    "\n",
    "country.head()"
   ]
  },
  {
   "cell_type": "code",
   "execution_count": 8,
   "metadata": {},
   "outputs": [
    {
     "data": {
      "text/plain": [
       "(69314, 18)"
      ]
     },
     "execution_count": 8,
     "metadata": {},
     "output_type": "execute_result"
    }
   ],
   "source": [
    "country.shape"
   ]
  },
  {
   "cell_type": "code",
   "execution_count": 9,
   "metadata": {},
   "outputs": [],
   "source": [
    "# removing incomplete rows\n",
    "\n",
    "country = country.dropna(how = 'any', inplace = False, axis = 0)"
   ]
  },
  {
   "cell_type": "code",
   "execution_count": 10,
   "metadata": {},
   "outputs": [
    {
     "data": {
      "text/plain": [
       "(66209, 18)"
      ]
     },
     "execution_count": 10,
     "metadata": {},
     "output_type": "execute_result"
    }
   ],
   "source": [
    "country.shape"
   ]
  },
  {
   "cell_type": "code",
   "execution_count": 11,
   "metadata": {},
   "outputs": [
    {
     "data": {
      "text/html": [
       "<div>\n",
       "<style scoped>\n",
       "    .dataframe tbody tr th:only-of-type {\n",
       "        vertical-align: middle;\n",
       "    }\n",
       "\n",
       "    .dataframe tbody tr th {\n",
       "        vertical-align: top;\n",
       "    }\n",
       "\n",
       "    .dataframe thead th {\n",
       "        text-align: right;\n",
       "    }\n",
       "</style>\n",
       "<table border=\"1\" class=\"dataframe\">\n",
       "  <thead>\n",
       "    <tr style=\"text-align: right;\">\n",
       "      <th></th>\n",
       "      <th>video_id</th>\n",
       "      <th>trending_date</th>\n",
       "      <th>title</th>\n",
       "      <th>channel_title</th>\n",
       "      <th>category_id</th>\n",
       "      <th>publish_time</th>\n",
       "      <th>tags</th>\n",
       "      <th>views</th>\n",
       "      <th>likes</th>\n",
       "      <th>dislikes</th>\n",
       "      <th>comment_count</th>\n",
       "      <th>thumbnail_link</th>\n",
       "      <th>comments_disabled</th>\n",
       "      <th>ratings_disabled</th>\n",
       "      <th>video_error_or_removed</th>\n",
       "      <th>description</th>\n",
       "      <th>trending_days</th>\n",
       "      <th>region</th>\n",
       "    </tr>\n",
       "  </thead>\n",
       "  <tbody>\n",
       "    <tr>\n",
       "      <td>24355</td>\n",
       "      <td>4uTNVumfm84</td>\n",
       "      <td>2018-03-17</td>\n",
       "      <td>Maroon 5 - Wait</td>\n",
       "      <td>Maroon5VEVO</td>\n",
       "      <td>10</td>\n",
       "      <td>2018-02-08 14:00:00</td>\n",
       "      <td>Maroon|\"Wait\"|\"222\"|\"Records/Interscope\"|\"Reco...</td>\n",
       "      <td>46205645</td>\n",
       "      <td>633772</td>\n",
       "      <td>16442</td>\n",
       "      <td>23724</td>\n",
       "      <td>https://i.ytimg.com/vi/4uTNVumfm84/default.jpg</td>\n",
       "      <td>False</td>\n",
       "      <td>False</td>\n",
       "      <td>False</td>\n",
       "      <td>RED PILL BLUES” is out now.\\nhttp://smarturl.i...</td>\n",
       "      <td>40</td>\n",
       "      <td>GB</td>\n",
       "    </tr>\n",
       "  </tbody>\n",
       "</table>\n",
       "</div>"
      ],
      "text/plain": [
       "          video_id trending_date            title channel_title  category_id  \\\n",
       "24355  4uTNVumfm84    2018-03-17  Maroon 5 - Wait   Maroon5VEVO           10   \n",
       "\n",
       "             publish_time                                               tags  \\\n",
       "24355 2018-02-08 14:00:00  Maroon|\"Wait\"|\"222\"|\"Records/Interscope\"|\"Reco...   \n",
       "\n",
       "          views   likes  dislikes  comment_count  \\\n",
       "24355  46205645  633772     16442          23724   \n",
       "\n",
       "                                       thumbnail_link  comments_disabled  \\\n",
       "24355  https://i.ytimg.com/vi/4uTNVumfm84/default.jpg              False   \n",
       "\n",
       "       ratings_disabled  video_error_or_removed  \\\n",
       "24355             False                   False   \n",
       "\n",
       "                                             description  trending_days region  \n",
       "24355  RED PILL BLUES” is out now.\\nhttp://smarturl.i...             40     GB  "
      ]
     },
     "execution_count": 11,
     "metadata": {},
     "output_type": "execute_result"
    }
   ],
   "source": [
    "country.loc[country['trending_days']== 40]"
   ]
  },
  {
   "cell_type": "code",
   "execution_count": 12,
   "metadata": {},
   "outputs": [
    {
     "data": {
      "text/plain": [
       "6503              チャンネル登録はこちらをクリック↓\\nhttps://goo.gl/ycC8bG\n",
       "37125    | Warum FAST*T man ? | DenizonDIESES VIDEO DIE...\n",
       "26468    Als sich Stephen Paddock am 1. Oktober 2017 in...\n",
       "27045    ► Subscribe Now: https://goo.gl/xs3mrY 🔔 Stay ...\n",
       "16568    Hey we found a solution to the problem of the ...\n",
       "Name: description, dtype: object"
      ]
     },
     "execution_count": 12,
     "metadata": {},
     "output_type": "execute_result"
    }
   ],
   "source": [
    "country['description'].sample(5)"
   ]
  },
  {
   "cell_type": "code",
   "execution_count": 13,
   "metadata": {},
   "outputs": [
    {
     "data": {
      "text/html": [
       "<div>\n",
       "<style scoped>\n",
       "    .dataframe tbody tr th:only-of-type {\n",
       "        vertical-align: middle;\n",
       "    }\n",
       "\n",
       "    .dataframe tbody tr th {\n",
       "        vertical-align: top;\n",
       "    }\n",
       "\n",
       "    .dataframe thead th {\n",
       "        text-align: right;\n",
       "    }\n",
       "</style>\n",
       "<table border=\"1\" class=\"dataframe\">\n",
       "  <thead>\n",
       "    <tr style=\"text-align: right;\">\n",
       "      <th></th>\n",
       "      <th>category_id</th>\n",
       "      <th>views</th>\n",
       "      <th>likes</th>\n",
       "      <th>dislikes</th>\n",
       "      <th>comment_count</th>\n",
       "      <th>comments_disabled</th>\n",
       "      <th>ratings_disabled</th>\n",
       "      <th>video_error_or_removed</th>\n",
       "      <th>trending_days</th>\n",
       "    </tr>\n",
       "  </thead>\n",
       "  <tbody>\n",
       "    <tr>\n",
       "      <td>category_id</td>\n",
       "      <td>1.000000</td>\n",
       "      <td>-0.103142</td>\n",
       "      <td>-0.115294</td>\n",
       "      <td>-0.026075</td>\n",
       "      <td>-0.055385</td>\n",
       "      <td>0.021821</td>\n",
       "      <td>0.007811</td>\n",
       "      <td>-0.028706</td>\n",
       "      <td>-0.120794</td>\n",
       "    </tr>\n",
       "    <tr>\n",
       "      <td>views</td>\n",
       "      <td>-0.103142</td>\n",
       "      <td>1.000000</td>\n",
       "      <td>0.769552</td>\n",
       "      <td>0.467811</td>\n",
       "      <td>0.525863</td>\n",
       "      <td>-0.014442</td>\n",
       "      <td>-0.015973</td>\n",
       "      <td>0.006746</td>\n",
       "      <td>0.336548</td>\n",
       "    </tr>\n",
       "    <tr>\n",
       "      <td>likes</td>\n",
       "      <td>-0.115294</td>\n",
       "      <td>0.769552</td>\n",
       "      <td>1.000000</td>\n",
       "      <td>0.487032</td>\n",
       "      <td>0.827878</td>\n",
       "      <td>-0.029596</td>\n",
       "      <td>-0.031037</td>\n",
       "      <td>0.005974</td>\n",
       "      <td>0.294863</td>\n",
       "    </tr>\n",
       "    <tr>\n",
       "      <td>dislikes</td>\n",
       "      <td>-0.026075</td>\n",
       "      <td>0.467811</td>\n",
       "      <td>0.487032</td>\n",
       "      <td>1.000000</td>\n",
       "      <td>0.622404</td>\n",
       "      <td>-0.010365</td>\n",
       "      <td>-0.014116</td>\n",
       "      <td>0.002060</td>\n",
       "      <td>0.126154</td>\n",
       "    </tr>\n",
       "    <tr>\n",
       "      <td>comment_count</td>\n",
       "      <td>-0.055385</td>\n",
       "      <td>0.525863</td>\n",
       "      <td>0.827878</td>\n",
       "      <td>0.622404</td>\n",
       "      <td>1.000000</td>\n",
       "      <td>-0.027971</td>\n",
       "      <td>-0.020287</td>\n",
       "      <td>0.001055</td>\n",
       "      <td>0.180328</td>\n",
       "    </tr>\n",
       "    <tr>\n",
       "      <td>comments_disabled</td>\n",
       "      <td>0.021821</td>\n",
       "      <td>-0.014442</td>\n",
       "      <td>-0.029596</td>\n",
       "      <td>-0.010365</td>\n",
       "      <td>-0.027971</td>\n",
       "      <td>1.000000</td>\n",
       "      <td>0.343475</td>\n",
       "      <td>-0.003277</td>\n",
       "      <td>-0.026095</td>\n",
       "    </tr>\n",
       "    <tr>\n",
       "      <td>ratings_disabled</td>\n",
       "      <td>0.007811</td>\n",
       "      <td>-0.015973</td>\n",
       "      <td>-0.031037</td>\n",
       "      <td>-0.014116</td>\n",
       "      <td>-0.020287</td>\n",
       "      <td>0.343475</td>\n",
       "      <td>1.000000</td>\n",
       "      <td>-0.002825</td>\n",
       "      <td>-0.037332</td>\n",
       "    </tr>\n",
       "    <tr>\n",
       "      <td>video_error_or_removed</td>\n",
       "      <td>-0.028706</td>\n",
       "      <td>0.006746</td>\n",
       "      <td>0.005974</td>\n",
       "      <td>0.002060</td>\n",
       "      <td>0.001055</td>\n",
       "      <td>-0.003277</td>\n",
       "      <td>-0.002825</td>\n",
       "      <td>1.000000</td>\n",
       "      <td>0.017641</td>\n",
       "    </tr>\n",
       "    <tr>\n",
       "      <td>trending_days</td>\n",
       "      <td>-0.120794</td>\n",
       "      <td>0.336548</td>\n",
       "      <td>0.294863</td>\n",
       "      <td>0.126154</td>\n",
       "      <td>0.180328</td>\n",
       "      <td>-0.026095</td>\n",
       "      <td>-0.037332</td>\n",
       "      <td>0.017641</td>\n",
       "      <td>1.000000</td>\n",
       "    </tr>\n",
       "  </tbody>\n",
       "</table>\n",
       "</div>"
      ],
      "text/plain": [
       "                        category_id     views     likes  dislikes  \\\n",
       "category_id                1.000000 -0.103142 -0.115294 -0.026075   \n",
       "views                     -0.103142  1.000000  0.769552  0.467811   \n",
       "likes                     -0.115294  0.769552  1.000000  0.487032   \n",
       "dislikes                  -0.026075  0.467811  0.487032  1.000000   \n",
       "comment_count             -0.055385  0.525863  0.827878  0.622404   \n",
       "comments_disabled          0.021821 -0.014442 -0.029596 -0.010365   \n",
       "ratings_disabled           0.007811 -0.015973 -0.031037 -0.014116   \n",
       "video_error_or_removed    -0.028706  0.006746  0.005974  0.002060   \n",
       "trending_days             -0.120794  0.336548  0.294863  0.126154   \n",
       "\n",
       "                        comment_count  comments_disabled  ratings_disabled  \\\n",
       "category_id                 -0.055385           0.021821          0.007811   \n",
       "views                        0.525863          -0.014442         -0.015973   \n",
       "likes                        0.827878          -0.029596         -0.031037   \n",
       "dislikes                     0.622404          -0.010365         -0.014116   \n",
       "comment_count                1.000000          -0.027971         -0.020287   \n",
       "comments_disabled           -0.027971           1.000000          0.343475   \n",
       "ratings_disabled            -0.020287           0.343475          1.000000   \n",
       "video_error_or_removed       0.001055          -0.003277         -0.002825   \n",
       "trending_days                0.180328          -0.026095         -0.037332   \n",
       "\n",
       "                        video_error_or_removed  trending_days  \n",
       "category_id                          -0.028706      -0.120794  \n",
       "views                                 0.006746       0.336548  \n",
       "likes                                 0.005974       0.294863  \n",
       "dislikes                              0.002060       0.126154  \n",
       "comment_count                         0.001055       0.180328  \n",
       "comments_disabled                    -0.003277      -0.026095  \n",
       "ratings_disabled                     -0.002825      -0.037332  \n",
       "video_error_or_removed                1.000000       0.017641  \n",
       "trending_days                         0.017641       1.000000  "
      ]
     },
     "execution_count": 13,
     "metadata": {},
     "output_type": "execute_result"
    }
   ],
   "source": [
    "corr = country.corr(method='pearson')\n",
    "corr"
   ]
  },
  {
   "cell_type": "code",
   "execution_count": 14,
   "metadata": {},
   "outputs": [
    {
     "data": {
      "text/plain": [
       "Counter({2: 'Autos & Vehicles',\n",
       "         1: 'Film & Animation',\n",
       "         10: 'Music',\n",
       "         15: 'Pets & Animals',\n",
       "         17: 'Sports',\n",
       "         18: 'Short Movies',\n",
       "         19: 'Travel & Events',\n",
       "         20: 'Gaming',\n",
       "         21: 'Videoblogging',\n",
       "         22: 'People & Blogs',\n",
       "         23: 'Comedy',\n",
       "         24: 'Entertainment',\n",
       "         25: 'News & Politics',\n",
       "         26: 'Howto & Style',\n",
       "         27: 'Education',\n",
       "         28: 'Science & Technology',\n",
       "         29: 'Nonprofits & Activism',\n",
       "         30: 'Movies',\n",
       "         31: 'Anime/Animation',\n",
       "         32: 'Action/Adventure',\n",
       "         33: 'Classics',\n",
       "         34: 'Comedy',\n",
       "         35: 'Documentary',\n",
       "         36: 'Drama',\n",
       "         37: 'Family',\n",
       "         38: 'Foreign',\n",
       "         39: 'Horror',\n",
       "         40: 'Sci-Fi/Fantasy',\n",
       "         41: 'Thriller',\n",
       "         42: 'Shorts',\n",
       "         43: 'Shows',\n",
       "         44: 'Trailers'})"
      ]
     },
     "execution_count": 14,
     "metadata": {},
     "output_type": "execute_result"
    }
   ],
   "source": [
    "category =collections.Counter({2 : 'Autos & Vehicles', \n",
    " 1 : 'Film & Animation',\n",
    "10 : 'Music',\n",
    "15 : 'Pets & Animals',\n",
    "17 : 'Sports',\n",
    "18 : 'Short Movies',\n",
    "19 : 'Travel & Events',\n",
    "20 : 'Gaming',\n",
    "21 : 'Videoblogging',\n",
    "22 : 'People & Blogs',\n",
    "23 : 'Comedy',\n",
    "24 : 'Entertainment',\n",
    "25 : 'News & Politics',\n",
    "26 : 'Howto & Style',\n",
    "27 : 'Education',\n",
    "28 : 'Science & Technology',\n",
    "29 : 'Nonprofits & Activism',\n",
    "30 : 'Movies',\n",
    "31 : 'Anime/Animation',\n",
    "32 : 'Action/Adventure',\n",
    "33 : 'Classics',\n",
    "34 : 'Comedy',\n",
    "35 : 'Documentary',\n",
    "36 : 'Drama',\n",
    "37 : 'Family',\n",
    "38 : 'Foreign',\n",
    "39 : 'Horror',\n",
    "40 : 'Sci-Fi/Fantasy',\n",
    "41 : 'Thriller',\n",
    "42 : 'Shorts',\n",
    "43 : 'Shows',\n",
    "44 : 'Trailers'})\n",
    "category"
   ]
  },
  {
   "cell_type": "code",
   "execution_count": 15,
   "metadata": {},
   "outputs": [
    {
     "data": {
      "text/html": [
       "<div>\n",
       "<style scoped>\n",
       "    .dataframe tbody tr th:only-of-type {\n",
       "        vertical-align: middle;\n",
       "    }\n",
       "\n",
       "    .dataframe tbody tr th {\n",
       "        vertical-align: top;\n",
       "    }\n",
       "\n",
       "    .dataframe thead th {\n",
       "        text-align: right;\n",
       "    }\n",
       "</style>\n",
       "<table border=\"1\" class=\"dataframe\">\n",
       "  <thead>\n",
       "    <tr style=\"text-align: right;\">\n",
       "      <th></th>\n",
       "      <th>video_id</th>\n",
       "      <th>trending_date</th>\n",
       "      <th>title</th>\n",
       "      <th>channel_title</th>\n",
       "      <th>category_id</th>\n",
       "      <th>publish_time</th>\n",
       "      <th>tags</th>\n",
       "      <th>views</th>\n",
       "      <th>likes</th>\n",
       "      <th>dislikes</th>\n",
       "      <th>comment_count</th>\n",
       "      <th>thumbnail_link</th>\n",
       "      <th>comments_disabled</th>\n",
       "      <th>ratings_disabled</th>\n",
       "      <th>video_error_or_removed</th>\n",
       "      <th>description</th>\n",
       "      <th>trending_days</th>\n",
       "      <th>region</th>\n",
       "      <th>category</th>\n",
       "    </tr>\n",
       "  </thead>\n",
       "  <tbody>\n",
       "    <tr>\n",
       "      <td>10</td>\n",
       "      <td>9wRQljFNDW8</td>\n",
       "      <td>2017-11-14</td>\n",
       "      <td>Dion Lewis' 103-Yd Kick Return TD vs. Denver! ...</td>\n",
       "      <td>NFL</td>\n",
       "      <td>17</td>\n",
       "      <td>2017-11-13 02:05:26</td>\n",
       "      <td>NFL|\"Football\"|\"offense\"|\"defense\"|\"afc\"|\"nfc\"...</td>\n",
       "      <td>81377</td>\n",
       "      <td>655</td>\n",
       "      <td>25</td>\n",
       "      <td>177</td>\n",
       "      <td>https://i.ytimg.com/vi/9wRQljFNDW8/default.jpg</td>\n",
       "      <td>False</td>\n",
       "      <td>False</td>\n",
       "      <td>False</td>\n",
       "      <td>New England Patriots returner Dion Lewis blast...</td>\n",
       "      <td>1</td>\n",
       "      <td>US</td>\n",
       "      <td>Sports</td>\n",
       "    </tr>\n",
       "    <tr>\n",
       "      <td>36</td>\n",
       "      <td>Om_zGhJLZ5U</td>\n",
       "      <td>2017-11-14</td>\n",
       "      <td>TL;DW - Every DCEU Movie Before Justice League</td>\n",
       "      <td>Screen Junkies</td>\n",
       "      <td>1</td>\n",
       "      <td>2017-11-12 18:00:03</td>\n",
       "      <td>screenjunkies|\"screen junkies\"|\"sj news\"|\"hone...</td>\n",
       "      <td>288922</td>\n",
       "      <td>7515</td>\n",
       "      <td>792</td>\n",
       "      <td>2111</td>\n",
       "      <td>https://i.ytimg.com/vi/Om_zGhJLZ5U/default.jpg</td>\n",
       "      <td>False</td>\n",
       "      <td>False</td>\n",
       "      <td>False</td>\n",
       "      <td>With Justice League approaching fast we rewatc...</td>\n",
       "      <td>1</td>\n",
       "      <td>US</td>\n",
       "      <td>Film &amp; Animation</td>\n",
       "    </tr>\n",
       "    <tr>\n",
       "      <td>41</td>\n",
       "      <td>goP4Z5wyOlM</td>\n",
       "      <td>2017-11-14</td>\n",
       "      <td>Iraq-Iran earthquake: Deadly tremor hits borde...</td>\n",
       "      <td>BBC News</td>\n",
       "      <td>25</td>\n",
       "      <td>2017-11-12 21:16:40</td>\n",
       "      <td>bbc|\"bbc news\"|\"news\"|\"iran\"|\"iran news\"|\"iraq...</td>\n",
       "      <td>34785</td>\n",
       "      <td>308</td>\n",
       "      <td>26</td>\n",
       "      <td>413</td>\n",
       "      <td>https://i.ytimg.com/vi/goP4Z5wyOlM/default.jpg</td>\n",
       "      <td>False</td>\n",
       "      <td>False</td>\n",
       "      <td>False</td>\n",
       "      <td>A strong 7.2-magnitude earthquake has rattled ...</td>\n",
       "      <td>1</td>\n",
       "      <td>US</td>\n",
       "      <td>News &amp; Politics</td>\n",
       "    </tr>\n",
       "    <tr>\n",
       "      <td>44</td>\n",
       "      <td>STI2fI7sKMo</td>\n",
       "      <td>2017-11-14</td>\n",
       "      <td>AFFAIRS, EX BOYFRIENDS, $18MILLION NET WORTH -...</td>\n",
       "      <td>Shawn Johnson East</td>\n",
       "      <td>22</td>\n",
       "      <td>2017-11-11 15:00:03</td>\n",
       "      <td>shawn johnson|\"andrew east\"|\"shawn east\"|\"shaw...</td>\n",
       "      <td>321053</td>\n",
       "      <td>4451</td>\n",
       "      <td>1772</td>\n",
       "      <td>895</td>\n",
       "      <td>https://i.ytimg.com/vi/STI2fI7sKMo/default.jpg</td>\n",
       "      <td>False</td>\n",
       "      <td>False</td>\n",
       "      <td>False</td>\n",
       "      <td>Subscribe for weekly videos ▶ http://bit.ly/sj...</td>\n",
       "      <td>1</td>\n",
       "      <td>US</td>\n",
       "      <td>People &amp; Blogs</td>\n",
       "    </tr>\n",
       "    <tr>\n",
       "      <td>46</td>\n",
       "      <td>ogYum4kWXgk</td>\n",
       "      <td>2017-11-14</td>\n",
       "      <td>People are Awesome &amp; The Pet Collective presen...</td>\n",
       "      <td>People are Awesome</td>\n",
       "      <td>24</td>\n",
       "      <td>2017-11-13 13:00:06</td>\n",
       "      <td>people are awesome|\"people are awesome 2017\"|\"...</td>\n",
       "      <td>69844</td>\n",
       "      <td>3417</td>\n",
       "      <td>33</td>\n",
       "      <td>160</td>\n",
       "      <td>https://i.ytimg.com/vi/ogYum4kWXgk/default.jpg</td>\n",
       "      <td>False</td>\n",
       "      <td>False</td>\n",
       "      <td>False</td>\n",
       "      <td>Pets are Awesome! This is for all the animal l...</td>\n",
       "      <td>1</td>\n",
       "      <td>US</td>\n",
       "      <td>Entertainment</td>\n",
       "    </tr>\n",
       "  </tbody>\n",
       "</table>\n",
       "</div>"
      ],
      "text/plain": [
       "       video_id trending_date  \\\n",
       "10  9wRQljFNDW8    2017-11-14   \n",
       "36  Om_zGhJLZ5U    2017-11-14   \n",
       "41  goP4Z5wyOlM    2017-11-14   \n",
       "44  STI2fI7sKMo    2017-11-14   \n",
       "46  ogYum4kWXgk    2017-11-14   \n",
       "\n",
       "                                                title       channel_title  \\\n",
       "10  Dion Lewis' 103-Yd Kick Return TD vs. Denver! ...                 NFL   \n",
       "36     TL;DW - Every DCEU Movie Before Justice League      Screen Junkies   \n",
       "41  Iraq-Iran earthquake: Deadly tremor hits borde...            BBC News   \n",
       "44  AFFAIRS, EX BOYFRIENDS, $18MILLION NET WORTH -...  Shawn Johnson East   \n",
       "46  People are Awesome & The Pet Collective presen...  People are Awesome   \n",
       "\n",
       "    category_id        publish_time  \\\n",
       "10           17 2017-11-13 02:05:26   \n",
       "36            1 2017-11-12 18:00:03   \n",
       "41           25 2017-11-12 21:16:40   \n",
       "44           22 2017-11-11 15:00:03   \n",
       "46           24 2017-11-13 13:00:06   \n",
       "\n",
       "                                                 tags   views  likes  \\\n",
       "10  NFL|\"Football\"|\"offense\"|\"defense\"|\"afc\"|\"nfc\"...   81377    655   \n",
       "36  screenjunkies|\"screen junkies\"|\"sj news\"|\"hone...  288922   7515   \n",
       "41  bbc|\"bbc news\"|\"news\"|\"iran\"|\"iran news\"|\"iraq...   34785    308   \n",
       "44  shawn johnson|\"andrew east\"|\"shawn east\"|\"shaw...  321053   4451   \n",
       "46  people are awesome|\"people are awesome 2017\"|\"...   69844   3417   \n",
       "\n",
       "    dislikes  comment_count                                  thumbnail_link  \\\n",
       "10        25            177  https://i.ytimg.com/vi/9wRQljFNDW8/default.jpg   \n",
       "36       792           2111  https://i.ytimg.com/vi/Om_zGhJLZ5U/default.jpg   \n",
       "41        26            413  https://i.ytimg.com/vi/goP4Z5wyOlM/default.jpg   \n",
       "44      1772            895  https://i.ytimg.com/vi/STI2fI7sKMo/default.jpg   \n",
       "46        33            160  https://i.ytimg.com/vi/ogYum4kWXgk/default.jpg   \n",
       "\n",
       "    comments_disabled  ratings_disabled  video_error_or_removed  \\\n",
       "10              False             False                   False   \n",
       "36              False             False                   False   \n",
       "41              False             False                   False   \n",
       "44              False             False                   False   \n",
       "46              False             False                   False   \n",
       "\n",
       "                                          description  trending_days region  \\\n",
       "10  New England Patriots returner Dion Lewis blast...              1     US   \n",
       "36  With Justice League approaching fast we rewatc...              1     US   \n",
       "41  A strong 7.2-magnitude earthquake has rattled ...              1     US   \n",
       "44  Subscribe for weekly videos ▶ http://bit.ly/sj...              1     US   \n",
       "46  Pets are Awesome! This is for all the animal l...              1     US   \n",
       "\n",
       "            category  \n",
       "10            Sports  \n",
       "36  Film & Animation  \n",
       "41   News & Politics  \n",
       "44    People & Blogs  \n",
       "46     Entertainment  "
      ]
     },
     "execution_count": 15,
     "metadata": {},
     "output_type": "execute_result"
    }
   ],
   "source": [
    "country['category']=country['category_id'].map(category)\n",
    "# country = country.drop(columns = ['category_id'], axis = 1)\n",
    "country.head()"
   ]
  },
  {
   "cell_type": "code",
   "execution_count": 16,
   "metadata": {},
   "outputs": [
    {
     "data": {
      "text/plain": [
       "Entertainment            24282\n",
       "People & Blogs            7816\n",
       "News & Politics           6311\n",
       "Music                     5111\n",
       "Sports                    4253\n",
       "Comedy                    3992\n",
       "Film & Animation          3226\n",
       "Howto & Style             3142\n",
       "Gaming                    1901\n",
       "Education                 1794\n",
       "Science & Technology      1453\n",
       "Pets & Animals            1147\n",
       "Autos & Vehicles           982\n",
       "Nonprofits & Activism      296\n",
       "Travel & Events            268\n",
       "Shows                      231\n",
       "Movies                       3\n",
       "Trailers                     1\n",
       "Name: category, dtype: int64"
      ]
     },
     "execution_count": 16,
     "metadata": {},
     "output_type": "execute_result"
    }
   ],
   "source": [
    "# views by category\n",
    "\n",
    "country['category'].value_counts()"
   ]
  },
  {
   "cell_type": "markdown",
   "metadata": {},
   "source": [
    "**EDA**"
   ]
  },
  {
   "cell_type": "code",
   "execution_count": 15,
   "metadata": {},
   "outputs": [
    {
     "name": "stderr",
     "output_type": "stream",
     "text": [
      "[nltk_data] Downloading package stopwords to\n",
      "[nltk_data]     /Users/mahimakaushiva/nltk_data...\n",
      "[nltk_data]   Package stopwords is already up-to-date!\n",
      "[nltk_data] Downloading package punkt to\n",
      "[nltk_data]     /Users/mahimakaushiva/nltk_data...\n",
      "[nltk_data]   Package punkt is already up-to-date!\n"
     ]
    }
   ],
   "source": [
    "# Sentiment analysis on video tags\n",
    "# importing libraries\n",
    "\n",
    "from wordcloud import WordCloud\n",
    "import nltk\n",
    "nltk.download('stopwords')\n",
    "nltk.download('punkt')\n",
    "from nltk.sentiment import SentimentIntensityAnalyzer\n",
    "from nltk.corpus import stopwords\n",
    "from nltk import sent_tokenize, word_tokenize\n",
    "from wordcloud import WordCloud, STOPWORDS\n",
    "\n",
    "from collections import Counter\n",
    "from nltk.tokenize import RegexpTokenizer\n",
    "import re"
   ]
  },
  {
   "cell_type": "code",
   "execution_count": 16,
   "metadata": {},
   "outputs": [],
   "source": [
    "MAX_N = 1000\n",
    "\n",
    "\n",
    "en_stopwords = list(stopwords.words('english'))\n",
    "de_stopwords = list(stopwords.words('german'))   \n",
    "en_stopwords.extend(de_stopwords)\n"
   ]
  },
  {
   "cell_type": "code",
   "execution_count": 18,
   "metadata": {},
   "outputs": [],
   "source": [
    "# polarities = list()\n",
    "\n",
    "\n",
    "# for cate in category_list:\n",
    "#     tags_word = country[country['category']==cate]['tags'].str.lower().str.cat(sep=' ')\n",
    "\n",
    "# # removes punctuation,numbers and returns list of words\n",
    "#     tags_word = re.sub('[^A-Za-z]+', ' ', tags_word)\n",
    "#     word_tokens = word_tokenize(tags_word)\n",
    "#     filtered_sentence = [w for w in word_tokens if not w in en_stopwords]\n",
    "#     without_single_chr = [word for word in filtered_sentence if len(word) > 2]\n",
    "\n",
    "# # Remove numbers\n",
    "#     cleaned_data_title = [word for word in without_single_chr if not word.isdigit()]      \n",
    "    \n",
    "# # Calculate frequency distribution\n",
    "#     word_dist = nltk.FreqDist(cleaned_data_title)\n",
    "#     hnhk = pd.DataFrame(word_dist.most_common(MAX_N), columns=['Word', 'Frequency'])\n",
    "\n",
    "#     compound = .0\n",
    "#     for word in hnhk['Word'].head(MAX_N):\n",
    "#         compound += SentimentIntensityAnalyzer().polarity_scores(word)['compound']\n",
    "\n",
    "#     polarities.append(compound)\n",
    "\n",
    "# category_list = pd.DataFrame(category_list)\n",
    "# polarities = pd.DataFrame(polarities)\n",
    "# tags_sentiment = pd.concat([category_list,polarities],axis=1)\n",
    "# tags_sentiment.columns = ['category','polarity']\n",
    "# tags_sentiment=tags_sentiment.sort_values('polarity').reset_index()\n",
    "\n",
    "# plt.figure(figsize=(16,10))\n",
    "# sns.set(style=\"white\",context=\"talk\")\n",
    "# ax = sns.barplot(x=tags_sentiment['polarity'],y=tags_sentiment['category'], data=tags_sentiment,orient='h',palette=\"RdBu\")\n",
    "# plt.xlabel(\"Categories\")\n",
    "# plt.ylabel(\"Polarity\")\n",
    "# plt.title(\"Polarity of Categories in Youtube videos\")"
   ]
  },
  {
   "cell_type": "code",
   "execution_count": 19,
   "metadata": {},
   "outputs": [],
   "source": [
    "def wcloud(data,bgcolor):\n",
    "    plt.figure(figsize = (20,15))\n",
    "    cloud = WordCloud(background_color = bgcolor, max_words = 100,  max_font_size = 50)\n",
    "    cloud.generate(' '.join(data))\n",
    "    plt.imshow(cloud)\n",
    "    plt.axis('off')"
   ]
  },
  {
   "cell_type": "code",
   "execution_count": 24,
   "metadata": {},
   "outputs": [
    {
     "data": {
      "image/png": "[encoded data removed]",
      "text/plain": [
       "<Figure size 1440x1080 with 1 Axes>"
      ]
     },
     "metadata": {
      "needs_background": "light"
     },
     "output_type": "display_data"
    }
   ],
   "source": [
    "tags_word = country[country['category']=='Comedy']['tags'].str.lower().str.cat(sep=' ')\n",
    "\n",
    "tags_word = re.sub('[^A-Za-z]+', ' ', tags_word)\n",
    "word_tokens = word_tokenize(tags_word)\n",
    "filtered_sentence = [w for w in word_tokens if not w in en_stopwords]\n",
    "without_single_chr = [word for word in filtered_sentence if len(word) > 2]\n",
    "cleaned_data_title = [word for word in without_single_chr if not word.isdigit()]\n",
    "\n",
    "wcloud(cleaned_data_title,'white')"
   ]
  },
  {
   "cell_type": "code",
   "execution_count": 27,
   "metadata": {},
   "outputs": [
    {
     "data": {
      "image/png": "[encoded data removed]",
      "text/plain": [
       "<Figure size 1440x1080 with 1 Axes>"
      ]
     },
     "metadata": {
      "needs_background": "light"
     },
     "output_type": "display_data"
    }
   ],
   "source": [
    "titles_word = country[country['category']=='Comedy']['title'].str.lower().str.cat(sep=' ')\n",
    "\n",
    "titles_word = re.sub('[^A-Za-z]+', ' ', titles_word)\n",
    "word_tokens = word_tokenize(titles_word)\n",
    "filtered_sentence = [w for w in word_tokens if not w in en_stopwords]\n",
    "without_single_chr = [word for word in filtered_sentence if len(word) > 2]\n",
    "cleaned_data_title = [word for word in without_single_chr if not word.isdigit()]\n",
    "\n",
    "wcloud(cleaned_data_title,'white')"
   ]
  },
  {
   "cell_type": "code",
   "execution_count": 33,
   "metadata": {},
   "outputs": [
    {
     "data": {
      "image/png": "[encoded data removed]",
      "text/plain": [
       "<Figure size 1440x1080 with 1 Axes>"
      ]
     },
     "metadata": {
      "needs_background": "light"
     },
     "output_type": "display_data"
    }
   ],
   "source": [
    "titles_word = country[country['category']=='Sports']['title'].str.lower().str.cat(sep=' ')\n",
    "\n",
    "titles_word = re.sub('[^A-Za-z]+', ' ', titles_word)\n",
    "word_tokens = word_tokenize(titles_word)\n",
    "filtered_sentence = [w for w in word_tokens if not w in en_stopwords]\n",
    "without_single_chr = [word for word in filtered_sentence if len(word) > 2]\n",
    "cleaned_data_titles = [word for word in without_single_chr if not word.isdigit()]\n",
    "\n",
    "wcloud(cleaned_data_titles,'white')"
   ]
  },
  {
   "cell_type": "code",
   "execution_count": 34,
   "metadata": {},
   "outputs": [
    {
     "data": {
      "image/png": "[encoded data removed]",
      "text/plain": [
       "<Figure size 1440x1080 with 1 Axes>"
      ]
     },
     "metadata": {
      "needs_background": "light"
     },
     "output_type": "display_data"
    }
   ],
   "source": [
    "tags_word = country[country['category']=='Sports']['tags'].str.lower().str.cat(sep=' ')\n",
    "\n",
    "tags_word = re.sub('[^A-Za-z]+', ' ', tags_word)\n",
    "word_tokens = word_tokenize(tags_word)\n",
    "filtered_sentence = [w for w in word_tokens if not w in en_stopwords]\n",
    "without_single_chr = [word for word in filtered_sentence if len(word) > 2]\n",
    "cleaned_data_tags = [word for word in without_single_chr if not word.isdigit()]\n",
    "\n",
    "wcloud(cleaned_data_tags,'white')"
   ]
  },
  {
   "cell_type": "code",
   "execution_count": 50,
   "metadata": {},
   "outputs": [
    {
     "data": {
      "text/plain": [
       "0.8"
      ]
     },
     "execution_count": 50,
     "metadata": {},
     "output_type": "execute_result"
    }
   ],
   "source": [
    "# Calculating polarity, subjectivity and intensity\n",
    "\n",
    "from textblob import TextBlob\n",
    "\n",
    "TextBlob('i am so happy').polarity"
   ]
  },
  {
   "cell_type": "code",
   "execution_count": 28,
   "metadata": {},
   "outputs": [
    {
     "name": "stdout",
     "output_type": "stream",
     "text": [
      "Empty DataFrame\n",
      "Columns: [channel_title, title, tags, description, category_id, category, region, trending_days, views]\n",
      "Index: []\n"
     ]
    }
   ],
   "source": [
    "# dropping the trailers and movies categories as they are too small\n",
    "\n",
    "trailers = country[country.category == 'Trailers']\n",
    "print(trailers)"
   ]
  },
  {
   "cell_type": "code",
   "execution_count": 29,
   "metadata": {},
   "outputs": [
    {
     "ename": "KeyError",
     "evalue": "'[25841] not found in axis'",
     "output_type": "error",
     "traceback": [
      "\u001b[0;31m---------------------------------------------------------------------------\u001b[0m",
      "\u001b[0;31mKeyError\u001b[0m                                  Traceback (most recent call last)",
      "\u001b[0;32m<ipython-input-29-8b1988eecf76>\u001b[0m in \u001b[0;36m<module>\u001b[0;34m\u001b[0m\n\u001b[1;32m      1\u001b[0m \u001b[0;31m# delete row with index object 25841\u001b[0m\u001b[0;34m\u001b[0m\u001b[0;34m\u001b[0m\u001b[0;34m\u001b[0m\u001b[0m\n\u001b[1;32m      2\u001b[0m \u001b[0;34m\u001b[0m\u001b[0m\n\u001b[0;32m----> 3\u001b[0;31m \u001b[0mcountry\u001b[0m \u001b[0;34m=\u001b[0m \u001b[0mcountry\u001b[0m\u001b[0;34m.\u001b[0m\u001b[0mdrop\u001b[0m\u001b[0;34m(\u001b[0m\u001b[0;34m[\u001b[0m\u001b[0;36m25841\u001b[0m\u001b[0;34m]\u001b[0m\u001b[0;34m,\u001b[0m \u001b[0maxis\u001b[0m\u001b[0;34m=\u001b[0m\u001b[0;36m0\u001b[0m\u001b[0;34m)\u001b[0m\u001b[0;34m\u001b[0m\u001b[0;34m\u001b[0m\u001b[0m\n\u001b[0m",
      "\u001b[0;32m~/opt/anaconda3/lib/python3.7/site-packages/pandas/core/frame.py\u001b[0m in \u001b[0;36mdrop\u001b[0;34m(self, labels, axis, index, columns, level, inplace, errors)\u001b[0m\n\u001b[1;32m   4100\u001b[0m             \u001b[0mlevel\u001b[0m\u001b[0;34m=\u001b[0m\u001b[0mlevel\u001b[0m\u001b[0;34m,\u001b[0m\u001b[0;34m\u001b[0m\u001b[0;34m\u001b[0m\u001b[0m\n\u001b[1;32m   4101\u001b[0m             \u001b[0minplace\u001b[0m\u001b[0;34m=\u001b[0m\u001b[0minplace\u001b[0m\u001b[0;34m,\u001b[0m\u001b[0;34m\u001b[0m\u001b[0;34m\u001b[0m\u001b[0m\n\u001b[0;32m-> 4102\u001b[0;31m             \u001b[0merrors\u001b[0m\u001b[0;34m=\u001b[0m\u001b[0merrors\u001b[0m\u001b[0;34m,\u001b[0m\u001b[0;34m\u001b[0m\u001b[0;34m\u001b[0m\u001b[0m\n\u001b[0m\u001b[1;32m   4103\u001b[0m         )\n\u001b[1;32m   4104\u001b[0m \u001b[0;34m\u001b[0m\u001b[0m\n",
      "\u001b[0;32m~/opt/anaconda3/lib/python3.7/site-packages/pandas/core/generic.py\u001b[0m in \u001b[0;36mdrop\u001b[0;34m(self, labels, axis, index, columns, level, inplace, errors)\u001b[0m\n\u001b[1;32m   3912\u001b[0m         \u001b[0;32mfor\u001b[0m \u001b[0maxis\u001b[0m\u001b[0;34m,\u001b[0m \u001b[0mlabels\u001b[0m \u001b[0;32min\u001b[0m \u001b[0maxes\u001b[0m\u001b[0;34m.\u001b[0m\u001b[0mitems\u001b[0m\u001b[0;34m(\u001b[0m\u001b[0;34m)\u001b[0m\u001b[0;34m:\u001b[0m\u001b[0;34m\u001b[0m\u001b[0;34m\u001b[0m\u001b[0m\n\u001b[1;32m   3913\u001b[0m             \u001b[0;32mif\u001b[0m \u001b[0mlabels\u001b[0m \u001b[0;32mis\u001b[0m \u001b[0;32mnot\u001b[0m \u001b[0;32mNone\u001b[0m\u001b[0;34m:\u001b[0m\u001b[0;34m\u001b[0m\u001b[0;34m\u001b[0m\u001b[0m\n\u001b[0;32m-> 3914\u001b[0;31m                 \u001b[0mobj\u001b[0m \u001b[0;34m=\u001b[0m \u001b[0mobj\u001b[0m\u001b[0;34m.\u001b[0m\u001b[0m_drop_axis\u001b[0m\u001b[0;34m(\u001b[0m\u001b[0mlabels\u001b[0m\u001b[0;34m,\u001b[0m \u001b[0maxis\u001b[0m\u001b[0;34m,\u001b[0m \u001b[0mlevel\u001b[0m\u001b[0;34m=\u001b[0m\u001b[0mlevel\u001b[0m\u001b[0;34m,\u001b[0m \u001b[0merrors\u001b[0m\u001b[0;34m=\u001b[0m\u001b[0merrors\u001b[0m\u001b[0;34m)\u001b[0m\u001b[0;34m\u001b[0m\u001b[0;34m\u001b[0m\u001b[0m\n\u001b[0m\u001b[1;32m   3915\u001b[0m \u001b[0;34m\u001b[0m\u001b[0m\n\u001b[1;32m   3916\u001b[0m         \u001b[0;32mif\u001b[0m \u001b[0minplace\u001b[0m\u001b[0;34m:\u001b[0m\u001b[0;34m\u001b[0m\u001b[0;34m\u001b[0m\u001b[0m\n",
      "\u001b[0;32m~/opt/anaconda3/lib/python3.7/site-packages/pandas/core/generic.py\u001b[0m in \u001b[0;36m_drop_axis\u001b[0;34m(self, labels, axis, level, errors)\u001b[0m\n\u001b[1;32m   3963\u001b[0m                 \u001b[0mlabels_missing\u001b[0m \u001b[0;34m=\u001b[0m \u001b[0;34m(\u001b[0m\u001b[0maxis\u001b[0m\u001b[0;34m.\u001b[0m\u001b[0mget_indexer_for\u001b[0m\u001b[0;34m(\u001b[0m\u001b[0mlabels\u001b[0m\u001b[0;34m)\u001b[0m \u001b[0;34m==\u001b[0m \u001b[0;34m-\u001b[0m\u001b[0;36m1\u001b[0m\u001b[0;34m)\u001b[0m\u001b[0;34m.\u001b[0m\u001b[0many\u001b[0m\u001b[0;34m(\u001b[0m\u001b[0;34m)\u001b[0m\u001b[0;34m\u001b[0m\u001b[0;34m\u001b[0m\u001b[0m\n\u001b[1;32m   3964\u001b[0m                 \u001b[0;32mif\u001b[0m \u001b[0merrors\u001b[0m \u001b[0;34m==\u001b[0m \u001b[0;34m\"raise\"\u001b[0m \u001b[0;32mand\u001b[0m \u001b[0mlabels_missing\u001b[0m\u001b[0;34m:\u001b[0m\u001b[0;34m\u001b[0m\u001b[0;34m\u001b[0m\u001b[0m\n\u001b[0;32m-> 3965\u001b[0;31m                     \u001b[0;32mraise\u001b[0m \u001b[0mKeyError\u001b[0m\u001b[0;34m(\u001b[0m\u001b[0;34m\"{} not found in axis\"\u001b[0m\u001b[0;34m.\u001b[0m\u001b[0mformat\u001b[0m\u001b[0;34m(\u001b[0m\u001b[0mlabels\u001b[0m\u001b[0;34m)\u001b[0m\u001b[0;34m)\u001b[0m\u001b[0;34m\u001b[0m\u001b[0;34m\u001b[0m\u001b[0m\n\u001b[0m\u001b[1;32m   3966\u001b[0m \u001b[0;34m\u001b[0m\u001b[0m\n\u001b[1;32m   3967\u001b[0m             \u001b[0mslicer\u001b[0m \u001b[0;34m=\u001b[0m \u001b[0;34m[\u001b[0m\u001b[0mslice\u001b[0m\u001b[0;34m(\u001b[0m\u001b[0;32mNone\u001b[0m\u001b[0;34m)\u001b[0m\u001b[0;34m]\u001b[0m \u001b[0;34m*\u001b[0m \u001b[0mself\u001b[0m\u001b[0;34m.\u001b[0m\u001b[0mndim\u001b[0m\u001b[0;34m\u001b[0m\u001b[0;34m\u001b[0m\u001b[0m\n",
      "\u001b[0;31mKeyError\u001b[0m: '[25841] not found in axis'"
     ]
    }
   ],
   "source": [
    "# delete row with index object 25841\n",
    "\n",
    "country = country.drop([25841], axis=0)"
   ]
  },
  {
   "cell_type": "code",
   "execution_count": 30,
   "metadata": {},
   "outputs": [
    {
     "name": "stdout",
     "output_type": "stream",
     "text": [
      "Empty DataFrame\n",
      "Columns: [channel_title, title, tags, description, category_id, category, region, trending_days, views]\n",
      "Index: []\n"
     ]
    }
   ],
   "source": [
    "movies = country[country.category == 'Movies']\n",
    "print(movies)"
   ]
  },
  {
   "cell_type": "code",
   "execution_count": 27,
   "metadata": {},
   "outputs": [
    {
     "ename": "KeyError",
     "evalue": "'[9376 36042 38400] not found in axis'",
     "output_type": "error",
     "traceback": [
      "\u001b[0;31m---------------------------------------------------------------------------\u001b[0m",
      "\u001b[0;31mKeyError\u001b[0m                                  Traceback (most recent call last)",
      "\u001b[0;32m<ipython-input-27-8d2f6b086781>\u001b[0m in \u001b[0;36m<module>\u001b[0;34m\u001b[0m\n\u001b[1;32m      1\u001b[0m \u001b[0;31m# delete rows\u001b[0m\u001b[0;34m\u001b[0m\u001b[0;34m\u001b[0m\u001b[0;34m\u001b[0m\u001b[0m\n\u001b[1;32m      2\u001b[0m \u001b[0;34m\u001b[0m\u001b[0m\n\u001b[0;32m----> 3\u001b[0;31m \u001b[0mcountry\u001b[0m \u001b[0;34m=\u001b[0m \u001b[0mcountry\u001b[0m\u001b[0;34m.\u001b[0m\u001b[0mdrop\u001b[0m\u001b[0;34m(\u001b[0m\u001b[0;34m[\u001b[0m\u001b[0;36m9376\u001b[0m\u001b[0;34m,\u001b[0m \u001b[0;36m36042\u001b[0m\u001b[0;34m,\u001b[0m \u001b[0;36m38400\u001b[0m\u001b[0;34m]\u001b[0m\u001b[0;34m,\u001b[0m \u001b[0maxis\u001b[0m\u001b[0;34m=\u001b[0m\u001b[0;36m0\u001b[0m\u001b[0;34m)\u001b[0m\u001b[0;34m\u001b[0m\u001b[0;34m\u001b[0m\u001b[0m\n\u001b[0m",
      "\u001b[0;32m~/opt/anaconda3/lib/python3.7/site-packages/pandas/core/frame.py\u001b[0m in \u001b[0;36mdrop\u001b[0;34m(self, labels, axis, index, columns, level, inplace, errors)\u001b[0m\n\u001b[1;32m   4100\u001b[0m             \u001b[0mlevel\u001b[0m\u001b[0;34m=\u001b[0m\u001b[0mlevel\u001b[0m\u001b[0;34m,\u001b[0m\u001b[0;34m\u001b[0m\u001b[0;34m\u001b[0m\u001b[0m\n\u001b[1;32m   4101\u001b[0m             \u001b[0minplace\u001b[0m\u001b[0;34m=\u001b[0m\u001b[0minplace\u001b[0m\u001b[0;34m,\u001b[0m\u001b[0;34m\u001b[0m\u001b[0;34m\u001b[0m\u001b[0m\n\u001b[0;32m-> 4102\u001b[0;31m             \u001b[0merrors\u001b[0m\u001b[0;34m=\u001b[0m\u001b[0merrors\u001b[0m\u001b[0;34m,\u001b[0m\u001b[0;34m\u001b[0m\u001b[0;34m\u001b[0m\u001b[0m\n\u001b[0m\u001b[1;32m   4103\u001b[0m         )\n\u001b[1;32m   4104\u001b[0m \u001b[0;34m\u001b[0m\u001b[0m\n",
      "\u001b[0;32m~/opt/anaconda3/lib/python3.7/site-packages/pandas/core/generic.py\u001b[0m in \u001b[0;36mdrop\u001b[0;34m(self, labels, axis, index, columns, level, inplace, errors)\u001b[0m\n\u001b[1;32m   3912\u001b[0m         \u001b[0;32mfor\u001b[0m \u001b[0maxis\u001b[0m\u001b[0;34m,\u001b[0m \u001b[0mlabels\u001b[0m \u001b[0;32min\u001b[0m \u001b[0maxes\u001b[0m\u001b[0;34m.\u001b[0m\u001b[0mitems\u001b[0m\u001b[0;34m(\u001b[0m\u001b[0;34m)\u001b[0m\u001b[0;34m:\u001b[0m\u001b[0;34m\u001b[0m\u001b[0;34m\u001b[0m\u001b[0m\n\u001b[1;32m   3913\u001b[0m             \u001b[0;32mif\u001b[0m \u001b[0mlabels\u001b[0m \u001b[0;32mis\u001b[0m \u001b[0;32mnot\u001b[0m \u001b[0;32mNone\u001b[0m\u001b[0;34m:\u001b[0m\u001b[0;34m\u001b[0m\u001b[0;34m\u001b[0m\u001b[0m\n\u001b[0;32m-> 3914\u001b[0;31m                 \u001b[0mobj\u001b[0m \u001b[0;34m=\u001b[0m \u001b[0mobj\u001b[0m\u001b[0;34m.\u001b[0m\u001b[0m_drop_axis\u001b[0m\u001b[0;34m(\u001b[0m\u001b[0mlabels\u001b[0m\u001b[0;34m,\u001b[0m \u001b[0maxis\u001b[0m\u001b[0;34m,\u001b[0m \u001b[0mlevel\u001b[0m\u001b[0;34m=\u001b[0m\u001b[0mlevel\u001b[0m\u001b[0;34m,\u001b[0m \u001b[0merrors\u001b[0m\u001b[0;34m=\u001b[0m\u001b[0merrors\u001b[0m\u001b[0;34m)\u001b[0m\u001b[0;34m\u001b[0m\u001b[0;34m\u001b[0m\u001b[0m\n\u001b[0m\u001b[1;32m   3915\u001b[0m \u001b[0;34m\u001b[0m\u001b[0m\n\u001b[1;32m   3916\u001b[0m         \u001b[0;32mif\u001b[0m \u001b[0minplace\u001b[0m\u001b[0;34m:\u001b[0m\u001b[0;34m\u001b[0m\u001b[0;34m\u001b[0m\u001b[0m\n",
      "\u001b[0;32m~/opt/anaconda3/lib/python3.7/site-packages/pandas/core/generic.py\u001b[0m in \u001b[0;36m_drop_axis\u001b[0;34m(self, labels, axis, level, errors)\u001b[0m\n\u001b[1;32m   3963\u001b[0m                 \u001b[0mlabels_missing\u001b[0m \u001b[0;34m=\u001b[0m \u001b[0;34m(\u001b[0m\u001b[0maxis\u001b[0m\u001b[0;34m.\u001b[0m\u001b[0mget_indexer_for\u001b[0m\u001b[0;34m(\u001b[0m\u001b[0mlabels\u001b[0m\u001b[0;34m)\u001b[0m \u001b[0;34m==\u001b[0m \u001b[0;34m-\u001b[0m\u001b[0;36m1\u001b[0m\u001b[0;34m)\u001b[0m\u001b[0;34m.\u001b[0m\u001b[0many\u001b[0m\u001b[0;34m(\u001b[0m\u001b[0;34m)\u001b[0m\u001b[0;34m\u001b[0m\u001b[0;34m\u001b[0m\u001b[0m\n\u001b[1;32m   3964\u001b[0m                 \u001b[0;32mif\u001b[0m \u001b[0merrors\u001b[0m \u001b[0;34m==\u001b[0m \u001b[0;34m\"raise\"\u001b[0m \u001b[0;32mand\u001b[0m \u001b[0mlabels_missing\u001b[0m\u001b[0;34m:\u001b[0m\u001b[0;34m\u001b[0m\u001b[0;34m\u001b[0m\u001b[0m\n\u001b[0;32m-> 3965\u001b[0;31m                     \u001b[0;32mraise\u001b[0m \u001b[0mKeyError\u001b[0m\u001b[0;34m(\u001b[0m\u001b[0;34m\"{} not found in axis\"\u001b[0m\u001b[0;34m.\u001b[0m\u001b[0mformat\u001b[0m\u001b[0;34m(\u001b[0m\u001b[0mlabels\u001b[0m\u001b[0;34m)\u001b[0m\u001b[0;34m)\u001b[0m\u001b[0;34m\u001b[0m\u001b[0;34m\u001b[0m\u001b[0m\n\u001b[0m\u001b[1;32m   3966\u001b[0m \u001b[0;34m\u001b[0m\u001b[0m\n\u001b[1;32m   3967\u001b[0m             \u001b[0mslicer\u001b[0m \u001b[0;34m=\u001b[0m \u001b[0;34m[\u001b[0m\u001b[0mslice\u001b[0m\u001b[0;34m(\u001b[0m\u001b[0;32mNone\u001b[0m\u001b[0;34m)\u001b[0m\u001b[0;34m]\u001b[0m \u001b[0;34m*\u001b[0m \u001b[0mself\u001b[0m\u001b[0;34m.\u001b[0m\u001b[0mndim\u001b[0m\u001b[0;34m\u001b[0m\u001b[0;34m\u001b[0m\u001b[0m\n",
      "\u001b[0;31mKeyError\u001b[0m: '[9376 36042 38400] not found in axis'"
     ]
    }
   ],
   "source": [
    "# delete rows\n",
    "\n",
    "country = country.drop([9376, 36042, 38400], axis=0)"
   ]
  },
  {
   "cell_type": "code",
   "execution_count": 31,
   "metadata": {},
   "outputs": [
    {
     "data": {
      "text/plain": [
       "Entertainment            24280\n",
       "People & Blogs            7816\n",
       "News & Politics           6311\n",
       "Music                     5110\n",
       "Sports                    4252\n",
       "Comedy                    3992\n",
       "Film & Animation          3226\n",
       "Howto & Style             3142\n",
       "Gaming                    1901\n",
       "Education                 1794\n",
       "Science & Technology      1453\n",
       "Pets & Animals            1147\n",
       "Autos & Vehicles           982\n",
       "Nonprofits & Activism      296\n",
       "Travel & Events            268\n",
       "Shows                      231\n",
       "Name: category, dtype: int64"
      ]
     },
     "execution_count": 31,
     "metadata": {},
     "output_type": "execute_result"
    }
   ],
   "source": [
    "country.category.value_counts()"
   ]
  },
  {
   "cell_type": "code",
   "execution_count": 19,
   "metadata": {},
   "outputs": [
    {
     "data": {
      "text/plain": [
       "(66202, 19)"
      ]
     },
     "execution_count": 19,
     "metadata": {},
     "output_type": "execute_result"
    }
   ],
   "source": [
    "country.shape"
   ]
  },
  {
   "cell_type": "code",
   "execution_count": 20,
   "metadata": {},
   "outputs": [
    {
     "data": {
      "text/html": [
       "<div>\n",
       "<style scoped>\n",
       "    .dataframe tbody tr th:only-of-type {\n",
       "        vertical-align: middle;\n",
       "    }\n",
       "\n",
       "    .dataframe tbody tr th {\n",
       "        vertical-align: top;\n",
       "    }\n",
       "\n",
       "    .dataframe thead th {\n",
       "        text-align: right;\n",
       "    }\n",
       "</style>\n",
       "<table border=\"1\" class=\"dataframe\">\n",
       "  <thead>\n",
       "    <tr style=\"text-align: right;\">\n",
       "      <th></th>\n",
       "      <th>channel_title</th>\n",
       "      <th>title</th>\n",
       "      <th>tags</th>\n",
       "      <th>description</th>\n",
       "      <th>category_id</th>\n",
       "      <th>category</th>\n",
       "      <th>region</th>\n",
       "      <th>trending_days</th>\n",
       "      <th>views</th>\n",
       "    </tr>\n",
       "  </thead>\n",
       "  <tbody>\n",
       "    <tr>\n",
       "      <td>10</td>\n",
       "      <td>NFL</td>\n",
       "      <td>Dion Lewis' 103-Yd Kick Return TD vs. Denver! ...</td>\n",
       "      <td>NFL|\"Football\"|\"offense\"|\"defense\"|\"afc\"|\"nfc\"...</td>\n",
       "      <td>New England Patriots returner Dion Lewis blast...</td>\n",
       "      <td>17</td>\n",
       "      <td>Sports</td>\n",
       "      <td>US</td>\n",
       "      <td>1</td>\n",
       "      <td>81377</td>\n",
       "    </tr>\n",
       "    <tr>\n",
       "      <td>36</td>\n",
       "      <td>Screen Junkies</td>\n",
       "      <td>TL;DW - Every DCEU Movie Before Justice League</td>\n",
       "      <td>screenjunkies|\"screen junkies\"|\"sj news\"|\"hone...</td>\n",
       "      <td>With Justice League approaching fast we rewatc...</td>\n",
       "      <td>1</td>\n",
       "      <td>Film &amp; Animation</td>\n",
       "      <td>US</td>\n",
       "      <td>1</td>\n",
       "      <td>288922</td>\n",
       "    </tr>\n",
       "    <tr>\n",
       "      <td>41</td>\n",
       "      <td>BBC News</td>\n",
       "      <td>Iraq-Iran earthquake: Deadly tremor hits borde...</td>\n",
       "      <td>bbc|\"bbc news\"|\"news\"|\"iran\"|\"iran news\"|\"iraq...</td>\n",
       "      <td>A strong 7.2-magnitude earthquake has rattled ...</td>\n",
       "      <td>25</td>\n",
       "      <td>News &amp; Politics</td>\n",
       "      <td>US</td>\n",
       "      <td>1</td>\n",
       "      <td>34785</td>\n",
       "    </tr>\n",
       "    <tr>\n",
       "      <td>44</td>\n",
       "      <td>Shawn Johnson East</td>\n",
       "      <td>AFFAIRS, EX BOYFRIENDS, $18MILLION NET WORTH -...</td>\n",
       "      <td>shawn johnson|\"andrew east\"|\"shawn east\"|\"shaw...</td>\n",
       "      <td>Subscribe for weekly videos ▶ http://bit.ly/sj...</td>\n",
       "      <td>22</td>\n",
       "      <td>People &amp; Blogs</td>\n",
       "      <td>US</td>\n",
       "      <td>1</td>\n",
       "      <td>321053</td>\n",
       "    </tr>\n",
       "    <tr>\n",
       "      <td>46</td>\n",
       "      <td>People are Awesome</td>\n",
       "      <td>People are Awesome &amp; The Pet Collective presen...</td>\n",
       "      <td>people are awesome|\"people are awesome 2017\"|\"...</td>\n",
       "      <td>Pets are Awesome! This is for all the animal l...</td>\n",
       "      <td>24</td>\n",
       "      <td>Entertainment</td>\n",
       "      <td>US</td>\n",
       "      <td>1</td>\n",
       "      <td>69844</td>\n",
       "    </tr>\n",
       "  </tbody>\n",
       "</table>\n",
       "</div>"
      ],
      "text/plain": [
       "         channel_title                                              title  \\\n",
       "10                 NFL  Dion Lewis' 103-Yd Kick Return TD vs. Denver! ...   \n",
       "36      Screen Junkies     TL;DW - Every DCEU Movie Before Justice League   \n",
       "41            BBC News  Iraq-Iran earthquake: Deadly tremor hits borde...   \n",
       "44  Shawn Johnson East  AFFAIRS, EX BOYFRIENDS, $18MILLION NET WORTH -...   \n",
       "46  People are Awesome  People are Awesome & The Pet Collective presen...   \n",
       "\n",
       "                                                 tags  \\\n",
       "10  NFL|\"Football\"|\"offense\"|\"defense\"|\"afc\"|\"nfc\"...   \n",
       "36  screenjunkies|\"screen junkies\"|\"sj news\"|\"hone...   \n",
       "41  bbc|\"bbc news\"|\"news\"|\"iran\"|\"iran news\"|\"iraq...   \n",
       "44  shawn johnson|\"andrew east\"|\"shawn east\"|\"shaw...   \n",
       "46  people are awesome|\"people are awesome 2017\"|\"...   \n",
       "\n",
       "                                          description  category_id  \\\n",
       "10  New England Patriots returner Dion Lewis blast...           17   \n",
       "36  With Justice League approaching fast we rewatc...            1   \n",
       "41  A strong 7.2-magnitude earthquake has rattled ...           25   \n",
       "44  Subscribe for weekly videos ▶ http://bit.ly/sj...           22   \n",
       "46  Pets are Awesome! This is for all the animal l...           24   \n",
       "\n",
       "            category region  trending_days   views  \n",
       "10            Sports     US              1   81377  \n",
       "36  Film & Animation     US              1  288922  \n",
       "41   News & Politics     US              1   34785  \n",
       "44    People & Blogs     US              1  321053  \n",
       "46     Entertainment     US              1   69844  "
      ]
     },
     "execution_count": 20,
     "metadata": {},
     "output_type": "execute_result"
    }
   ],
   "source": [
    "# building our df for text preprocessing\n",
    "\n",
    "country = country[['channel_title', 'title', 'tags', 'description', 'category_id', 'category', 'region','trending_days', 'views']]\n",
    "country.head()"
   ]
  },
  {
   "cell_type": "code",
   "execution_count": null,
   "metadata": {},
   "outputs": [],
   "source": [
    "# Text Pre-processing\n",
    "\n",
    "!pip install spacy"
   ]
  },
  {
   "cell_type": "code",
   "execution_count": 69,
   "metadata": {},
   "outputs": [],
   "source": [
    "import gensim\n",
    "import nltk\n",
    "from sklearn.model_selection import train_test_split\n",
    "from sklearn.feature_extraction.text import CountVectorizer, TfidfVectorizer\n",
    "from sklearn.metrics import accuracy_score, confusion_matrix\n",
    "import matplotlib.pyplot as plt\n",
    "from nltk.corpus import stopwords\n",
    "import re\n",
    "from bs4 import BeautifulSoup\n",
    "%matplotlib inline\n",
    "from spacy.lang.en import English\n",
    "from translate import Translator"
   ]
  },
  {
   "cell_type": "code",
   "execution_count": 70,
   "metadata": {},
   "outputs": [
    {
     "data": {
      "text/plain": [
       "<matplotlib.axes._subplots.AxesSubplot at 0x1a25f64f50>"
      ]
     },
     "execution_count": 70,
     "metadata": {},
     "output_type": "execute_result"
    },
    {
     "data": {
      "image/png": "[encoded data removed]",
      "text/plain": [
       "<Figure size 720x288 with 1 Axes>"
      ]
     },
     "metadata": {
      "needs_background": "light"
     },
     "output_type": "display_data"
    }
   ],
   "source": [
    "my_category = ['Entertainment', 'People & Blogs','News & Politics','Music','Sports','Comedy','Film & Animation',\n",
    "           'Howto & Style','Gaming','Education', 'Science & Technology','Pets & Animals','Autos & Vehicles',\n",
    "           'Nonprofits & Activism','Travel & Events','Shows']\n",
    "plt.figure(figsize=(10,4))\n",
    "country.category.value_counts().plot(kind= 'bar')"
   ]
  },
  {
   "cell_type": "code",
   "execution_count": 89,
   "metadata": {},
   "outputs": [
    {
     "data": {
      "text/plain": [
       "10       Dion Lewis' 103-Yd Kick Return TD vs. Denver! ...\n",
       "36       TL;DW - Every DCEU Movie Before Justice League...\n",
       "41       Iraq-Iran earthquake: Deadly tremor hits borde...\n",
       "44       AFFAIRS, EX BOYFRIENDS, $18MILLION NET WORTH -...\n",
       "46       People are Awesome & The Pet Collective presen...\n",
       "                               ...                        \n",
       "20518    หนึ่งด้าวฟ้าเดียว NeungDaoFahDeaw EP.15 ตอนที่...\n",
       "20519    2018 국민의 선택 - 선거방송 '왕의 귀환' 12시간 연속 생중계! (풀영상) ...\n",
       "20520    元FBIエージェントが教える、200％人を引き付けるようになるコツ、トップ10人々を魅了する...\n",
       "20521    日本×パラグアイ徹底分析&スペイン代表監督解任事件を解説【トークtheフットボール】#683...\n",
       "20522    エサのコオロギに夢中で二本足で立つカメレオンよーらい|\"佐賀よかでしょう\"|\"釣りよかでしょ...\n",
       "Name: features, Length: 66201, dtype: object"
      ]
     },
     "execution_count": 89,
     "metadata": {},
     "output_type": "execute_result"
    }
   ],
   "source": [
    "country['features'] = country['title'].map(str) + country['tags'] + country['description']\n",
    "country['features']"
   ]
  },
  {
   "cell_type": "code",
   "execution_count": 90,
   "metadata": {},
   "outputs": [],
   "source": [
    "from sklearn.linear_model import LogisticRegression\n",
    "from sklearn.ensemble import RandomForestClassifier\n",
    "from sklearn.naive_bayes import MultinomialNB\n",
    "from sklearn.svm import LinearSVC\n",
    "from sklearn.ensemble import AdaBoostClassifier, GradientBoostingClassifier\n",
    "from sklearn.model_selection import cross_val_score\n",
    "from sklearn.pipeline import Pipeline\n",
    "from sklearn.feature_extraction.text import TfidfTransformer\n",
    "from sklearn.feature_extraction.text import CountVectorizer\n",
    "from sklearn import metrics\n",
    "from sklearn.model_selection import train_test_split\n",
    "from sklearn.metrics import accuracy_score\n",
    "from sklearn.metrics import confusion_matrix\n",
    "from sklearn.metrics import classification_report\n",
    "from sklearn.linear_model import SGDClassifier\n",
    "from sklearn.preprocessing import LabelEncoder\n",
    "from sklearn.feature_extraction.text import TfidfVectorizer\n",
    "from sklearn.utils import class_weight\n",
    "from numpy import array\n",
    "from numpy import inf\n",
    "from numpy.linalg import norm\n",
    "from sklearn.feature_selection import chi2\n",
    "import spacy\n",
    "from spacy.tokenizer import Tokenizer\n",
    "from spacy.lang.en import English\n",
    "nlp = English()\n",
    "tokenizer = Tokenizer(nlp.vocab)"
   ]
  },
  {
   "cell_type": "code",
   "execution_count": 80,
   "metadata": {},
   "outputs": [],
   "source": [
    "from translate import Translator\n",
    "\n",
    "def translate(text):\n",
    "    \n",
    "    translator = Translator(from_lang='ko', to_lang='en')\n",
    "    translator = Translator(from_lang='ja', to_lang='en')\n",
    "    translator = Translator(from_lang='de', to_lang='en')\n",
    "    translator = Translator(from_lang='hi', to_lang='en')\n",
    "    translator = Translator(from_lang='ur', to_lang='en')\n",
    "    translator = Translator(from_lang='ar', to_lang='en')\n",
    "        \n",
    "    return translator.translate(text)"
   ]
  },
  {
   "cell_type": "code",
   "execution_count": 81,
   "metadata": {},
   "outputs": [],
   "source": [
    "# word tokenization\n",
    "\n",
    "import string\n",
    "from spacy.lang.en.stop_words import STOP_WORDS\n",
    "from spacy.lang.en import English\n",
    "from spacy.tokenizer import Tokenizer\n",
    "\n",
    "# create list of punctuation marks\n",
    "punctuations = string.punctuation\n",
    "\n",
    "# create list of stopwords\n",
    "nlp = spacy.load('en')\n",
    "stop_words = spacy.lang.en.stop_words.STOP_WORDS\n",
    "\n",
    "# load English tokenizer, tagger, parser, NER and word vectors\n",
    "parser = English()\n",
    "\n",
    "# creating our tokenizer function\n",
    "def spacy_tokenizer(sentence):\n",
    "    # creating our token object, which is used to create documents with linguistic annotations\n",
    "    mytokens = parser(sentence)\n",
    "    \n",
    "    # lemmatizing each token and converting to lowercase\n",
    "    mytokens = [ word.lemma_.lower().strip() if word.lemma_ != '-PRON-' else word.lower_ for word in mytokens ]\n",
    "    \n",
    "    # removing stop words\n",
    "    mytokens = [ word for word in mytokens if word not in stop_words and word not in punctuations]\n",
    "    \n",
    "    # return preprocessed list of tokens\n",
    "    return mytokens"
   ]
  },
  {
   "cell_type": "code",
   "execution_count": 82,
   "metadata": {},
   "outputs": [],
   "source": [
    "# building a custom transformer\n",
    "\n",
    "from sklearn.base import TransformerMixin\n",
    "class predictors(TransformerMixin):\n",
    "    def transform(self, X, **transform_params):\n",
    "        # Cleaning Text\n",
    "        return [clean_text(text) for text in X]\n",
    "\n",
    "    def fit(self, X, y=None, **fit_params):\n",
    "        return self\n",
    "\n",
    "    def get_params(self, deep=True):\n",
    "        return {}\n",
    "\n",
    "# Basic function to clean the text\n",
    "def clean_text(text):\n",
    "    # Removing spaces and converting text into lowercase\n",
    "    return text.strip().lower()"
   ]
  },
  {
   "cell_type": "code",
   "execution_count": 83,
   "metadata": {},
   "outputs": [
    {
     "data": {
      "text/html": [
       "<div>\n",
       "<style scoped>\n",
       "    .dataframe tbody tr th:only-of-type {\n",
       "        vertical-align: middle;\n",
       "    }\n",
       "\n",
       "    .dataframe tbody tr th {\n",
       "        vertical-align: top;\n",
       "    }\n",
       "\n",
       "    .dataframe thead th {\n",
       "        text-align: right;\n",
       "    }\n",
       "</style>\n",
       "<table border=\"1\" class=\"dataframe\">\n",
       "  <thead>\n",
       "    <tr style=\"text-align: right;\">\n",
       "      <th></th>\n",
       "      <th>channel_title</th>\n",
       "      <th>title</th>\n",
       "      <th>tags</th>\n",
       "      <th>description</th>\n",
       "      <th>category_id</th>\n",
       "      <th>category</th>\n",
       "      <th>region</th>\n",
       "      <th>trending_days</th>\n",
       "      <th>views</th>\n",
       "      <th>features</th>\n",
       "    </tr>\n",
       "  </thead>\n",
       "  <tbody>\n",
       "    <tr>\n",
       "      <td>10</td>\n",
       "      <td>NFL</td>\n",
       "      <td>Dion Lewis' 103-Yd Kick Return TD vs. Denver! ...</td>\n",
       "      <td>NFL|\"Football\"|\"offense\"|\"defense\"|\"afc\"|\"nfc\"...</td>\n",
       "      <td>New England Patriots returner Dion Lewis blast...</td>\n",
       "      <td>17</td>\n",
       "      <td>14</td>\n",
       "      <td>US</td>\n",
       "      <td>1</td>\n",
       "      <td>81377</td>\n",
       "      <td>Dion Lewis' 103-Yd Kick Return TD vs. Denver! ...</td>\n",
       "    </tr>\n",
       "    <tr>\n",
       "      <td>36</td>\n",
       "      <td>Screen Junkies</td>\n",
       "      <td>TL;DW - Every DCEU Movie Before Justice League</td>\n",
       "      <td>screenjunkies|\"screen junkies\"|\"sj news\"|\"hone...</td>\n",
       "      <td>With Justice League approaching fast we rewatc...</td>\n",
       "      <td>1</td>\n",
       "      <td>4</td>\n",
       "      <td>US</td>\n",
       "      <td>1</td>\n",
       "      <td>288922</td>\n",
       "      <td>TL;DW - Every DCEU Movie Before Justice League...</td>\n",
       "    </tr>\n",
       "    <tr>\n",
       "      <td>41</td>\n",
       "      <td>BBC News</td>\n",
       "      <td>Iraq-Iran earthquake: Deadly tremor hits borde...</td>\n",
       "      <td>bbc|\"bbc news\"|\"news\"|\"iran\"|\"iran news\"|\"iraq...</td>\n",
       "      <td>A strong 7.2-magnitude earthquake has rattled ...</td>\n",
       "      <td>25</td>\n",
       "      <td>8</td>\n",
       "      <td>US</td>\n",
       "      <td>1</td>\n",
       "      <td>34785</td>\n",
       "      <td>Iraq-Iran earthquake: Deadly tremor hits borde...</td>\n",
       "    </tr>\n",
       "    <tr>\n",
       "      <td>44</td>\n",
       "      <td>Shawn Johnson East</td>\n",
       "      <td>AFFAIRS, EX BOYFRIENDS, $18MILLION NET WORTH -...</td>\n",
       "      <td>shawn johnson|\"andrew east\"|\"shawn east\"|\"shaw...</td>\n",
       "      <td>Subscribe for weekly videos ▶ http://bit.ly/sj...</td>\n",
       "      <td>22</td>\n",
       "      <td>10</td>\n",
       "      <td>US</td>\n",
       "      <td>1</td>\n",
       "      <td>321053</td>\n",
       "      <td>AFFAIRS, EX BOYFRIENDS, $18MILLION NET WORTH -...</td>\n",
       "    </tr>\n",
       "    <tr>\n",
       "      <td>46</td>\n",
       "      <td>People are Awesome</td>\n",
       "      <td>People are Awesome &amp; The Pet Collective presen...</td>\n",
       "      <td>people are awesome|\"people are awesome 2017\"|\"...</td>\n",
       "      <td>Pets are Awesome! This is for all the animal l...</td>\n",
       "      <td>24</td>\n",
       "      <td>3</td>\n",
       "      <td>US</td>\n",
       "      <td>1</td>\n",
       "      <td>69844</td>\n",
       "      <td>People are Awesome &amp; The Pet Collective presen...</td>\n",
       "    </tr>\n",
       "  </tbody>\n",
       "</table>\n",
       "</div>"
      ],
      "text/plain": [
       "         channel_title                                              title  \\\n",
       "10                 NFL  Dion Lewis' 103-Yd Kick Return TD vs. Denver! ...   \n",
       "36      Screen Junkies     TL;DW - Every DCEU Movie Before Justice League   \n",
       "41            BBC News  Iraq-Iran earthquake: Deadly tremor hits borde...   \n",
       "44  Shawn Johnson East  AFFAIRS, EX BOYFRIENDS, $18MILLION NET WORTH -...   \n",
       "46  People are Awesome  People are Awesome & The Pet Collective presen...   \n",
       "\n",
       "                                                 tags  \\\n",
       "10  NFL|\"Football\"|\"offense\"|\"defense\"|\"afc\"|\"nfc\"...   \n",
       "36  screenjunkies|\"screen junkies\"|\"sj news\"|\"hone...   \n",
       "41  bbc|\"bbc news\"|\"news\"|\"iran\"|\"iran news\"|\"iraq...   \n",
       "44  shawn johnson|\"andrew east\"|\"shawn east\"|\"shaw...   \n",
       "46  people are awesome|\"people are awesome 2017\"|\"...   \n",
       "\n",
       "                                          description  category_id  category  \\\n",
       "10  New England Patriots returner Dion Lewis blast...           17        14   \n",
       "36  With Justice League approaching fast we rewatc...            1         4   \n",
       "41  A strong 7.2-magnitude earthquake has rattled ...           25         8   \n",
       "44  Subscribe for weekly videos ▶ http://bit.ly/sj...           22        10   \n",
       "46  Pets are Awesome! This is for all the animal l...           24         3   \n",
       "\n",
       "   region  trending_days   views  \\\n",
       "10     US              1   81377   \n",
       "36     US              1  288922   \n",
       "41     US              1   34785   \n",
       "44     US              1  321053   \n",
       "46     US              1   69844   \n",
       "\n",
       "                                             features  \n",
       "10  Dion Lewis' 103-Yd Kick Return TD vs. Denver! ...  \n",
       "36  TL;DW - Every DCEU Movie Before Justice League...  \n",
       "41  Iraq-Iran earthquake: Deadly tremor hits borde...  \n",
       "44  AFFAIRS, EX BOYFRIENDS, $18MILLION NET WORTH -...  \n",
       "46  People are Awesome & The Pet Collective presen...  "
      ]
     },
     "execution_count": 83,
     "metadata": {},
     "output_type": "execute_result"
    }
   ],
   "source": [
    "from sklearn.preprocessing import LabelEncoder\n",
    "le = LabelEncoder()\n",
    "le.fit(country.category)\n",
    "country.category = le.transform(country.category)\n",
    "country.head()"
   ]
  },
  {
   "cell_type": "code",
   "execution_count": 84,
   "metadata": {},
   "outputs": [
    {
     "data": {
      "text/plain": [
       "CountVectorizer(analyzer='word', binary=False, decode_error='strict',\n",
       "                dtype=<class 'numpy.int64'>, encoding='utf-8', input='content',\n",
       "                lowercase=True, max_df=1.0, max_features=None, min_df=1,\n",
       "                ngram_range=(1, 1), preprocessor=None, stop_words=None,\n",
       "                strip_accents=None, token_pattern='(?u)\\\\b\\\\w\\\\w+\\\\b',\n",
       "                tokenizer=<function spacy_tokenizer at 0x1a25b137a0>,\n",
       "                vocabulary=None)"
      ]
     },
     "execution_count": 84,
     "metadata": {},
     "output_type": "execute_result"
    }
   ],
   "source": [
    "#Vectorization Feature Engineering (TF-IDF)\n",
    "\n",
    "#bag of words\n",
    "\n",
    "bow_vector = CountVectorizer(tokenizer= spacy_tokenizer, ngram_range=(1,1))\n",
    "bow_vector"
   ]
  },
  {
   "cell_type": "code",
   "execution_count": 85,
   "metadata": {},
   "outputs": [
    {
     "data": {
      "text/plain": [
       "TfidfVectorizer(analyzer='word', binary=False, decode_error='strict',\n",
       "                dtype=<class 'numpy.float64'>, encoding='utf-8',\n",
       "                input='content', lowercase=True, max_df=1.0, max_features=None,\n",
       "                min_df=1, ngram_range=(1, 1), norm='l2', preprocessor=None,\n",
       "                smooth_idf=True, stop_words=None, strip_accents=None,\n",
       "                sublinear_tf=False, token_pattern='(?u)\\\\b\\\\w\\\\w+\\\\b',\n",
       "                tokenizer=<function spacy_tokenizer at 0x1a25b137a0>,\n",
       "                use_idf=True, vocabulary=None)"
      ]
     },
     "execution_count": 85,
     "metadata": {},
     "output_type": "execute_result"
    }
   ],
   "source": [
    "tfidf_vectorizer = TfidfVectorizer(tokenizer = spacy_tokenizer)\n",
    "tfidf_vectorizer"
   ]
  },
  {
   "cell_type": "code",
   "execution_count": 87,
   "metadata": {},
   "outputs": [],
   "source": [
    "# Splitting the data into training and test sets\n",
    "\n",
    "X = country.features\n",
    "y = country.category\n",
    "\n",
    "X_train, X_test, y_train, y_test = train_test_split(X, y, test_size=0.3, random_state = 42)"
   ]
  },
  {
   "cell_type": "code",
   "execution_count": null,
   "metadata": {},
   "outputs": [],
   "source": [
    "# class_weights = class_weight.compute_class_weight('balanced', np.unique(y_train), y_train)"
   ]
  },
  {
   "cell_type": "code",
   "execution_count": null,
   "metadata": {},
   "outputs": [],
   "source": [
    "# count_train = CountVectorizer.fit(country.features)\n",
    "# bow = CountVectorizer.transform(country.features)"
   ]
  },
  {
   "cell_type": "code",
   "execution_count": null,
   "metadata": {},
   "outputs": [],
   "source": [
    "# # Creating pipeline and generating model\n",
    "\n",
    "\n",
    "# # Logistic Regression Classifier\n",
    "# classifier = LogisticRegression()\n",
    "\n",
    "# # Create pipeline using BoW\n",
    "# pipe = Pipeline([('cleaner', predictors()), ('vectorizer', bow_vector), ('classifier', classifier), ('class_weights', class_weight)])\n",
    "\n",
    "# # model generation\n",
    "# pipe.fit(X_train, y_train)"
   ]
  },
  {
   "cell_type": "code",
   "execution_count": null,
   "metadata": {},
   "outputs": [],
   "source": [
    "# # evaluating the model - how accurately does our model predict which category the feature belongs to\n",
    "\n",
    "# # predicting with a test dataset\n",
    "# predicted = pipe.predict(X_test)\n",
    "\n",
    "# # model accuracy\n",
    "# print('Logistic Regression Accuracy:', metrics.accuracy_score(y_test, predicted))\n",
    "# print('Logistic Regression Precision:', metrics.precision_score(y_test, predicted))\n",
    "# print('Logistic Regression Recall:', metrics.recall_score(y_test, predicted))"
   ]
  },
  {
   "cell_type": "code",
   "execution_count": 138,
   "metadata": {},
   "outputs": [],
   "source": [
    "# set(y_test) - set(y_pred)"
   ]
  },
  {
   "cell_type": "code",
   "execution_count": null,
   "metadata": {},
   "outputs": [],
   "source": [
    "np.unique(y_pred)"
   ]
  },
  {
   "cell_type": "code",
   "execution_count": null,
   "metadata": {},
   "outputs": [],
   "source": [
    "np.unique(y_test)"
   ]
  },
  {
   "cell_type": "code",
   "execution_count": null,
   "metadata": {},
   "outputs": [],
   "source": [
    "train_features = country['features'][:train_size]\n",
    "train_categories = country['category'][:train_size]\n",
    "\n",
    "test_features = country['features'][train_size:]\n",
    "test_categories = country['category'][train_size:]"
   ]
  },
  {
   "cell_type": "code",
   "execution_count": null,
   "metadata": {},
   "outputs": [],
   "source": [
    "max_words = 1000\n",
    "tokenize = text.Tokenizer(num_words=max_words, char_level=False)"
   ]
  },
  {
   "cell_type": "code",
   "execution_count": null,
   "metadata": {},
   "outputs": [],
   "source": [
    "tokenize.fit_on_texts(train_features) # only fit on train\n",
    "x_train = tokenize.texts_to_matrix(train_features)\n",
    "x_test = tokenize.texts_to_matrix(test_features)"
   ]
  },
  {
   "cell_type": "code",
   "execution_count": null,
   "metadata": {},
   "outputs": [],
   "source": [
    "encoder = LabelEncoder()\n",
    "encoder.fit(train_categories)\n",
    "y_train = encoder.transform(train_categories)\n",
    "y_test = encoder.transform(test_categories)"
   ]
  },
  {
   "cell_type": "code",
   "execution_count": null,
   "metadata": {},
   "outputs": [],
   "source": [
    "num_classes = np.max(y_train) + 1\n",
    "y_train = utils.to_categorical(y_train, num_classes)\n",
    "y_test = utils.to_categorical(y_test, num_classes)"
   ]
  },
  {
   "cell_type": "code",
   "execution_count": null,
   "metadata": {},
   "outputs": [],
   "source": [
    "from imblearn.over_sampling import SMOTE\n",
    "\n",
    "from sklearn.model_selection import train_test_split\n",
    "\n",
    "X_train, X_test, y_train, y_test = train_test_split(X, y, test_size=0.3, random_state=0)\n",
    "\n",
    "print(\"Number transactions X_train dataset: \", X_train.shape)\n",
    "print(\"Number transactions y_train dataset: \", y_train.shape)\n",
    "print(\"Number transactions X_test dataset: \", X_test.shape)\n",
    "print(\"Number transactions y_test dataset: \", y_test.shape)"
   ]
  },
  {
   "cell_type": "code",
   "execution_count": null,
   "metadata": {},
   "outputs": [],
   "source": [
    "# sm = SMOTE(random_state=2)\n",
    "# X_train_res, y_train_res = sm.fit_sample(X_train, y_train.ravel())"
   ]
  },
  {
   "cell_type": "code",
   "execution_count": null,
   "metadata": {},
   "outputs": [],
   "source": [
    "# from sklearn.model_selection import GridSearchCV\n",
    "# from sklearn.linear_model import LogisticRegression\n",
    "# from sklearn.metrics import confusion_matrix, precision_recall_curve, auc, roc_auc_score, roc_curve, recall_score, classification_report\n",
    "\n",
    "# parameters = {'C': np.linspace(1, 10, 10)}\n",
    "# lr = LogisticRegression()\n",
    "# clf = GridSearchCV(lr, parameters, cv=5, verbose=5, n_jobs=3)\n",
    "# clf.fit(X_train_res, y_train_res.ravel())"
   ]
  },
  {
   "cell_type": "code",
   "execution_count": null,
   "metadata": {},
   "outputs": [],
   "source": [
    "# # Using SMOTE to balance out the classes\n",
    "\n",
    "# from imblearn.over_sampling import SMOTE\n",
    "\n",
    "# smote = SMOTE('minority')\n",
    "# X_sm, y_sm = smote.fit_sample(X_train, y_train)\n",
    "# print(X_sm.shape, y_sm.shape)"
   ]
  },
  {
   "cell_type": "code",
   "execution_count": 21,
   "metadata": {
    "scrolled": true
   },
   "outputs": [
    {
     "ename": "NameError",
     "evalue": "name 'CountVectorizer' is not defined",
     "output_type": "error",
     "traceback": [
      "\u001b[0;31m---------------------------------------------------------------------------\u001b[0m",
      "\u001b[0;31mNameError\u001b[0m                                 Traceback (most recent call last)",
      "\u001b[0;32m<ipython-input-21-64823a3738ac>\u001b[0m in \u001b[0;36m<module>\u001b[0;34m\u001b[0m\n\u001b[1;32m      3\u001b[0m \u001b[0;32mfrom\u001b[0m \u001b[0msklearn\u001b[0m\u001b[0;34m.\u001b[0m\u001b[0mfeature_extraction\u001b[0m\u001b[0;34m.\u001b[0m\u001b[0mtext\u001b[0m \u001b[0;32mimport\u001b[0m \u001b[0mTfidfTransformer\u001b[0m\u001b[0;34m\u001b[0m\u001b[0;34m\u001b[0m\u001b[0m\n\u001b[1;32m      4\u001b[0m \u001b[0;34m\u001b[0m\u001b[0m\n\u001b[0;32m----> 5\u001b[0;31m nb = Pipeline([('vect', CountVectorizer()),\n\u001b[0m\u001b[1;32m      6\u001b[0m                \u001b[0;34m(\u001b[0m\u001b[0;34m'tfidf'\u001b[0m\u001b[0;34m,\u001b[0m \u001b[0mTfidfTransformer\u001b[0m\u001b[0;34m(\u001b[0m\u001b[0;34m)\u001b[0m\u001b[0;34m)\u001b[0m\u001b[0;34m,\u001b[0m\u001b[0;34m\u001b[0m\u001b[0;34m\u001b[0m\u001b[0m\n\u001b[1;32m      7\u001b[0m                \u001b[0;34m(\u001b[0m\u001b[0;34m'clf'\u001b[0m\u001b[0;34m,\u001b[0m \u001b[0mMultinomialNB\u001b[0m\u001b[0;34m(\u001b[0m\u001b[0;34m)\u001b[0m\u001b[0;34m)\u001b[0m\u001b[0;34m,\u001b[0m\u001b[0;34m\u001b[0m\u001b[0;34m\u001b[0m\u001b[0m\n",
      "\u001b[0;31mNameError\u001b[0m: name 'CountVectorizer' is not defined"
     ]
    }
   ],
   "source": [
    "from sklearn.naive_bayes import MultinomialNB\n",
    "from sklearn.pipeline import Pipeline\n",
    "from sklearn.feature_extraction.text import TfidfTransformer\n",
    "\n",
    "nb = Pipeline([('vect', CountVectorizer()),\n",
    "               ('tfidf', TfidfTransformer()),\n",
    "               ('clf', MultinomialNB()),\n",
    "              ])\n",
    "nb.fit(X_train, y_train)\n",
    "\n",
    "from sklearn.metrics import classification_report\n",
    "y_pred = nb.predict(X_test)\n",
    "\n",
    "print('accuracy %s' % accuracy_score(y_pred, y_test))\n",
    "print(classification_report(y_test, y_pred, labels = np.unique(y_pred)))"
   ]
  },
  {
   "cell_type": "code",
   "execution_count": null,
   "metadata": {},
   "outputs": [],
   "source": [
    "conf_mat = confusion_matrix(y_test, y_pred)\n",
    "fig, ax = plt.subplots(figsize=(10,10))\n",
    "sns.heatmap(conf_mat, annot=True, fmt='d', xticklabels = list(le.classes_), yticklabels=list(le.classes_))\n",
    "plt.ylabel('Actual')\n",
    "plt.xlabel('Predicted')\n",
    "plt.title('Confusion Matrix - Naive Bayes')\n",
    "plt.show()"
   ]
  },
  {
   "cell_type": "code",
   "execution_count": null,
   "metadata": {},
   "outputs": [],
   "source": [
    "from sklearn.linear_model import SGDClassifier\n",
    "\n",
    "sgd = Pipeline([('vect', CountVectorizer()),\n",
    "                ('tfidf', TfidfTransformer()),\n",
    "                ('clf', SGDClassifier(loss='hinge', penalty='l2',alpha=1e-3, random_state=42, max_iter = 5,tol=None)),\n",
    "               ])\n",
    "sgd.fit(X_train, y_train)\n",
    "\n",
    "y_pred = sgd.predict(X_test)\n",
    "\n",
    "print('accuracy %s' % accuracy_score(y_pred, y_test))\n",
    "print(classification_report(y_test, y_pred, target_names=my_category))"
   ]
  },
  {
   "cell_type": "code",
   "execution_count": null,
   "metadata": {},
   "outputs": [],
   "source": [
    "from sklearn.linear_model import LogisticRegression\n",
    "\n",
    "logreg = Pipeline([('vect', CountVectorizer()),\n",
    "                 ('tfidf', TfidfTransformer()),\n",
    "                 ('clf', LogisticRegression(n_jobs=1, C=1e5)),\n",
    "                  ])\n",
    "logreg.fit(X_train, y_train)\n",
    "\n",
    "\n",
    "y_pred = logreg.predict(X_test)\n",
    "\n",
    "print('accuracy %s' % accuracy_score(y_pred, y_test))\n",
    "print(classification_report(y_test, y_pred, labels = np.unique(y_pred)))"
   ]
  },
  {
   "cell_type": "code",
   "execution_count": null,
   "metadata": {},
   "outputs": [],
   "source": [
    "def plot_confusion_matrix(cm, classes, normalize= False, title = 'Confusion Matrix', cmap = plt.cm.Blues):\n",
    "    \n",
    "    if normalize:\n",
    "        cm = cm.astype('float') / cm.sum(axis=1)[:, np.newaxis]\n",
    "        print(\"Normalized Confusion Matrix\")\n",
    "    else:\n",
    "        print('Confusion Matrix without Normalization')\n",
    "        \n",
    "        # print cm\n",
    "        \n",
    "        plt.imshow(cm, interpolation='nearest', cmap=cmap)\n",
    "        plt.title(title)\n",
    "        plt.colorbar()\n",
    "        tick_marks = np.arange(len(classes))\n",
    "        plt.xticks(tick_marks, classes, rotation=90)\n",
    "        plt.yticks(tick_marks, classes)\n",
    "        \n",
    "        fmt = '.2f' if normalize else 'd'\n",
    "        thresh = cm.max()/2\n",
    "        for i, j in itertools.product(range(cm.shape[0]), range(cm.shape[1])):\n",
    "            plt.text(j, i, format(cm[i, j], fmt)),\n",
    "            horizontalalignment = 'center'\n",
    "            color= 'white' if cm[i, j] > thresh else \"black\"\n",
    "            \n",
    "        plt.tight_layout()\n",
    "        plt.ylabel('True label')\n",
    "        plt.xlabel('Predicted label')\n",
    "        \n",
    "y_pred = model.predict(x_test)\n",
    "cnf_matrix = confusion_matrix(np.argmax(y_test, axis=1), np.argmax(y_pred, axis=1))\n",
    "    \n",
    "# plot normalized confusion matrix\n",
    "fig = plt.figure()\n",
    "fig.set_size_inches(14, 12, forward = True)\n",
    "#fig.align_labels\n",
    "    \n",
    "#fig.subplots_adjust(left=0.0, right=1.0, bottom=0.0, top=1.0)\n",
    "plot_confusion_matrix(cnf_matrix, classes= np.asarray(labels), normalize= True, title = 'Normalized confusion matrix')\n",
    "    \n",
    "fig.savefig(\"txt_classification-smote\" + str(num_epochs) + \".png\", pad_inches = 5.0)"
   ]
  },
  {
   "cell_type": "code",
   "execution_count": null,
   "metadata": {},
   "outputs": [],
   "source": [
    "!pip install gensim"
   ]
  },
  {
   "cell_type": "code",
   "execution_count": null,
   "metadata": {},
   "outputs": [],
   "source": [
    "import gensim\n",
    "from gensim import models\n",
    "from gensim.models import KeyedVectors"
   ]
  },
  {
   "cell_type": "code",
   "execution_count": null,
   "metadata": {},
   "outputs": [],
   "source": [
    "#Word2vec and Logistic Regression\n",
    "\n",
    "#Word2vec is a type of mapping that allows words with similar meaning to have a similar vector representation\n",
    "#Objective - we want to use the surrounding words to represent the target word with a \n",
    "#neural network whose hidden layer encodes the word representation\n",
    "\n",
    "\n",
    "# import gzip\n",
    "# import shutil\n",
    "# import gensim.downloader as api\n",
    "# from gensim.models import Word2Vec\n",
    "\n",
    "\n",
    "# with gzip.open(\"GoogleNews-vectors-negative300.bin.gz\", 'rb') as f_in:\n",
    "#     with open(\"GoogleNews-vectors-negative300.bin\", 'wb') as f_out:\n",
    "#         shutil.copyfileobj(f_in, f_out)\n",
    "\n",
    "# wv = api.load('word2vec-google-news-300')"
   ]
  },
  {
   "cell_type": "code",
   "execution_count": null,
   "metadata": {},
   "outputs": [],
   "source": [
    "# BoW with Keras\n",
    "\n"
   ]
  },
  {
   "cell_type": "code",
   "execution_count": null,
   "metadata": {},
   "outputs": [],
   "source": [
    "import itertools\n",
    "import os\n",
    "import tensorflow as tf\n",
    "\n",
    "from sklearn.preprocessing import LabelBinarizer, LabelEncoder\n",
    "from sklearn.metrics import confusion_matrix\n",
    "\n",
    "from tensorflow import keras\n",
    "from keras.models import Sequential\n",
    "from keras.layers import Dense, Activation, Dropout\n",
    "from keras.preprocessing import text, sequence\n",
    "from keras import utils\n",
    "\n",
    "# This code was tested with TensorFlow v1.4\n",
    "print(\"You have TensorFlow version\", tf.__version__)"
   ]
  },
  {
   "cell_type": "code",
   "execution_count": null,
   "metadata": {},
   "outputs": [],
   "source": [
    "country.head()"
   ]
  },
  {
   "cell_type": "code",
   "execution_count": null,
   "metadata": {},
   "outputs": [],
   "source": [
    "country['category'].value_counts()"
   ]
  },
  {
   "cell_type": "code",
   "execution_count": null,
   "metadata": {},
   "outputs": [],
   "source": [
    "train_size = int(len(df) * .7)\n",
    "print (\"Train size: %d\" % train_size)\n",
    "print (\"Test size: %d\" % (len(df) - train_size))"
   ]
  },
  {
   "cell_type": "code",
   "execution_count": null,
   "metadata": {},
   "outputs": [],
   "source": [
    "print('x_train shape:', x_train.shape)\n",
    "print('x_test shape:', x_test.shape)\n",
    "print('y_train shape:', y_train.shape)\n",
    "print('y_test shape:', y_test.shape)"
   ]
  },
  {
   "cell_type": "code",
   "execution_count": 92,
   "metadata": {},
   "outputs": [
    {
     "name": "stdout",
     "output_type": "stream",
     "text": [
      "Collecting lime\n",
      "\u001b[?25l  Downloading https://files.pythonhosted.org/packages/b5/e0/60070b461a589b2fee0dbc45df9987f150fca83667c2f8a064cef7dbac6b/lime-0.1.1.37.tar.gz (275kB)\n",
      "\u001b[K     |████████████████████████████████| 276kB 1.6MB/s eta 0:00:01\n",
      "\u001b[?25hRequirement already satisfied: numpy in /Users/mahimakaushiva/opt/anaconda3/lib/python3.7/site-packages (from lime) (1.17.2)\n",
      "Requirement already satisfied: scipy in /Users/mahimakaushiva/opt/anaconda3/lib/python3.7/site-packages (from lime) (1.3.1)\n",
      "Collecting progressbar (from lime)\n",
      "  Downloading https://files.pythonhosted.org/packages/a3/a6/b8e451f6cff1c99b4747a2f7235aa904d2d49e8e1464e0b798272aa84358/progressbar-2.5.tar.gz\n",
      "Requirement already satisfied: scikit-learn>=0.18 in /Users/mahimakaushiva/opt/anaconda3/lib/python3.7/site-packages (from lime) (0.22)\n",
      "Requirement already satisfied: matplotlib in /Users/mahimakaushiva/opt/anaconda3/lib/python3.7/site-packages (from lime) (3.1.1)\n",
      "Requirement already satisfied: scikit-image>=0.12 in /Users/mahimakaushiva/opt/anaconda3/lib/python3.7/site-packages (from lime) (0.15.0)\n",
      "Requirement already satisfied: joblib>=0.11 in /Users/mahimakaushiva/opt/anaconda3/lib/python3.7/site-packages (from scikit-learn>=0.18->lime) (0.13.2)\n",
      "Requirement already satisfied: cycler>=0.10 in /Users/mahimakaushiva/opt/anaconda3/lib/python3.7/site-packages (from matplotlib->lime) (0.10.0)\n",
      "Requirement already satisfied: kiwisolver>=1.0.1 in /Users/mahimakaushiva/opt/anaconda3/lib/python3.7/site-packages (from matplotlib->lime) (1.1.0)\n",
      "Requirement already satisfied: pyparsing!=2.0.4,!=2.1.2,!=2.1.6,>=2.0.1 in /Users/mahimakaushiva/opt/anaconda3/lib/python3.7/site-packages (from matplotlib->lime) (2.4.2)\n",
      "Requirement already satisfied: python-dateutil>=2.1 in /Users/mahimakaushiva/opt/anaconda3/lib/python3.7/site-packages (from matplotlib->lime) (2.8.0)\n",
      "Requirement already satisfied: networkx>=2.0 in /Users/mahimakaushiva/opt/anaconda3/lib/python3.7/site-packages (from scikit-image>=0.12->lime) (2.3)\n",
      "Requirement already satisfied: imageio>=2.0.1 in /Users/mahimakaushiva/opt/anaconda3/lib/python3.7/site-packages (from scikit-image>=0.12->lime) (2.6.0)\n",
      "Requirement already satisfied: PyWavelets>=0.4.0 in /Users/mahimakaushiva/opt/anaconda3/lib/python3.7/site-packages (from scikit-image>=0.12->lime) (1.0.3)\n",
      "Requirement already satisfied: pillow>=4.3.0 in /Users/mahimakaushiva/opt/anaconda3/lib/python3.7/site-packages (from scikit-image>=0.12->lime) (6.2.0)\n",
      "Requirement already satisfied: six in /Users/mahimakaushiva/opt/anaconda3/lib/python3.7/site-packages (from cycler>=0.10->matplotlib->lime) (1.12.0)\n",
      "Requirement already satisfied: setuptools in /Users/mahimakaushiva/opt/anaconda3/lib/python3.7/site-packages (from kiwisolver>=1.0.1->matplotlib->lime) (41.4.0)\n",
      "Requirement already satisfied: decorator>=4.3.0 in /Users/mahimakaushiva/opt/anaconda3/lib/python3.7/site-packages (from networkx>=2.0->scikit-image>=0.12->lime) (4.4.0)\n",
      "Building wheels for collected packages: lime, progressbar\n",
      "  Building wheel for lime (setup.py) ... \u001b[?25ldone\n",
      "\u001b[?25h  Created wheel for lime: filename=lime-0.1.1.37-cp37-none-any.whl size=284276 sha256=71f576f5c272f9884888ed9f3bd31e52447f005759222eabc1d5b1f42d290692\n",
      "  Stored in directory: /Users/mahimakaushiva/Library/Caches/pip/wheels/c1/38/e7/50d75d4fb75afa604570dc42f20c5c5f5ab26d3fbe8d6ef27b\n",
      "  Building wheel for progressbar (setup.py) ... \u001b[?25ldone\n",
      "\u001b[?25h  Created wheel for progressbar: filename=progressbar-2.5-cp37-none-any.whl size=12073 sha256=90ce40c103064149a84af10f013ae2ee1ceb77c1da1454985bb934ea218cba62\n",
      "  Stored in directory: /Users/mahimakaushiva/Library/Caches/pip/wheels/c0/e9/6b/ea01090205e285175842339aa3b491adeb4015206cda272ff0\n",
      "Successfully built lime progressbar\n",
      "Installing collected packages: progressbar, lime\n",
      "Successfully installed lime-0.1.1.37 progressbar-2.5\n"
     ]
    }
   ],
   "source": [
    "!pip install lime"
   ]
  },
  {
   "cell_type": "code",
   "execution_count": 94,
   "metadata": {},
   "outputs": [
    {
     "name": "stdout",
     "output_type": "stream",
     "text": [
      "Collecting pyLDavis\n",
      "\u001b[?25l  Downloading https://files.pythonhosted.org/packages/a5/3a/af82e070a8a96e13217c8f362f9a73e82d61ac8fff3a2561946a97f96266/pyLDAvis-2.1.2.tar.gz (1.6MB)\n",
      "\u001b[K     |████████████████████████████████| 1.6MB 1.7MB/s eta 0:00:01\n",
      "\u001b[?25hRequirement already satisfied: wheel>=0.23.0 in /Users/mahimakaushiva/opt/anaconda3/lib/python3.7/site-packages (from pyLDavis) (0.33.6)\n",
      "Requirement already satisfied: numpy>=1.9.2 in /Users/mahimakaushiva/opt/anaconda3/lib/python3.7/site-packages (from pyLDavis) (1.17.2)\n",
      "Requirement already satisfied: scipy>=0.18.0 in /Users/mahimakaushiva/opt/anaconda3/lib/python3.7/site-packages (from pyLDavis) (1.3.1)\n",
      "Requirement already satisfied: pandas>=0.17.0 in /Users/mahimakaushiva/opt/anaconda3/lib/python3.7/site-packages (from pyLDavis) (0.25.1)\n",
      "Requirement already satisfied: joblib>=0.8.4 in /Users/mahimakaushiva/opt/anaconda3/lib/python3.7/site-packages (from pyLDavis) (0.13.2)\n",
      "Requirement already satisfied: jinja2>=2.7.2 in /Users/mahimakaushiva/opt/anaconda3/lib/python3.7/site-packages (from pyLDavis) (2.10.3)\n",
      "Requirement already satisfied: numexpr in /Users/mahimakaushiva/opt/anaconda3/lib/python3.7/site-packages (from pyLDavis) (2.7.0)\n",
      "Requirement already satisfied: pytest in /Users/mahimakaushiva/opt/anaconda3/lib/python3.7/site-packages (from pyLDavis) (5.2.1)\n",
      "Requirement already satisfied: future in /Users/mahimakaushiva/opt/anaconda3/lib/python3.7/site-packages (from pyLDavis) (0.17.1)\n",
      "Collecting funcy (from pyLDavis)\n",
      "\u001b[?25l  Downloading https://files.pythonhosted.org/packages/ce/4b/6ffa76544e46614123de31574ad95758c421aae391a1764921b8a81e1eae/funcy-1.14.tar.gz (548kB)\n",
      "\u001b[K     |████████████████████████████████| 552kB 703kB/s eta 0:00:01\n",
      "\u001b[?25hRequirement already satisfied: pytz>=2017.2 in /Users/mahimakaushiva/opt/anaconda3/lib/python3.7/site-packages (from pandas>=0.17.0->pyLDavis) (2019.3)\n",
      "Requirement already satisfied: python-dateutil>=2.6.1 in /Users/mahimakaushiva/opt/anaconda3/lib/python3.7/site-packages (from pandas>=0.17.0->pyLDavis) (2.8.0)\n",
      "Requirement already satisfied: MarkupSafe>=0.23 in /Users/mahimakaushiva/opt/anaconda3/lib/python3.7/site-packages (from jinja2>=2.7.2->pyLDavis) (1.1.1)\n",
      "Requirement already satisfied: py>=1.5.0 in /Users/mahimakaushiva/opt/anaconda3/lib/python3.7/site-packages (from pytest->pyLDavis) (1.8.0)\n",
      "Requirement already satisfied: packaging in /Users/mahimakaushiva/opt/anaconda3/lib/python3.7/site-packages (from pytest->pyLDavis) (19.2)\n",
      "Requirement already satisfied: attrs>=17.4.0 in /Users/mahimakaushiva/opt/anaconda3/lib/python3.7/site-packages (from pytest->pyLDavis) (19.2.0)\n",
      "Requirement already satisfied: more-itertools>=4.0.0 in /Users/mahimakaushiva/opt/anaconda3/lib/python3.7/site-packages (from pytest->pyLDavis) (7.2.0)\n",
      "Requirement already satisfied: atomicwrites>=1.0 in /Users/mahimakaushiva/opt/anaconda3/lib/python3.7/site-packages (from pytest->pyLDavis) (1.3.0)\n",
      "Requirement already satisfied: pluggy<1.0,>=0.12 in /Users/mahimakaushiva/opt/anaconda3/lib/python3.7/site-packages (from pytest->pyLDavis) (0.13.0)\n",
      "Requirement already satisfied: wcwidth in /Users/mahimakaushiva/opt/anaconda3/lib/python3.7/site-packages (from pytest->pyLDavis) (0.1.7)\n",
      "Requirement already satisfied: importlib-metadata>=0.12 in /Users/mahimakaushiva/opt/anaconda3/lib/python3.7/site-packages (from pytest->pyLDavis) (0.23)\n",
      "Requirement already satisfied: six>=1.5 in /Users/mahimakaushiva/opt/anaconda3/lib/python3.7/site-packages (from python-dateutil>=2.6.1->pandas>=0.17.0->pyLDavis) (1.12.0)\n",
      "Requirement already satisfied: pyparsing>=2.0.2 in /Users/mahimakaushiva/opt/anaconda3/lib/python3.7/site-packages (from packaging->pytest->pyLDavis) (2.4.2)\n",
      "Requirement already satisfied: zipp>=0.5 in /Users/mahimakaushiva/opt/anaconda3/lib/python3.7/site-packages (from importlib-metadata>=0.12->pytest->pyLDavis) (0.6.0)\n",
      "Building wheels for collected packages: pyLDavis, funcy\n",
      "  Building wheel for pyLDavis (setup.py) ... \u001b[?25ldone\n",
      "\u001b[?25h  Created wheel for pyLDavis: filename=pyLDAvis-2.1.2-py2.py3-none-any.whl size=97711 sha256=cf61c2ef79a60bf187eff6318c5ff5d0a526ac8ea29465cf28022cea789fa15c\n",
      "  Stored in directory: /Users/mahimakaushiva/Library/Caches/pip/wheels/98/71/24/513a99e58bb6b8465bae4d2d5e9dba8f0bef8179e3051ac414\n",
      "  Building wheel for funcy (setup.py) ... \u001b[?25ldone\n",
      "\u001b[?25h  Created wheel for funcy: filename=funcy-1.14-py2.py3-none-any.whl size=32040 sha256=adec6c57bc399e78924e04377ef80c2f71d4fd14ba6b95d7ad6b9e8c76637cd4\n",
      "  Stored in directory: /Users/mahimakaushiva/Library/Caches/pip/wheels/20/5a/d8/1d875df03deae6f178dfdf70238cca33f948ef8a6f5209f2eb\n",
      "Successfully built pyLDavis funcy\n",
      "Installing collected packages: funcy, pyLDavis\n",
      "Successfully installed funcy-1.14 pyLDavis-2.1.2\n"
     ]
    }
   ],
   "source": [
    "!pip install pyLDavis"
   ]
  },
  {
   "cell_type": "code",
   "execution_count": 96,
   "metadata": {},
   "outputs": [],
   "source": [
    "from lime.lime_text import LimeTextExplainer\n",
    "from tqdm import tqdm\n",
    "import string\n",
    "import random\n",
    "import operator\n",
    "import seaborn as sns\n",
    "from sklearn.decomposition import NMF, LatentDirichletAllocation, TruncatedSVD\n",
    "from statistics import *\n",
    "import concurrent.futures\n",
    "import time\n",
    "import pyLDAvis.sklearn\n",
    "from pylab import bone, pcolor, colorbar, plot, show, rcParams, savefig\n",
    "import warnings\n",
    "import nltk\n",
    "\n",
    "# spaCy based imports\n",
    "import spacy\n",
    "from spacy.lang.en.stop_words import STOP_WORDS\n",
    "from spacy.lang.en import English\n",
    "\n",
    "# keras module for building LSTM \n",
    "from keras.preprocessing.sequence import pad_sequences\n",
    "from keras.layers import Embedding, LSTM, Dense, Dropout\n",
    "from keras.preprocessing.text import Tokenizer\n",
    "from keras.callbacks import EarlyStopping\n",
    "from keras.models import Sequential\n",
    "import keras.utils as ku \n",
    "\n",
    "# # set seeds for reproducability\n",
    "# from tensorflow import set_random_seed\n",
    "# from numpy.random import seed\n"
   ]
  },
  {
   "cell_type": "code",
   "execution_count": 98,
   "metadata": {},
   "outputs": [],
   "source": [
    "# Entertainment            24280\n",
    "# People & Blogs            7816\n",
    "# News & Politics           6311\n",
    "# Music                     5110\n",
    "# Sports                    4252\n",
    "# Comedy                    3992\n",
    "# Film & Animation          3226\n",
    "# Howto & Style             3142"
   ]
  },
  {
   "cell_type": "code",
   "execution_count": 100,
   "metadata": {},
   "outputs": [
    {
     "data": {
      "text/plain": [
       "66201"
      ]
     },
     "execution_count": 100,
     "metadata": {},
     "output_type": "execute_result"
    }
   ],
   "source": [
    "# selecting popular Youtube videos\n",
    "\n",
    "entertainment_title= country[\"title\"][(country['category'] == 'Entertainment')] \n",
    "news_politics_title= country[\"title\"][(country['category'] == 'News & Politics')] \n",
    "people_title= country[\"title\"][(country['category'] == 'People & Blogs')] \n",
    "music_title= country[\"title\"][(country['category'] == 'Music')] \n",
    "sports_title= country[\"title\"][(country['category'] == 'Sports')] \n",
    "comedy_title= country[\"title\"][(country['category'] == 'Comedy')] \n",
    "\n",
    "titles_to_include = country[\"title\"][(country['category'] != 'Music')]\n",
    "titles_to_include.head()\n",
    "titles_to_include.count()"
   ]
  },
  {
   "cell_type": "code",
   "execution_count": 101,
   "metadata": {},
   "outputs": [
    {
     "name": "stdout",
     "output_type": "stream",
     "text": [
      "36641.0\n",
      "140615.0\n",
      "486598.0\n"
     ]
    },
    {
     "data": {
      "text/plain": [
       "0    33101\n",
       "1    33100\n",
       "Name: popular, dtype: int64"
      ]
     },
     "execution_count": 101,
     "metadata": {},
     "output_type": "execute_result"
    }
   ],
   "source": [
    "Q1 = country.views.quantile(0.25)\n",
    "Q2 = country.views.quantile(0.5)\n",
    "Q3 = country.views.quantile(0.75)\n",
    "IQR = Q3 - Q1\n",
    "print(Q1)\n",
    "print(Q2)\n",
    "print(Q3)\n",
    "\n",
    "#popular_videos=three_countries.loc[three_countries.views > (Q3 + 1.5 * IQR)]\n",
    "popular_videos=country[country.views > (Q2)]\n",
    "\n",
    "country['popular']=0\n",
    "#country.loc[country.views > (Q3 + 1.5 * IQR),'popular']=1\n",
    "country.loc[country.views > (Q2),'popular']=1\n",
    "\n",
    "country['popular'].value_counts()"
   ]
  },
  {
   "cell_type": "code",
   "execution_count": 103,
   "metadata": {},
   "outputs": [],
   "source": [
    "popular = country[\"title\"][country[\"popular\"] == 1].apply(spacy_tokenizer)"
   ]
  },
  {
   "cell_type": "code",
   "execution_count": 137,
   "metadata": {},
   "outputs": [],
   "source": [
    "# #tokenize words by popularity \n",
    "\n",
    "# def word_generator(text):\n",
    "#     word = list(text.split())\n",
    "#     return word\n",
    "# def bigram_generator(text):\n",
    "#     bgram = list(nltk.bigrams(text.split()))\n",
    "#     bgram = [' '.join((a, b)) for (a, b) in bgram]\n",
    "#     return bgram\n",
    "# def trigram_generator(text):\n",
    "#     tgram = list(nltk.trigrams(text.split()))\n",
    "#     tgram = [' '.join((a, b, c)) for (a, b, c) in tgram]\n",
    "#     return tgram\n",
    "\n",
    "\n",
    "# #normal_words = normal.apply(word_generator)\n",
    "# popular_words = popular.apply(word_generator)\n",
    "# #normal_bigrams = normal.apply(bigram_generator)\n",
    "# popular_bigrams = popular.apply(bigram_generator)\n",
    "# #normal_trigrams = normal.apply(trigram_generator)\n",
    "# popular_trigrams = popular.apply(trigram_generator)"
   ]
  },
  {
   "cell_type": "code",
   "execution_count": 135,
   "metadata": {},
   "outputs": [],
   "source": [
    "# #function that makes a pretty word frequency plot\n",
    "\n",
    "# def word_plot(words,my_color):\n",
    "#     slist =[]\n",
    "#     for x in words:\n",
    "#         slist.extend(x)\n",
    "#     fig = plt.figure(figsize=(15, 10))\n",
    "#     pd.Series(slist).value_counts()[:20].sort_values(ascending=True).plot(kind='barh',fontsize=20, color=my_color)\n",
    "#     plt.show()"
   ]
  },
  {
   "cell_type": "code",
   "execution_count": 136,
   "metadata": {},
   "outputs": [],
   "source": [
    "# word_plot(popular_words, 'blue')"
   ]
  },
  {
   "cell_type": "code",
   "execution_count": 112,
   "metadata": {},
   "outputs": [
    {
     "data": {
      "text/plain": [
       "LogisticRegression(C=0.1, class_weight=None, dual=False, fit_intercept=True,\n",
       "                   intercept_scaling=1, l1_ratio=None, max_iter=100,\n",
       "                   multi_class='auto', n_jobs=None, penalty='l2',\n",
       "                   random_state=None, solver='sag', tol=0.0001, verbose=0,\n",
       "                   warm_start=False)"
      ]
     },
     "execution_count": 112,
     "metadata": {},
     "output_type": "execute_result"
    }
   ],
   "source": [
    "word_vectorizer = TfidfVectorizer(\n",
    "    sublinear_tf=True,\n",
    "    strip_accents='unicode',\n",
    "    analyzer='word',\n",
    "    token_pattern=r'\\w{1,}',\n",
    "    stop_words='english',\n",
    "    ngram_range=(1, 1),\n",
    "    max_features=10000)\n",
    "word_vectorizer.fit(country.title)\n",
    "word_features = word_vectorizer.transform(country.title)\n",
    "\n",
    "classifier_popular = LogisticRegression(C=0.1, solver='sag')\n",
    "classifier_popular.fit(word_features , country.popular)"
   ]
  },
  {
   "cell_type": "code",
   "execution_count": 113,
   "metadata": {},
   "outputs": [],
   "source": [
    "names=['normal','popular']"
   ]
  },
  {
   "cell_type": "code",
   "execution_count": 134,
   "metadata": {},
   "outputs": [],
   "source": [
    "# from sklearn.pipeline import Pipeline\n",
    "# c_tf = make_pipeline(word_vectorizer, classifier_popular)\n",
    "# explainer_tf = LimeTextExplainer(class_names=names)\n",
    "\n",
    "# exp = explainer_tf.explain_instance(country.title.iloc[10], c_tf.predict_proba, num_features=4, top_labels=1)\n",
    "# exp.show_in_notebook(text= country.title.iloc[10])"
   ]
  },
  {
   "cell_type": "markdown",
   "metadata": {},
   "source": [
    "**LSTM 1- generating text**"
   ]
  },
  {
   "cell_type": "code",
   "execution_count": 124,
   "metadata": {},
   "outputs": [
    {
     "data": {
      "text/plain": [
       "[[20371, 20372],\n",
       " [20371, 20372, 18],\n",
       " [20371, 20372, 18, 870],\n",
       " [20371, 20372, 18, 870, 138],\n",
       " [7768, 897],\n",
       " [7768, 897, 7769],\n",
       " [7768, 897, 7769, 20373],\n",
       " [7768, 897, 7769, 20373, 1799],\n",
       " [7768, 897, 7769, 20373, 1799, 1706],\n",
       " [7768, 897, 7769, 20373, 1799, 1706, 374]]"
      ]
     },
     "execution_count": 124,
     "metadata": {},
     "output_type": "execute_result"
    }
   ],
   "source": [
    "# generating titles by LSTM\n",
    "\n",
    "tokenizer = Tokenizer()\n",
    "\n",
    "def get_sequence_of_tokens(corpus):\n",
    "    ## tokenization\n",
    "    tokenizer.fit_on_texts(corpus)\n",
    "    total_words = len(tokenizer.word_index) + 1\n",
    "    \n",
    "    ## convert data to sequence of tokens \n",
    "    input_sequences = []\n",
    "    for line in corpus:\n",
    "        token_list = tokenizer.texts_to_sequences([line])[0]\n",
    "        for i in range(1, len(token_list)):\n",
    "            n_gram_sequence = token_list[:i+1]\n",
    "            input_sequences.append(n_gram_sequence)\n",
    "    return input_sequences, total_words\n",
    "\n",
    "inp_sequences, total_words = get_sequence_of_tokens(popular)\n",
    "inp_sequences[:10]"
   ]
  },
  {
   "cell_type": "code",
   "execution_count": 125,
   "metadata": {},
   "outputs": [],
   "source": [
    "def generate_padded_sequences(input_sequences):\n",
    "    max_sequence_len = max([len(x) for x in input_sequences])\n",
    "    input_sequences = np.array(pad_sequences(input_sequences, maxlen=max_sequence_len, padding='pre'))\n",
    "    \n",
    "    predictors, label = input_sequences[:,:-1],input_sequences[:,-1]\n",
    "    label = ku.to_categorical(label, num_classes=total_words)\n",
    "    return predictors, label, max_sequence_len\n",
    "\n",
    "predictors, label, max_sequence_len = generate_padded_sequences(inp_sequences)"
   ]
  },
  {
   "cell_type": "code",
   "execution_count": 126,
   "metadata": {},
   "outputs": [
    {
     "name": "stdout",
     "output_type": "stream",
     "text": [
      "Model: \"sequential_1\"\n",
      "_________________________________________________________________\n",
      "Layer (type)                 Output Shape              Param #   \n",
      "=================================================================\n",
      "embedding_1 (Embedding)      (None, 25, 10)            513340    \n",
      "_________________________________________________________________\n",
      "lstm_1 (LSTM)                (None, 100)               44400     \n",
      "_________________________________________________________________\n",
      "dropout_1 (Dropout)          (None, 100)               0         \n",
      "_________________________________________________________________\n",
      "dense_1 (Dense)              (None, 51334)             5184734   \n",
      "=================================================================\n",
      "Total params: 5,742,474\n",
      "Trainable params: 5,742,474\n",
      "Non-trainable params: 0\n",
      "_________________________________________________________________\n"
     ]
    }
   ],
   "source": [
    "def create_model(max_sequence_len, total_words):\n",
    "    input_len = max_sequence_len - 1\n",
    "    model = Sequential()\n",
    "    \n",
    "    # Add Input Embedding Layer\n",
    "    model.add(Embedding(total_words, 10, input_length=input_len))\n",
    "    \n",
    "    # Add Hidden Layer 1 - LSTM Layer\n",
    "    model.add(LSTM(100))\n",
    "    model.add(Dropout(0.1))\n",
    "    \n",
    "    # Add Output Layer\n",
    "    model.add(Dense(total_words, activation='softmax'))\n",
    "\n",
    "    model.compile(loss='categorical_crossentropy', optimizer='adam')\n",
    "    \n",
    "    return model\n",
    "\n",
    "model = create_model(max_sequence_len, total_words)\n",
    "model.summary()"
   ]
  },
  {
   "cell_type": "code",
   "execution_count": 127,
   "metadata": {},
   "outputs": [
    {
     "name": "stderr",
     "output_type": "stream",
     "text": [
      "/Users/mahimakaushiva/opt/anaconda3/lib/python3.7/site-packages/tensorflow_core/python/framework/indexed_slices.py:424: UserWarning: Converting sparse IndexedSlices to a dense Tensor of unknown shape. This may consume a large amount of memory.\n",
      "  \"Converting sparse IndexedSlices to a dense Tensor of unknown shape. \"\n"
     ]
    },
    {
     "name": "stdout",
     "output_type": "stream",
     "text": [
      "Epoch 1/5\n",
      "Epoch 2/5\n",
      "Epoch 3/5\n",
      "Epoch 4/5\n",
      "Epoch 5/5\n"
     ]
    },
    {
     "data": {
      "text/plain": [
       "<keras.callbacks.callbacks.History at 0x24fb5b4d50>"
      ]
     },
     "execution_count": 127,
     "metadata": {},
     "output_type": "execute_result"
    }
   ],
   "source": [
    "model.fit(predictors, label, epochs=5, verbose=5)"
   ]
  },
  {
   "cell_type": "code",
   "execution_count": 128,
   "metadata": {},
   "outputs": [],
   "source": [
    "def generate_text(seed_text, next_words, model, max_sequence_len):\n",
    "    for _ in range(next_words):\n",
    "        token_list = tokenizer.texts_to_sequences([seed_text])[0]\n",
    "        token_list = pad_sequences([token_list], maxlen=max_sequence_len-1, padding='pre')\n",
    "        predicted = model.predict_classes(token_list, verbose=0)\n",
    "        \n",
    "        output_word = \"\"\n",
    "        for word,index in tokenizer.word_index.items():\n",
    "            if index == predicted:\n",
    "                output_word = word\n",
    "                break\n",
    "        seed_text += \" \"+output_word\n",
    "    return seed_text.title()"
   ]
  },
  {
   "cell_type": "code",
   "execution_count": 133,
   "metadata": {},
   "outputs": [
    {
     "name": "stdout",
     "output_type": "stream",
     "text": [
      "United States Official Trailer Hd Netflix Movie\n",
      "Bangtan Vs 68 Vs. Raw\n",
      "Fergie Vs Real Madrid 1\n",
      "Korea X Lil Pump Official\n"
     ]
    }
   ],
   "source": [
    "# print (generate_text(\"Drake\", 7, model, max_sequence_len))\n",
    "print (generate_text(\"united states\", 5, model, max_sequence_len))\n",
    "print (generate_text(\"Bangtan\", 4, model, max_sequence_len))\n",
    "print (generate_text(\"Fergie\", 4, model, max_sequence_len))\n",
    "print (generate_text(\"korea\", 4, model, max_sequence_len))\n",
    "# print (generate_text(\"Minnesota\", 4, model, max_sequence_len))"
   ]
  },
  {
   "cell_type": "markdown",
   "metadata": {},
   "source": [
    "**LSTM- 2** - attempting to predict which category the title belongs to"
   ]
  },
  {
   "cell_type": "code",
   "execution_count": 32,
   "metadata": {},
   "outputs": [
    {
     "data": {
      "text/plain": [
       "Entertainment            24280\n",
       "People & Blogs            7816\n",
       "News & Politics           6311\n",
       "Music                     5110\n",
       "Sports                    4252\n",
       "Comedy                    3992\n",
       "Film & Animation          3226\n",
       "Howto & Style             3142\n",
       "Gaming                    1901\n",
       "Education                 1794\n",
       "Science & Technology      1453\n",
       "Pets & Animals            1147\n",
       "Autos & Vehicles           982\n",
       "Nonprofits & Activism      296\n",
       "Travel & Events            268\n",
       "Shows                      231\n",
       "Name: category, dtype: int64"
      ]
     },
     "execution_count": 32,
     "metadata": {},
     "output_type": "execute_result"
    }
   ],
   "source": [
    "country['category'].value_counts().sort_values(ascending= False)"
   ]
  },
  {
   "cell_type": "code",
   "execution_count": 34,
   "metadata": {},
   "outputs": [],
   "source": [
    "# cleaning the text\n",
    "\n",
    "from nltk.corpus import stopwords\n",
    "\n",
    "country = country.reset_index(drop=True)\n",
    "REPLACE_BY_SPACE_RE = re.compile('[/(){}\\[\\]\\|@,;]')\n",
    "BAD_SYMBOLS_RE = re.compile('[^0-9a-z #+_]')\n",
    "STOPWORDS = set(stopwords.words('english'))\n",
    "\n",
    "def clean_text(text):\n",
    "    \"\"\"\n",
    "        text: a string\n",
    "        \n",
    "        return: modified initial string\n",
    "    \"\"\"\n",
    "    text = text.lower() # lowercase text\n",
    "    text = REPLACE_BY_SPACE_RE.sub(' ', text) # replace REPLACE_BY_SPACE_RE symbols by space in text. substitute the matched string in REPLACE_BY_SPACE_RE with space.\n",
    "    text = BAD_SYMBOLS_RE.sub('', text) # remove symbols which are in BAD_SYMBOLS_RE from text. substitute the matched string in BAD_SYMBOLS_RE with nothing. \n",
    "    text = text.replace('x', '')\n",
    "#    text = re.sub(r'\\W+', '', text)\n",
    "    text = ' '.join(word for word in text.split() if word not in STOPWORDS) # remove stopwors from text\n",
    "    return text\n",
    "country['title'] = country['title'].apply(clean_text)\n",
    "country['title'] = country['title'].str.replace('\\d+', '')"
   ]
  },
  {
   "cell_type": "code",
   "execution_count": 36,
   "metadata": {},
   "outputs": [
    {
     "name": "stdout",
     "output_type": "stream",
     "text": [
      "50589                           lass sie zurck master mind\n",
      "439                       surface book  macbook pro killer\n",
      "20453    ipl  kingfisher funny commercial ads video lov...\n",
      "8879                 girls get wild drunk baap bakchod sid\n",
      "61880                                             zozosuit\n",
      "Name: title, dtype: object\n"
     ]
    }
   ],
   "source": [
    "print(country['title'].sample(5))"
   ]
  },
  {
   "cell_type": "code",
   "execution_count": 41,
   "metadata": {},
   "outputs": [
    {
     "name": "stderr",
     "output_type": "stream",
     "text": [
      "Using TensorFlow backend.\n"
     ]
    },
    {
     "name": "stdout",
     "output_type": "stream",
     "text": [
      "Found 53926 unique tokens.\n"
     ]
    }
   ],
   "source": [
    "# LSTM modeling\n",
    "\n",
    "#Vectorization by converting each text into a sequence of integers or a vector\n",
    "#We want results from the top 50000 words\n",
    "#Set the maximum number of words in each title to 7\n",
    "\n",
    "# keras module for building LSTM \n",
    "from keras.preprocessing.sequence import pad_sequences\n",
    "from keras.layers import Embedding, LSTM, Dense, Dropout\n",
    "from keras.preprocessing.text import Tokenizer\n",
    "from keras.callbacks import EarlyStopping\n",
    "from keras.models import Sequential\n",
    "import keras.utils as ku \n",
    "\n",
    "# The maximum number of words to be used. (most frequent)\n",
    "MAX_NB_WORDS = 50000\n",
    "# Max number of words in each complaint.\n",
    "MAX_SEQUENCE_LENGTH = 7\n",
    "# This is fixed.\n",
    "EMBEDDING_DIM = 100\n",
    "tokenizer = Tokenizer(num_words=MAX_NB_WORDS, filters='!\"#$%&()*+,-./:;<=>?@[\\]^_`{|}~', lower=True)\n",
    "tokenizer.fit_on_texts(country['title'].values)\n",
    "word_index = tokenizer.word_index\n",
    "print('Found %s unique tokens.' % len(word_index))"
   ]
  },
  {
   "cell_type": "code",
   "execution_count": 42,
   "metadata": {},
   "outputs": [
    {
     "name": "stdout",
     "output_type": "stream",
     "text": [
      "Shape of data tensor: (66201, 7)\n"
     ]
    }
   ],
   "source": [
    "# truncate and pad the input sequence so they are all in the same length for modeling\n",
    "\n",
    "X = tokenizer.texts_to_sequences(country['title'].values)\n",
    "X = pad_sequences(X, maxlen=MAX_SEQUENCE_LENGTH)\n",
    "print('Shape of data tensor:', X.shape)"
   ]
  },
  {
   "cell_type": "code",
   "execution_count": 44,
   "metadata": {},
   "outputs": [
    {
     "name": "stdout",
     "output_type": "stream",
     "text": [
      "Shape of label tensor: (66201, 16)\n"
     ]
    }
   ],
   "source": [
    "# converting categorical labels to numbers\n",
    "\n",
    "Y = pd.get_dummies(country['category']).values\n",
    "print('Shape of label tensor:', Y.shape)"
   ]
  },
  {
   "cell_type": "code",
   "execution_count": 45,
   "metadata": {},
   "outputs": [
    {
     "name": "stdout",
     "output_type": "stream",
     "text": [
      "(59580, 7) (59580, 16)\n",
      "(6621, 7) (6621, 16)\n"
     ]
    }
   ],
   "source": [
    "# Train-test-split\n",
    "\n",
    "X_train, X_test, Y_train, Y_test = train_test_split(X,Y, test_size = 0.10, random_state = 42)\n",
    "print(X_train.shape,Y_train.shape)\n",
    "print(X_test.shape,Y_test.shape)"
   ]
  },
  {
   "cell_type": "code",
   "execution_count": 47,
   "metadata": {},
   "outputs": [
    {
     "data": {
      "text/plain": [
       "66201"
      ]
     },
     "execution_count": 47,
     "metadata": {},
     "output_type": "execute_result"
    }
   ],
   "source": [
    "batch_size = len(X)\n",
    "batch_size"
   ]
  },
  {
   "cell_type": "code",
   "execution_count": 62,
   "metadata": {},
   "outputs": [
    {
     "name": "stderr",
     "output_type": "stream",
     "text": [
      "/Users/mahimakaushiva/opt/anaconda3/lib/python3.7/site-packages/tensorflow_core/python/framework/indexed_slices.py:424: UserWarning: Converting sparse IndexedSlices to a dense Tensor of unknown shape. This may consume a large amount of memory.\n",
      "  \"Converting sparse IndexedSlices to a dense Tensor of unknown shape. \"\n"
     ]
    },
    {
     "name": "stdout",
     "output_type": "stream",
     "text": [
      "Train on 53622 samples, validate on 5958 samples\n",
      "Epoch 1/5\n",
      "53622/53622 [==============================] - 54s 1ms/step - loss: 1.6896 - accuracy: 0.4869 - val_loss: 1.3136 - val_accuracy: 0.5916\n",
      "Epoch 2/5\n",
      "53622/53622 [==============================] - 53s 988us/step - loss: 1.0149 - accuracy: 0.6897 - val_loss: 1.2056 - val_accuracy: 0.6383\n",
      "Epoch 3/5\n",
      "53622/53622 [==============================] - 52s 962us/step - loss: 0.7223 - accuracy: 0.7744 - val_loss: 1.2769 - val_accuracy: 0.6393\n",
      "Epoch 4/5\n",
      "53622/53622 [==============================] - 52s 975us/step - loss: 0.5931 - accuracy: 0.8114 - val_loss: 1.3386 - val_accuracy: 0.6378\n",
      "Epoch 5/5\n",
      "53622/53622 [==============================] - 50s 927us/step - loss: 0.5269 - accuracy: 0.8288 - val_loss: 1.4333 - val_accuracy: 0.6383\n"
     ]
    }
   ],
   "source": [
    "# first layer is the embedded layer that uses 100 length vectors to represent each word\n",
    "# spatialdropout1d performs variational dropout\n",
    "# the next layer is the LSTM layer with 100 memory units\n",
    "# output layer must contain 16 output values, one for each class\n",
    "# activation function is softmax for multi-class classification\n",
    "# categorical_crossentropy is used as the loss function\n",
    "\n",
    "from keras.layers.core import Dense, SpatialDropout1D\n",
    "model = Sequential()\n",
    "model.add(Embedding(MAX_NB_WORDS, EMBEDDING_DIM, input_length=X.shape[1]))\n",
    "model.add(SpatialDropout1D(0.2))\n",
    "model.add(LSTM(100, dropout=0.2, recurrent_dropout=0.2))\n",
    "model.add(Dense(16, activation='softmax'))\n",
    "model.compile(loss='categorical_crossentropy', optimizer='adam', metrics=['accuracy'])\n",
    "\n",
    "epochs = 5\n",
    "batch_size = 64\n",
    "\n",
    "history = model.fit(X_train, Y_train, epochs=epochs, batch_size=batch_size,validation_split=0.1,callbacks=[EarlyStopping(monitor='val_loss', patience=3, min_delta=0.0001)])\n"
   ]
  },
  {
   "cell_type": "code",
   "execution_count": 63,
   "metadata": {},
   "outputs": [
    {
     "name": "stdout",
     "output_type": "stream",
     "text": [
      "6621/6621 [==============================] - 0s 74us/step\n",
      "Test set\n",
      "  Loss: 1.348\n",
      "  Accuracy: 0.650\n"
     ]
    }
   ],
   "source": [
    "accr = model.evaluate(X_test,Y_test)\n",
    "print('Test set\\n  Loss: {:0.3f}\\n  Accuracy: {:0.3f}'.format(accr[0],accr[1]))"
   ]
  },
  {
   "cell_type": "code",
   "execution_count": 59,
   "metadata": {},
   "outputs": [],
   "source": [
    "# history = model.fit(X_train, Y_train, nb_epoch=5, shuffle=True)"
   ]
  },
  {
   "cell_type": "code",
   "execution_count": 64,
   "metadata": {},
   "outputs": [
    {
     "data": {
      "image/png": "[encoded data removed]",
      "text/plain": [
       "<Figure size 432x288 with 1 Axes>"
      ]
     },
     "metadata": {
      "needs_background": "light"
     },
     "output_type": "display_data"
    }
   ],
   "source": [
    "# visualising the loss between train and test\n",
    "plt.title('Loss')\n",
    "plt.plot(history.history['loss'], label = 'train')\n",
    "plt.plot(history.history['val_loss'], label = 'test')\n",
    "plt.legend()\n",
    "plt.show()"
   ]
  },
  {
   "cell_type": "code",
   "execution_count": 67,
   "metadata": {},
   "outputs": [
    {
     "data": {
      "image/png": "[encoded data removed]",
      "text/plain": [
       "<Figure size 432x288 with 1 Axes>"
      ]
     },
     "metadata": {
      "needs_background": "light"
     },
     "output_type": "display_data"
    }
   ],
   "source": [
    "# visualising the accuracy between train and test\n",
    "plt.title('Accuracy')\n",
    "plt.plot(history.history['accuracy'], label='train')\n",
    "plt.plot(history.history['val_accuracy'], label='test')\n",
    "plt.legend()\n",
    "plt.show()"
   ]
  },
  {
   "cell_type": "code",
   "execution_count": 90,
   "metadata": {},
   "outputs": [],
   "source": [
    "# country['title'].sample(5)"
   ]
  },
  {
   "cell_type": "code",
   "execution_count": 89,
   "metadata": {},
   "outputs": [
    {
     "name": "stdout",
     "output_type": "stream",
     "text": [
      "[[5.1286338e-06 4.7775914e-04 5.4822416e-05 9.8811918e-01 1.0190484e-03\n",
      "  1.5776446e-04 3.7624028e-05 1.0922675e-03 1.4086666e-03 2.7691729e-07\n",
      "  7.5314003e-03 1.3557341e-05 3.3049062e-06 3.7359157e-05 4.1264022e-05\n",
      "  6.4531008e-07]] Music\n"
     ]
    }
   ],
   "source": [
    "# testing with a new title\n",
    "\n",
    "new_title = ['dwayne johnson eciting baby news']\n",
    "seq = tokenizer.texts_to_sequences(new_title)\n",
    "padded = pad_sequences(seq, maxlen=MAX_SEQUENCE_LENGTH)\n",
    "pred = model.predict(padded)\n",
    "labels = ['Entertainment', 'People & Blogs', 'News & Politics','Music','Sports','Comedy','Film & Animation', 'Howto & Style','Gaming',\n",
    "          'Education','Science & Technology','Pets & Animals','Autos & Vehicles','Nonprofits & Activism','Travel & Events','Shows']\n",
    "print(pred, labels[np.argmax(pred)])"
   ]
  },
  {
   "cell_type": "code",
   "execution_count": null,
   "metadata": {},
   "outputs": [],
   "source": []
  }
 ],
 "metadata": {
  "kernelspec": {
   "display_name": "Python 3",
   "language": "python",
   "name": "python3"
  },
  "language_info": {
   "codemirror_mode": {
    "name": "ipython",
    "version": 3
   },
   "file_extension": ".py",
   "mimetype": "text/x-python",
   "name": "python",
   "nbconvert_exporter": "python",
   "pygments_lexer": "ipython3",
   "version": "3.7.4"
  }
 },
 "nbformat": 4,
 "nbformat_minor": 2
}
