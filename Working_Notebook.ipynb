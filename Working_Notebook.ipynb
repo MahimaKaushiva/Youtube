{
 "cells": [
  {
   "cell_type": "code",
   "execution_count": 3,
   "metadata": {},
   "outputs": [],
   "source": [
    "import pandas as pd\n",
    "import numpy as np\n",
    "import pickle\n",
    "import collections\n",
    "from keras.preprocessing.text import Tokenizer\n",
    "from keras.models import Sequential, Model\n",
    "from keras.layers import Activation, Dense, Dropout\n",
    "from sklearn.preprocessing import LabelBinarizer\n",
    "import sklearn.datasets as skds\n",
    "from pathlib import Path\n",
    "import matplotlib.pyplot as plt\n",
    "import itertools\n",
    "from sklearn.metrics import confusion_matrix"
   ]
  },
  {
   "cell_type": "code",
   "execution_count": 4,
   "metadata": {},
   "outputs": [
    {
     "data": {
      "text/html": [
       "<div>\n",
       "<style scoped>\n",
       "    .dataframe tbody tr th:only-of-type {\n",
       "        vertical-align: middle;\n",
       "    }\n",
       "\n",
       "    .dataframe tbody tr th {\n",
       "        vertical-align: top;\n",
       "    }\n",
       "\n",
       "    .dataframe thead th {\n",
       "        text-align: right;\n",
       "    }\n",
       "</style>\n",
       "<table border=\"1\" class=\"dataframe\">\n",
       "  <thead>\n",
       "    <tr style=\"text-align: right;\">\n",
       "      <th></th>\n",
       "      <th>video_id</th>\n",
       "      <th>trending_date</th>\n",
       "      <th>title</th>\n",
       "      <th>channel_title</th>\n",
       "      <th>category_id</th>\n",
       "      <th>publish_time</th>\n",
       "      <th>tags</th>\n",
       "      <th>views</th>\n",
       "      <th>likes</th>\n",
       "      <th>dislikes</th>\n",
       "      <th>comment_count</th>\n",
       "      <th>thumbnail_link</th>\n",
       "      <th>comments_disabled</th>\n",
       "      <th>ratings_disabled</th>\n",
       "      <th>video_error_or_removed</th>\n",
       "      <th>description</th>\n",
       "      <th>trending_days</th>\n",
       "      <th>region</th>\n",
       "    </tr>\n",
       "  </thead>\n",
       "  <tbody>\n",
       "    <tr>\n",
       "      <td>10</td>\n",
       "      <td>9wRQljFNDW8</td>\n",
       "      <td>17.14.11</td>\n",
       "      <td>Dion Lewis' 103-Yd Kick Return TD vs. Denver! ...</td>\n",
       "      <td>NFL</td>\n",
       "      <td>17</td>\n",
       "      <td>2017-11-13T02:05:26.000Z</td>\n",
       "      <td>NFL|\"Football\"|\"offense\"|\"defense\"|\"afc\"|\"nfc\"...</td>\n",
       "      <td>81377</td>\n",
       "      <td>655</td>\n",
       "      <td>25</td>\n",
       "      <td>177</td>\n",
       "      <td>https://i.ytimg.com/vi/9wRQljFNDW8/default.jpg</td>\n",
       "      <td>False</td>\n",
       "      <td>False</td>\n",
       "      <td>False</td>\n",
       "      <td>New England Patriots returner Dion Lewis blast...</td>\n",
       "      <td>1</td>\n",
       "      <td>US</td>\n",
       "    </tr>\n",
       "    <tr>\n",
       "      <td>36</td>\n",
       "      <td>Om_zGhJLZ5U</td>\n",
       "      <td>17.14.11</td>\n",
       "      <td>TL;DW - Every DCEU Movie Before Justice League</td>\n",
       "      <td>Screen Junkies</td>\n",
       "      <td>1</td>\n",
       "      <td>2017-11-12T18:00:03.000Z</td>\n",
       "      <td>screenjunkies|\"screen junkies\"|\"sj news\"|\"hone...</td>\n",
       "      <td>288922</td>\n",
       "      <td>7515</td>\n",
       "      <td>792</td>\n",
       "      <td>2111</td>\n",
       "      <td>https://i.ytimg.com/vi/Om_zGhJLZ5U/default.jpg</td>\n",
       "      <td>False</td>\n",
       "      <td>False</td>\n",
       "      <td>False</td>\n",
       "      <td>With Justice League approaching fast we rewatc...</td>\n",
       "      <td>1</td>\n",
       "      <td>US</td>\n",
       "    </tr>\n",
       "    <tr>\n",
       "      <td>41</td>\n",
       "      <td>goP4Z5wyOlM</td>\n",
       "      <td>17.14.11</td>\n",
       "      <td>Iraq-Iran earthquake: Deadly tremor hits borde...</td>\n",
       "      <td>BBC News</td>\n",
       "      <td>25</td>\n",
       "      <td>2017-11-12T21:16:40.000Z</td>\n",
       "      <td>bbc|\"bbc news\"|\"news\"|\"iran\"|\"iran news\"|\"iraq...</td>\n",
       "      <td>34785</td>\n",
       "      <td>308</td>\n",
       "      <td>26</td>\n",
       "      <td>413</td>\n",
       "      <td>https://i.ytimg.com/vi/goP4Z5wyOlM/default.jpg</td>\n",
       "      <td>False</td>\n",
       "      <td>False</td>\n",
       "      <td>False</td>\n",
       "      <td>A strong 7.2-magnitude earthquake has rattled ...</td>\n",
       "      <td>1</td>\n",
       "      <td>US</td>\n",
       "    </tr>\n",
       "    <tr>\n",
       "      <td>44</td>\n",
       "      <td>STI2fI7sKMo</td>\n",
       "      <td>17.14.11</td>\n",
       "      <td>AFFAIRS, EX BOYFRIENDS, $18MILLION NET WORTH -...</td>\n",
       "      <td>Shawn Johnson East</td>\n",
       "      <td>22</td>\n",
       "      <td>2017-11-11T15:00:03.000Z</td>\n",
       "      <td>shawn johnson|\"andrew east\"|\"shawn east\"|\"shaw...</td>\n",
       "      <td>321053</td>\n",
       "      <td>4451</td>\n",
       "      <td>1772</td>\n",
       "      <td>895</td>\n",
       "      <td>https://i.ytimg.com/vi/STI2fI7sKMo/default.jpg</td>\n",
       "      <td>False</td>\n",
       "      <td>False</td>\n",
       "      <td>False</td>\n",
       "      <td>Subscribe for weekly videos ▶ http://bit.ly/sj...</td>\n",
       "      <td>1</td>\n",
       "      <td>US</td>\n",
       "    </tr>\n",
       "    <tr>\n",
       "      <td>46</td>\n",
       "      <td>ogYum4kWXgk</td>\n",
       "      <td>17.14.11</td>\n",
       "      <td>People are Awesome &amp; The Pet Collective presen...</td>\n",
       "      <td>People are Awesome</td>\n",
       "      <td>24</td>\n",
       "      <td>2017-11-13T13:00:06.000Z</td>\n",
       "      <td>people are awesome|\"people are awesome 2017\"|\"...</td>\n",
       "      <td>69844</td>\n",
       "      <td>3417</td>\n",
       "      <td>33</td>\n",
       "      <td>160</td>\n",
       "      <td>https://i.ytimg.com/vi/ogYum4kWXgk/default.jpg</td>\n",
       "      <td>False</td>\n",
       "      <td>False</td>\n",
       "      <td>False</td>\n",
       "      <td>Pets are Awesome! This is for all the animal l...</td>\n",
       "      <td>1</td>\n",
       "      <td>US</td>\n",
       "    </tr>\n",
       "  </tbody>\n",
       "</table>\n",
       "</div>"
      ],
      "text/plain": [
       "       video_id trending_date  \\\n",
       "10  9wRQljFNDW8      17.14.11   \n",
       "36  Om_zGhJLZ5U      17.14.11   \n",
       "41  goP4Z5wyOlM      17.14.11   \n",
       "44  STI2fI7sKMo      17.14.11   \n",
       "46  ogYum4kWXgk      17.14.11   \n",
       "\n",
       "                                                title       channel_title  \\\n",
       "10  Dion Lewis' 103-Yd Kick Return TD vs. Denver! ...                 NFL   \n",
       "36     TL;DW - Every DCEU Movie Before Justice League      Screen Junkies   \n",
       "41  Iraq-Iran earthquake: Deadly tremor hits borde...            BBC News   \n",
       "44  AFFAIRS, EX BOYFRIENDS, $18MILLION NET WORTH -...  Shawn Johnson East   \n",
       "46  People are Awesome & The Pet Collective presen...  People are Awesome   \n",
       "\n",
       "    category_id              publish_time  \\\n",
       "10           17  2017-11-13T02:05:26.000Z   \n",
       "36            1  2017-11-12T18:00:03.000Z   \n",
       "41           25  2017-11-12T21:16:40.000Z   \n",
       "44           22  2017-11-11T15:00:03.000Z   \n",
       "46           24  2017-11-13T13:00:06.000Z   \n",
       "\n",
       "                                                 tags   views  likes  \\\n",
       "10  NFL|\"Football\"|\"offense\"|\"defense\"|\"afc\"|\"nfc\"...   81377    655   \n",
       "36  screenjunkies|\"screen junkies\"|\"sj news\"|\"hone...  288922   7515   \n",
       "41  bbc|\"bbc news\"|\"news\"|\"iran\"|\"iran news\"|\"iraq...   34785    308   \n",
       "44  shawn johnson|\"andrew east\"|\"shawn east\"|\"shaw...  321053   4451   \n",
       "46  people are awesome|\"people are awesome 2017\"|\"...   69844   3417   \n",
       "\n",
       "    dislikes  comment_count                                  thumbnail_link  \\\n",
       "10        25            177  https://i.ytimg.com/vi/9wRQljFNDW8/default.jpg   \n",
       "36       792           2111  https://i.ytimg.com/vi/Om_zGhJLZ5U/default.jpg   \n",
       "41        26            413  https://i.ytimg.com/vi/goP4Z5wyOlM/default.jpg   \n",
       "44      1772            895  https://i.ytimg.com/vi/STI2fI7sKMo/default.jpg   \n",
       "46        33            160  https://i.ytimg.com/vi/ogYum4kWXgk/default.jpg   \n",
       "\n",
       "    comments_disabled  ratings_disabled  video_error_or_removed  \\\n",
       "10              False             False                   False   \n",
       "36              False             False                   False   \n",
       "41              False             False                   False   \n",
       "44              False             False                   False   \n",
       "46              False             False                   False   \n",
       "\n",
       "                                          description  trending_days region  \n",
       "10  New England Patriots returner Dion Lewis blast...              1     US  \n",
       "36  With Justice League approaching fast we rewatc...              1     US  \n",
       "41  A strong 7.2-magnitude earthquake has rattled ...              1     US  \n",
       "44  Subscribe for weekly videos ▶ http://bit.ly/sj...              1     US  \n",
       "46  Pets are Awesome! This is for all the animal l...              1     US  "
      ]
     },
     "execution_count": 4,
     "metadata": {},
     "output_type": "execute_result"
    }
   ],
   "source": [
    "nations = ['US', 'CA', 'GB']\n",
    "country = pd.DataFrame()\n",
    "for nation in nations:\n",
    "    df = pd.DataFrame()\n",
    "    filename = f'//Users/mahimakaushiva/Desktop/Youtube/Youtube/countries/{nation}videos.csv'\n",
    "    df = pd.read_csv(filename)\n",
    "    videos = collections.Counter(df['title'])\n",
    "#     total = len(videos)\n",
    "    codes = nation\n",
    "    df['trending_days'] = df['title'].map(videos)\n",
    "    df = df.drop_duplicates(subset='title', keep='last')\n",
    "    df['region'] = codes\n",
    "    country = country.append(df)\n",
    "country.head()"
   ]
  },
  {
   "cell_type": "code",
   "execution_count": 5,
   "metadata": {},
   "outputs": [
    {
     "data": {
      "text/html": [
       "<div>\n",
       "<style scoped>\n",
       "    .dataframe tbody tr th:only-of-type {\n",
       "        vertical-align: middle;\n",
       "    }\n",
       "\n",
       "    .dataframe tbody tr th {\n",
       "        vertical-align: top;\n",
       "    }\n",
       "\n",
       "    .dataframe thead th {\n",
       "        text-align: right;\n",
       "    }\n",
       "</style>\n",
       "<table border=\"1\" class=\"dataframe\">\n",
       "  <thead>\n",
       "    <tr style=\"text-align: right;\">\n",
       "      <th></th>\n",
       "      <th>video_id</th>\n",
       "      <th>trending_date</th>\n",
       "      <th>title</th>\n",
       "      <th>channel_title</th>\n",
       "      <th>category_id</th>\n",
       "      <th>publish_time</th>\n",
       "      <th>tags</th>\n",
       "      <th>views</th>\n",
       "      <th>likes</th>\n",
       "      <th>dislikes</th>\n",
       "      <th>comment_count</th>\n",
       "      <th>thumbnail_link</th>\n",
       "      <th>comments_disabled</th>\n",
       "      <th>ratings_disabled</th>\n",
       "      <th>video_error_or_removed</th>\n",
       "      <th>description</th>\n",
       "      <th>trending_days</th>\n",
       "      <th>region</th>\n",
       "    </tr>\n",
       "  </thead>\n",
       "  <tbody>\n",
       "    <tr>\n",
       "      <td>10</td>\n",
       "      <td>9wRQljFNDW8</td>\n",
       "      <td>2017-11-14</td>\n",
       "      <td>Dion Lewis' 103-Yd Kick Return TD vs. Denver! ...</td>\n",
       "      <td>NFL</td>\n",
       "      <td>17</td>\n",
       "      <td>2017-11-13 02:05:26</td>\n",
       "      <td>NFL|\"Football\"|\"offense\"|\"defense\"|\"afc\"|\"nfc\"...</td>\n",
       "      <td>81377</td>\n",
       "      <td>655</td>\n",
       "      <td>25</td>\n",
       "      <td>177</td>\n",
       "      <td>https://i.ytimg.com/vi/9wRQljFNDW8/default.jpg</td>\n",
       "      <td>False</td>\n",
       "      <td>False</td>\n",
       "      <td>False</td>\n",
       "      <td>New England Patriots returner Dion Lewis blast...</td>\n",
       "      <td>1</td>\n",
       "      <td>US</td>\n",
       "    </tr>\n",
       "    <tr>\n",
       "      <td>36</td>\n",
       "      <td>Om_zGhJLZ5U</td>\n",
       "      <td>2017-11-14</td>\n",
       "      <td>TL;DW - Every DCEU Movie Before Justice League</td>\n",
       "      <td>Screen Junkies</td>\n",
       "      <td>1</td>\n",
       "      <td>2017-11-12 18:00:03</td>\n",
       "      <td>screenjunkies|\"screen junkies\"|\"sj news\"|\"hone...</td>\n",
       "      <td>288922</td>\n",
       "      <td>7515</td>\n",
       "      <td>792</td>\n",
       "      <td>2111</td>\n",
       "      <td>https://i.ytimg.com/vi/Om_zGhJLZ5U/default.jpg</td>\n",
       "      <td>False</td>\n",
       "      <td>False</td>\n",
       "      <td>False</td>\n",
       "      <td>With Justice League approaching fast we rewatc...</td>\n",
       "      <td>1</td>\n",
       "      <td>US</td>\n",
       "    </tr>\n",
       "    <tr>\n",
       "      <td>41</td>\n",
       "      <td>goP4Z5wyOlM</td>\n",
       "      <td>2017-11-14</td>\n",
       "      <td>Iraq-Iran earthquake: Deadly tremor hits borde...</td>\n",
       "      <td>BBC News</td>\n",
       "      <td>25</td>\n",
       "      <td>2017-11-12 21:16:40</td>\n",
       "      <td>bbc|\"bbc news\"|\"news\"|\"iran\"|\"iran news\"|\"iraq...</td>\n",
       "      <td>34785</td>\n",
       "      <td>308</td>\n",
       "      <td>26</td>\n",
       "      <td>413</td>\n",
       "      <td>https://i.ytimg.com/vi/goP4Z5wyOlM/default.jpg</td>\n",
       "      <td>False</td>\n",
       "      <td>False</td>\n",
       "      <td>False</td>\n",
       "      <td>A strong 7.2-magnitude earthquake has rattled ...</td>\n",
       "      <td>1</td>\n",
       "      <td>US</td>\n",
       "    </tr>\n",
       "    <tr>\n",
       "      <td>44</td>\n",
       "      <td>STI2fI7sKMo</td>\n",
       "      <td>2017-11-14</td>\n",
       "      <td>AFFAIRS, EX BOYFRIENDS, $18MILLION NET WORTH -...</td>\n",
       "      <td>Shawn Johnson East</td>\n",
       "      <td>22</td>\n",
       "      <td>2017-11-11 15:00:03</td>\n",
       "      <td>shawn johnson|\"andrew east\"|\"shawn east\"|\"shaw...</td>\n",
       "      <td>321053</td>\n",
       "      <td>4451</td>\n",
       "      <td>1772</td>\n",
       "      <td>895</td>\n",
       "      <td>https://i.ytimg.com/vi/STI2fI7sKMo/default.jpg</td>\n",
       "      <td>False</td>\n",
       "      <td>False</td>\n",
       "      <td>False</td>\n",
       "      <td>Subscribe for weekly videos ▶ http://bit.ly/sj...</td>\n",
       "      <td>1</td>\n",
       "      <td>US</td>\n",
       "    </tr>\n",
       "    <tr>\n",
       "      <td>46</td>\n",
       "      <td>ogYum4kWXgk</td>\n",
       "      <td>2017-11-14</td>\n",
       "      <td>People are Awesome &amp; The Pet Collective presen...</td>\n",
       "      <td>People are Awesome</td>\n",
       "      <td>24</td>\n",
       "      <td>2017-11-13 13:00:06</td>\n",
       "      <td>people are awesome|\"people are awesome 2017\"|\"...</td>\n",
       "      <td>69844</td>\n",
       "      <td>3417</td>\n",
       "      <td>33</td>\n",
       "      <td>160</td>\n",
       "      <td>https://i.ytimg.com/vi/ogYum4kWXgk/default.jpg</td>\n",
       "      <td>False</td>\n",
       "      <td>False</td>\n",
       "      <td>False</td>\n",
       "      <td>Pets are Awesome! This is for all the animal l...</td>\n",
       "      <td>1</td>\n",
       "      <td>US</td>\n",
       "    </tr>\n",
       "  </tbody>\n",
       "</table>\n",
       "</div>"
      ],
      "text/plain": [
       "       video_id trending_date  \\\n",
       "10  9wRQljFNDW8    2017-11-14   \n",
       "36  Om_zGhJLZ5U    2017-11-14   \n",
       "41  goP4Z5wyOlM    2017-11-14   \n",
       "44  STI2fI7sKMo    2017-11-14   \n",
       "46  ogYum4kWXgk    2017-11-14   \n",
       "\n",
       "                                                title       channel_title  \\\n",
       "10  Dion Lewis' 103-Yd Kick Return TD vs. Denver! ...                 NFL   \n",
       "36     TL;DW - Every DCEU Movie Before Justice League      Screen Junkies   \n",
       "41  Iraq-Iran earthquake: Deadly tremor hits borde...            BBC News   \n",
       "44  AFFAIRS, EX BOYFRIENDS, $18MILLION NET WORTH -...  Shawn Johnson East   \n",
       "46  People are Awesome & The Pet Collective presen...  People are Awesome   \n",
       "\n",
       "    category_id        publish_time  \\\n",
       "10           17 2017-11-13 02:05:26   \n",
       "36            1 2017-11-12 18:00:03   \n",
       "41           25 2017-11-12 21:16:40   \n",
       "44           22 2017-11-11 15:00:03   \n",
       "46           24 2017-11-13 13:00:06   \n",
       "\n",
       "                                                 tags   views  likes  \\\n",
       "10  NFL|\"Football\"|\"offense\"|\"defense\"|\"afc\"|\"nfc\"...   81377    655   \n",
       "36  screenjunkies|\"screen junkies\"|\"sj news\"|\"hone...  288922   7515   \n",
       "41  bbc|\"bbc news\"|\"news\"|\"iran\"|\"iran news\"|\"iraq...   34785    308   \n",
       "44  shawn johnson|\"andrew east\"|\"shawn east\"|\"shaw...  321053   4451   \n",
       "46  people are awesome|\"people are awesome 2017\"|\"...   69844   3417   \n",
       "\n",
       "    dislikes  comment_count                                  thumbnail_link  \\\n",
       "10        25            177  https://i.ytimg.com/vi/9wRQljFNDW8/default.jpg   \n",
       "36       792           2111  https://i.ytimg.com/vi/Om_zGhJLZ5U/default.jpg   \n",
       "41        26            413  https://i.ytimg.com/vi/goP4Z5wyOlM/default.jpg   \n",
       "44      1772            895  https://i.ytimg.com/vi/STI2fI7sKMo/default.jpg   \n",
       "46        33            160  https://i.ytimg.com/vi/ogYum4kWXgk/default.jpg   \n",
       "\n",
       "    comments_disabled  ratings_disabled  video_error_or_removed  \\\n",
       "10              False             False                   False   \n",
       "36              False             False                   False   \n",
       "41              False             False                   False   \n",
       "44              False             False                   False   \n",
       "46              False             False                   False   \n",
       "\n",
       "                                          description  trending_days region  \n",
       "10  New England Patriots returner Dion Lewis blast...              1     US  \n",
       "36  With Justice League approaching fast we rewatc...              1     US  \n",
       "41  A strong 7.2-magnitude earthquake has rattled ...              1     US  \n",
       "44  Subscribe for weekly videos ▶ http://bit.ly/sj...              1     US  \n",
       "46  Pets are Awesome! This is for all the animal l...              1     US  "
      ]
     },
     "execution_count": 5,
     "metadata": {},
     "output_type": "execute_result"
    }
   ],
   "source": [
    "# converting trending_date and publish_time to datetime\n",
    "\n",
    "country['trending_date'] = pd.to_datetime(country['trending_date'],errors='coerce', format='%y.%d.%m')\n",
    "country['publish_time'] = pd.to_datetime(country['publish_time'], errors='coerce', format='%Y-%m-%dT%H:%M:%S.%fZ')\n",
    "\n",
    "country = country[country['trending_date'].notnull()]\n",
    "country = country[country['publish_time'].notnull()]\n",
    "\n",
    "country.head()"
   ]
  },
  {
   "cell_type": "code",
   "execution_count": 6,
   "metadata": {},
   "outputs": [],
   "source": [
    "# removing incomplete rows\n",
    "\n",
    "country = country.dropna(how = 'any', inplace = False, axis = 0)"
   ]
  },
  {
   "cell_type": "code",
   "execution_count": 7,
   "metadata": {},
   "outputs": [
    {
     "data": {
      "text/plain": [
       "(33282, 18)"
      ]
     },
     "execution_count": 7,
     "metadata": {},
     "output_type": "execute_result"
    }
   ],
   "source": [
    "country.shape"
   ]
  },
  {
   "cell_type": "code",
   "execution_count": 8,
   "metadata": {},
   "outputs": [
    {
     "data": {
      "text/plain": [
       "Counter({2: 'Autos & Vehicles',\n",
       "         1: 'Film & Animation',\n",
       "         10: 'Music',\n",
       "         15: 'Pets & Animals',\n",
       "         17: 'Sports',\n",
       "         18: 'Short Movies',\n",
       "         19: 'Travel & Events',\n",
       "         20: 'Gaming',\n",
       "         21: 'Videoblogging',\n",
       "         22: 'People & Blogs',\n",
       "         23: 'Comedy',\n",
       "         24: 'Entertainment',\n",
       "         25: 'News & Politics',\n",
       "         26: 'Howto & Style',\n",
       "         27: 'Education',\n",
       "         28: 'Science & Technology',\n",
       "         29: 'Nonprofits & Activism',\n",
       "         30: 'Movies',\n",
       "         31: 'Anime/Animation',\n",
       "         32: 'Action/Adventure',\n",
       "         33: 'Classics',\n",
       "         34: 'Comedy',\n",
       "         35: 'Documentary',\n",
       "         36: 'Drama',\n",
       "         37: 'Family',\n",
       "         38: 'Foreign',\n",
       "         39: 'Horror',\n",
       "         40: 'Sci-Fi/Fantasy',\n",
       "         41: 'Thriller',\n",
       "         42: 'Shorts',\n",
       "         43: 'Shows',\n",
       "         44: 'Trailers'})"
      ]
     },
     "execution_count": 8,
     "metadata": {},
     "output_type": "execute_result"
    }
   ],
   "source": [
    "category =collections.Counter({2 : 'Autos & Vehicles', \n",
    " 1 : 'Film & Animation',\n",
    "10 : 'Music',\n",
    "15 : 'Pets & Animals',\n",
    "17 : 'Sports',\n",
    "18 : 'Short Movies',\n",
    "19 : 'Travel & Events',\n",
    "20 : 'Gaming',\n",
    "21 : 'Videoblogging',\n",
    "22 : 'People & Blogs',\n",
    "23 : 'Comedy',\n",
    "24 : 'Entertainment',\n",
    "25 : 'News & Politics',\n",
    "26 : 'Howto & Style',\n",
    "27 : 'Education',\n",
    "28 : 'Science & Technology',\n",
    "29 : 'Nonprofits & Activism',\n",
    "30 : 'Movies',\n",
    "31 : 'Anime/Animation',\n",
    "32 : 'Action/Adventure',\n",
    "33 : 'Classics',\n",
    "34 : 'Comedy',\n",
    "35 : 'Documentary',\n",
    "36 : 'Drama',\n",
    "37 : 'Family',\n",
    "38 : 'Foreign',\n",
    "39 : 'Horror',\n",
    "40 : 'Sci-Fi/Fantasy',\n",
    "41 : 'Thriller',\n",
    "42 : 'Shorts',\n",
    "43 : 'Shows',\n",
    "44 : 'Trailers'})\n",
    "category"
   ]
  },
  {
   "cell_type": "code",
   "execution_count": 9,
   "metadata": {},
   "outputs": [
    {
     "data": {
      "text/html": [
       "<div>\n",
       "<style scoped>\n",
       "    .dataframe tbody tr th:only-of-type {\n",
       "        vertical-align: middle;\n",
       "    }\n",
       "\n",
       "    .dataframe tbody tr th {\n",
       "        vertical-align: top;\n",
       "    }\n",
       "\n",
       "    .dataframe thead th {\n",
       "        text-align: right;\n",
       "    }\n",
       "</style>\n",
       "<table border=\"1\" class=\"dataframe\">\n",
       "  <thead>\n",
       "    <tr style=\"text-align: right;\">\n",
       "      <th></th>\n",
       "      <th>video_id</th>\n",
       "      <th>trending_date</th>\n",
       "      <th>title</th>\n",
       "      <th>channel_title</th>\n",
       "      <th>category_id</th>\n",
       "      <th>publish_time</th>\n",
       "      <th>tags</th>\n",
       "      <th>views</th>\n",
       "      <th>likes</th>\n",
       "      <th>dislikes</th>\n",
       "      <th>comment_count</th>\n",
       "      <th>thumbnail_link</th>\n",
       "      <th>comments_disabled</th>\n",
       "      <th>ratings_disabled</th>\n",
       "      <th>video_error_or_removed</th>\n",
       "      <th>description</th>\n",
       "      <th>trending_days</th>\n",
       "      <th>region</th>\n",
       "      <th>category</th>\n",
       "    </tr>\n",
       "  </thead>\n",
       "  <tbody>\n",
       "    <tr>\n",
       "      <td>10</td>\n",
       "      <td>9wRQljFNDW8</td>\n",
       "      <td>2017-11-14</td>\n",
       "      <td>Dion Lewis' 103-Yd Kick Return TD vs. Denver! ...</td>\n",
       "      <td>NFL</td>\n",
       "      <td>17</td>\n",
       "      <td>2017-11-13 02:05:26</td>\n",
       "      <td>NFL|\"Football\"|\"offense\"|\"defense\"|\"afc\"|\"nfc\"...</td>\n",
       "      <td>81377</td>\n",
       "      <td>655</td>\n",
       "      <td>25</td>\n",
       "      <td>177</td>\n",
       "      <td>https://i.ytimg.com/vi/9wRQljFNDW8/default.jpg</td>\n",
       "      <td>False</td>\n",
       "      <td>False</td>\n",
       "      <td>False</td>\n",
       "      <td>New England Patriots returner Dion Lewis blast...</td>\n",
       "      <td>1</td>\n",
       "      <td>US</td>\n",
       "      <td>Sports</td>\n",
       "    </tr>\n",
       "    <tr>\n",
       "      <td>36</td>\n",
       "      <td>Om_zGhJLZ5U</td>\n",
       "      <td>2017-11-14</td>\n",
       "      <td>TL;DW - Every DCEU Movie Before Justice League</td>\n",
       "      <td>Screen Junkies</td>\n",
       "      <td>1</td>\n",
       "      <td>2017-11-12 18:00:03</td>\n",
       "      <td>screenjunkies|\"screen junkies\"|\"sj news\"|\"hone...</td>\n",
       "      <td>288922</td>\n",
       "      <td>7515</td>\n",
       "      <td>792</td>\n",
       "      <td>2111</td>\n",
       "      <td>https://i.ytimg.com/vi/Om_zGhJLZ5U/default.jpg</td>\n",
       "      <td>False</td>\n",
       "      <td>False</td>\n",
       "      <td>False</td>\n",
       "      <td>With Justice League approaching fast we rewatc...</td>\n",
       "      <td>1</td>\n",
       "      <td>US</td>\n",
       "      <td>Film &amp; Animation</td>\n",
       "    </tr>\n",
       "    <tr>\n",
       "      <td>41</td>\n",
       "      <td>goP4Z5wyOlM</td>\n",
       "      <td>2017-11-14</td>\n",
       "      <td>Iraq-Iran earthquake: Deadly tremor hits borde...</td>\n",
       "      <td>BBC News</td>\n",
       "      <td>25</td>\n",
       "      <td>2017-11-12 21:16:40</td>\n",
       "      <td>bbc|\"bbc news\"|\"news\"|\"iran\"|\"iran news\"|\"iraq...</td>\n",
       "      <td>34785</td>\n",
       "      <td>308</td>\n",
       "      <td>26</td>\n",
       "      <td>413</td>\n",
       "      <td>https://i.ytimg.com/vi/goP4Z5wyOlM/default.jpg</td>\n",
       "      <td>False</td>\n",
       "      <td>False</td>\n",
       "      <td>False</td>\n",
       "      <td>A strong 7.2-magnitude earthquake has rattled ...</td>\n",
       "      <td>1</td>\n",
       "      <td>US</td>\n",
       "      <td>News &amp; Politics</td>\n",
       "    </tr>\n",
       "    <tr>\n",
       "      <td>44</td>\n",
       "      <td>STI2fI7sKMo</td>\n",
       "      <td>2017-11-14</td>\n",
       "      <td>AFFAIRS, EX BOYFRIENDS, $18MILLION NET WORTH -...</td>\n",
       "      <td>Shawn Johnson East</td>\n",
       "      <td>22</td>\n",
       "      <td>2017-11-11 15:00:03</td>\n",
       "      <td>shawn johnson|\"andrew east\"|\"shawn east\"|\"shaw...</td>\n",
       "      <td>321053</td>\n",
       "      <td>4451</td>\n",
       "      <td>1772</td>\n",
       "      <td>895</td>\n",
       "      <td>https://i.ytimg.com/vi/STI2fI7sKMo/default.jpg</td>\n",
       "      <td>False</td>\n",
       "      <td>False</td>\n",
       "      <td>False</td>\n",
       "      <td>Subscribe for weekly videos ▶ http://bit.ly/sj...</td>\n",
       "      <td>1</td>\n",
       "      <td>US</td>\n",
       "      <td>People &amp; Blogs</td>\n",
       "    </tr>\n",
       "    <tr>\n",
       "      <td>46</td>\n",
       "      <td>ogYum4kWXgk</td>\n",
       "      <td>2017-11-14</td>\n",
       "      <td>People are Awesome &amp; The Pet Collective presen...</td>\n",
       "      <td>People are Awesome</td>\n",
       "      <td>24</td>\n",
       "      <td>2017-11-13 13:00:06</td>\n",
       "      <td>people are awesome|\"people are awesome 2017\"|\"...</td>\n",
       "      <td>69844</td>\n",
       "      <td>3417</td>\n",
       "      <td>33</td>\n",
       "      <td>160</td>\n",
       "      <td>https://i.ytimg.com/vi/ogYum4kWXgk/default.jpg</td>\n",
       "      <td>False</td>\n",
       "      <td>False</td>\n",
       "      <td>False</td>\n",
       "      <td>Pets are Awesome! This is for all the animal l...</td>\n",
       "      <td>1</td>\n",
       "      <td>US</td>\n",
       "      <td>Entertainment</td>\n",
       "    </tr>\n",
       "  </tbody>\n",
       "</table>\n",
       "</div>"
      ],
      "text/plain": [
       "       video_id trending_date  \\\n",
       "10  9wRQljFNDW8    2017-11-14   \n",
       "36  Om_zGhJLZ5U    2017-11-14   \n",
       "41  goP4Z5wyOlM    2017-11-14   \n",
       "44  STI2fI7sKMo    2017-11-14   \n",
       "46  ogYum4kWXgk    2017-11-14   \n",
       "\n",
       "                                                title       channel_title  \\\n",
       "10  Dion Lewis' 103-Yd Kick Return TD vs. Denver! ...                 NFL   \n",
       "36     TL;DW - Every DCEU Movie Before Justice League      Screen Junkies   \n",
       "41  Iraq-Iran earthquake: Deadly tremor hits borde...            BBC News   \n",
       "44  AFFAIRS, EX BOYFRIENDS, $18MILLION NET WORTH -...  Shawn Johnson East   \n",
       "46  People are Awesome & The Pet Collective presen...  People are Awesome   \n",
       "\n",
       "    category_id        publish_time  \\\n",
       "10           17 2017-11-13 02:05:26   \n",
       "36            1 2017-11-12 18:00:03   \n",
       "41           25 2017-11-12 21:16:40   \n",
       "44           22 2017-11-11 15:00:03   \n",
       "46           24 2017-11-13 13:00:06   \n",
       "\n",
       "                                                 tags   views  likes  \\\n",
       "10  NFL|\"Football\"|\"offense\"|\"defense\"|\"afc\"|\"nfc\"...   81377    655   \n",
       "36  screenjunkies|\"screen junkies\"|\"sj news\"|\"hone...  288922   7515   \n",
       "41  bbc|\"bbc news\"|\"news\"|\"iran\"|\"iran news\"|\"iraq...   34785    308   \n",
       "44  shawn johnson|\"andrew east\"|\"shawn east\"|\"shaw...  321053   4451   \n",
       "46  people are awesome|\"people are awesome 2017\"|\"...   69844   3417   \n",
       "\n",
       "    dislikes  comment_count                                  thumbnail_link  \\\n",
       "10        25            177  https://i.ytimg.com/vi/9wRQljFNDW8/default.jpg   \n",
       "36       792           2111  https://i.ytimg.com/vi/Om_zGhJLZ5U/default.jpg   \n",
       "41        26            413  https://i.ytimg.com/vi/goP4Z5wyOlM/default.jpg   \n",
       "44      1772            895  https://i.ytimg.com/vi/STI2fI7sKMo/default.jpg   \n",
       "46        33            160  https://i.ytimg.com/vi/ogYum4kWXgk/default.jpg   \n",
       "\n",
       "    comments_disabled  ratings_disabled  video_error_or_removed  \\\n",
       "10              False             False                   False   \n",
       "36              False             False                   False   \n",
       "41              False             False                   False   \n",
       "44              False             False                   False   \n",
       "46              False             False                   False   \n",
       "\n",
       "                                          description  trending_days region  \\\n",
       "10  New England Patriots returner Dion Lewis blast...              1     US   \n",
       "36  With Justice League approaching fast we rewatc...              1     US   \n",
       "41  A strong 7.2-magnitude earthquake has rattled ...              1     US   \n",
       "44  Subscribe for weekly videos ▶ http://bit.ly/sj...              1     US   \n",
       "46  Pets are Awesome! This is for all the animal l...              1     US   \n",
       "\n",
       "            category  \n",
       "10            Sports  \n",
       "36  Film & Animation  \n",
       "41   News & Politics  \n",
       "44    People & Blogs  \n",
       "46     Entertainment  "
      ]
     },
     "execution_count": 9,
     "metadata": {},
     "output_type": "execute_result"
    }
   ],
   "source": [
    "country['category']=country['category_id'].map(category)\n",
    "# country = country.drop(columns = ['category_id'], axis = 1)\n",
    "country.head()"
   ]
  },
  {
   "cell_type": "code",
   "execution_count": 44,
   "metadata": {},
   "outputs": [
    {
     "name": "stdout",
     "output_type": "stream",
     "text": [
      "      channel_title                                              title  \\\n",
      "39073   Rhythm Boyz  Golak Bugni Bank Te Batua Full Movie (HD) | Ha...   \n",
      "\n",
      "                                                    tags  \\\n",
      "39073  full movie|\"full punjabi movie\"|\"golak\"|\"bugni...   \n",
      "\n",
      "                                             description  category_id  \\\n",
      "39073  Rhythm Boyz Entertainment & Hayre Omjee Studio...           30   \n",
      "\n",
      "      category region  trending_days  likes  dislikes    views  \n",
      "39073   Movies     CA              6  67232      3784  5661965  \n"
     ]
    }
   ],
   "source": [
    "# dropping the movies category as it is too small\n",
    "\n",
    "movies = country[country.category == 'Movies']\n",
    "print(movies)"
   ]
  },
  {
   "cell_type": "code",
   "execution_count": 45,
   "metadata": {},
   "outputs": [
    {
     "data": {
      "text/html": [
       "<div>\n",
       "<style scoped>\n",
       "    .dataframe tbody tr th:only-of-type {\n",
       "        vertical-align: middle;\n",
       "    }\n",
       "\n",
       "    .dataframe tbody tr th {\n",
       "        vertical-align: top;\n",
       "    }\n",
       "\n",
       "    .dataframe thead th {\n",
       "        text-align: right;\n",
       "    }\n",
       "</style>\n",
       "<table border=\"1\" class=\"dataframe\">\n",
       "  <thead>\n",
       "    <tr style=\"text-align: right;\">\n",
       "      <th></th>\n",
       "      <th>channel_title</th>\n",
       "      <th>title</th>\n",
       "      <th>tags</th>\n",
       "      <th>description</th>\n",
       "      <th>category_id</th>\n",
       "      <th>category</th>\n",
       "      <th>region</th>\n",
       "      <th>trending_days</th>\n",
       "      <th>likes</th>\n",
       "      <th>dislikes</th>\n",
       "      <th>views</th>\n",
       "    </tr>\n",
       "  </thead>\n",
       "  <tbody>\n",
       "    <tr>\n",
       "      <td>10</td>\n",
       "      <td>NFL</td>\n",
       "      <td>Dion Lewis' 103-Yd Kick Return TD vs. Denver! ...</td>\n",
       "      <td>NFL|\"Football\"|\"offense\"|\"defense\"|\"afc\"|\"nfc\"...</td>\n",
       "      <td>New England Patriots returner Dion Lewis blast...</td>\n",
       "      <td>17</td>\n",
       "      <td>Sports</td>\n",
       "      <td>US</td>\n",
       "      <td>1</td>\n",
       "      <td>655</td>\n",
       "      <td>25</td>\n",
       "      <td>81377</td>\n",
       "    </tr>\n",
       "    <tr>\n",
       "      <td>36</td>\n",
       "      <td>Screen Junkies</td>\n",
       "      <td>TL;DW - Every DCEU Movie Before Justice League</td>\n",
       "      <td>screenjunkies|\"screen junkies\"|\"sj news\"|\"hone...</td>\n",
       "      <td>With Justice League approaching fast we rewatc...</td>\n",
       "      <td>1</td>\n",
       "      <td>Film &amp; Animation</td>\n",
       "      <td>US</td>\n",
       "      <td>1</td>\n",
       "      <td>7515</td>\n",
       "      <td>792</td>\n",
       "      <td>288922</td>\n",
       "    </tr>\n",
       "    <tr>\n",
       "      <td>41</td>\n",
       "      <td>BBC News</td>\n",
       "      <td>Iraq-Iran earthquake: Deadly tremor hits borde...</td>\n",
       "      <td>bbc|\"bbc news\"|\"news\"|\"iran\"|\"iran news\"|\"iraq...</td>\n",
       "      <td>A strong 7.2-magnitude earthquake has rattled ...</td>\n",
       "      <td>25</td>\n",
       "      <td>News &amp; Politics</td>\n",
       "      <td>US</td>\n",
       "      <td>1</td>\n",
       "      <td>308</td>\n",
       "      <td>26</td>\n",
       "      <td>34785</td>\n",
       "    </tr>\n",
       "    <tr>\n",
       "      <td>44</td>\n",
       "      <td>Shawn Johnson East</td>\n",
       "      <td>AFFAIRS, EX BOYFRIENDS, $18MILLION NET WORTH -...</td>\n",
       "      <td>shawn johnson|\"andrew east\"|\"shawn east\"|\"shaw...</td>\n",
       "      <td>Subscribe for weekly videos ▶ http://bit.ly/sj...</td>\n",
       "      <td>22</td>\n",
       "      <td>People &amp; Blogs</td>\n",
       "      <td>US</td>\n",
       "      <td>1</td>\n",
       "      <td>4451</td>\n",
       "      <td>1772</td>\n",
       "      <td>321053</td>\n",
       "    </tr>\n",
       "    <tr>\n",
       "      <td>46</td>\n",
       "      <td>People are Awesome</td>\n",
       "      <td>People are Awesome &amp; The Pet Collective presen...</td>\n",
       "      <td>people are awesome|\"people are awesome 2017\"|\"...</td>\n",
       "      <td>Pets are Awesome! This is for all the animal l...</td>\n",
       "      <td>24</td>\n",
       "      <td>Entertainment</td>\n",
       "      <td>US</td>\n",
       "      <td>1</td>\n",
       "      <td>3417</td>\n",
       "      <td>33</td>\n",
       "      <td>69844</td>\n",
       "    </tr>\n",
       "  </tbody>\n",
       "</table>\n",
       "</div>"
      ],
      "text/plain": [
       "         channel_title                                              title  \\\n",
       "10                 NFL  Dion Lewis' 103-Yd Kick Return TD vs. Denver! ...   \n",
       "36      Screen Junkies     TL;DW - Every DCEU Movie Before Justice League   \n",
       "41            BBC News  Iraq-Iran earthquake: Deadly tremor hits borde...   \n",
       "44  Shawn Johnson East  AFFAIRS, EX BOYFRIENDS, $18MILLION NET WORTH -...   \n",
       "46  People are Awesome  People are Awesome & The Pet Collective presen...   \n",
       "\n",
       "                                                 tags  \\\n",
       "10  NFL|\"Football\"|\"offense\"|\"defense\"|\"afc\"|\"nfc\"...   \n",
       "36  screenjunkies|\"screen junkies\"|\"sj news\"|\"hone...   \n",
       "41  bbc|\"bbc news\"|\"news\"|\"iran\"|\"iran news\"|\"iraq...   \n",
       "44  shawn johnson|\"andrew east\"|\"shawn east\"|\"shaw...   \n",
       "46  people are awesome|\"people are awesome 2017\"|\"...   \n",
       "\n",
       "                                          description  category_id  \\\n",
       "10  New England Patriots returner Dion Lewis blast...           17   \n",
       "36  With Justice League approaching fast we rewatc...            1   \n",
       "41  A strong 7.2-magnitude earthquake has rattled ...           25   \n",
       "44  Subscribe for weekly videos ▶ http://bit.ly/sj...           22   \n",
       "46  Pets are Awesome! This is for all the animal l...           24   \n",
       "\n",
       "            category region  trending_days  likes  dislikes   views  \n",
       "10            Sports     US              1    655        25   81377  \n",
       "36  Film & Animation     US              1   7515       792  288922  \n",
       "41   News & Politics     US              1    308        26   34785  \n",
       "44    People & Blogs     US              1   4451      1772  321053  \n",
       "46     Entertainment     US              1   3417        33   69844  "
      ]
     },
     "execution_count": 45,
     "metadata": {},
     "output_type": "execute_result"
    }
   ],
   "source": [
    "# dropping rows\n",
    "country = country.drop([39073], axis=0)\n",
    "country.head()"
   ]
  },
  {
   "cell_type": "code",
   "execution_count": 46,
   "metadata": {},
   "outputs": [
    {
     "data": {
      "text/html": [
       "<div>\n",
       "<style scoped>\n",
       "    .dataframe tbody tr th:only-of-type {\n",
       "        vertical-align: middle;\n",
       "    }\n",
       "\n",
       "    .dataframe tbody tr th {\n",
       "        vertical-align: top;\n",
       "    }\n",
       "\n",
       "    .dataframe thead th {\n",
       "        text-align: right;\n",
       "    }\n",
       "</style>\n",
       "<table border=\"1\" class=\"dataframe\">\n",
       "  <thead>\n",
       "    <tr style=\"text-align: right;\">\n",
       "      <th></th>\n",
       "      <th>channel_title</th>\n",
       "      <th>title</th>\n",
       "      <th>tags</th>\n",
       "      <th>description</th>\n",
       "      <th>category_id</th>\n",
       "      <th>category</th>\n",
       "      <th>region</th>\n",
       "      <th>trending_days</th>\n",
       "      <th>likes</th>\n",
       "      <th>dislikes</th>\n",
       "      <th>views</th>\n",
       "    </tr>\n",
       "  </thead>\n",
       "  <tbody>\n",
       "    <tr>\n",
       "      <td>10</td>\n",
       "      <td>NFL</td>\n",
       "      <td>Dion Lewis' 103-Yd Kick Return TD vs. Denver! ...</td>\n",
       "      <td>NFL|\"Football\"|\"offense\"|\"defense\"|\"afc\"|\"nfc\"...</td>\n",
       "      <td>New England Patriots returner Dion Lewis blast...</td>\n",
       "      <td>17</td>\n",
       "      <td>Sports</td>\n",
       "      <td>US</td>\n",
       "      <td>1</td>\n",
       "      <td>655</td>\n",
       "      <td>25</td>\n",
       "      <td>81377</td>\n",
       "    </tr>\n",
       "    <tr>\n",
       "      <td>36</td>\n",
       "      <td>Screen Junkies</td>\n",
       "      <td>TL;DW - Every DCEU Movie Before Justice League</td>\n",
       "      <td>screenjunkies|\"screen junkies\"|\"sj news\"|\"hone...</td>\n",
       "      <td>With Justice League approaching fast we rewatc...</td>\n",
       "      <td>1</td>\n",
       "      <td>Film &amp; Animation</td>\n",
       "      <td>US</td>\n",
       "      <td>1</td>\n",
       "      <td>7515</td>\n",
       "      <td>792</td>\n",
       "      <td>288922</td>\n",
       "    </tr>\n",
       "    <tr>\n",
       "      <td>41</td>\n",
       "      <td>BBC News</td>\n",
       "      <td>Iraq-Iran earthquake: Deadly tremor hits borde...</td>\n",
       "      <td>bbc|\"bbc news\"|\"news\"|\"iran\"|\"iran news\"|\"iraq...</td>\n",
       "      <td>A strong 7.2-magnitude earthquake has rattled ...</td>\n",
       "      <td>25</td>\n",
       "      <td>News &amp; Politics</td>\n",
       "      <td>US</td>\n",
       "      <td>1</td>\n",
       "      <td>308</td>\n",
       "      <td>26</td>\n",
       "      <td>34785</td>\n",
       "    </tr>\n",
       "    <tr>\n",
       "      <td>44</td>\n",
       "      <td>Shawn Johnson East</td>\n",
       "      <td>AFFAIRS, EX BOYFRIENDS, $18MILLION NET WORTH -...</td>\n",
       "      <td>shawn johnson|\"andrew east\"|\"shawn east\"|\"shaw...</td>\n",
       "      <td>Subscribe for weekly videos ▶ http://bit.ly/sj...</td>\n",
       "      <td>22</td>\n",
       "      <td>People &amp; Blogs</td>\n",
       "      <td>US</td>\n",
       "      <td>1</td>\n",
       "      <td>4451</td>\n",
       "      <td>1772</td>\n",
       "      <td>321053</td>\n",
       "    </tr>\n",
       "    <tr>\n",
       "      <td>46</td>\n",
       "      <td>People are Awesome</td>\n",
       "      <td>People are Awesome &amp; The Pet Collective presen...</td>\n",
       "      <td>people are awesome|\"people are awesome 2017\"|\"...</td>\n",
       "      <td>Pets are Awesome! This is for all the animal l...</td>\n",
       "      <td>24</td>\n",
       "      <td>Entertainment</td>\n",
       "      <td>US</td>\n",
       "      <td>1</td>\n",
       "      <td>3417</td>\n",
       "      <td>33</td>\n",
       "      <td>69844</td>\n",
       "    </tr>\n",
       "  </tbody>\n",
       "</table>\n",
       "</div>"
      ],
      "text/plain": [
       "         channel_title                                              title  \\\n",
       "10                 NFL  Dion Lewis' 103-Yd Kick Return TD vs. Denver! ...   \n",
       "36      Screen Junkies     TL;DW - Every DCEU Movie Before Justice League   \n",
       "41            BBC News  Iraq-Iran earthquake: Deadly tremor hits borde...   \n",
       "44  Shawn Johnson East  AFFAIRS, EX BOYFRIENDS, $18MILLION NET WORTH -...   \n",
       "46  People are Awesome  People are Awesome & The Pet Collective presen...   \n",
       "\n",
       "                                                 tags  \\\n",
       "10  NFL|\"Football\"|\"offense\"|\"defense\"|\"afc\"|\"nfc\"...   \n",
       "36  screenjunkies|\"screen junkies\"|\"sj news\"|\"hone...   \n",
       "41  bbc|\"bbc news\"|\"news\"|\"iran\"|\"iran news\"|\"iraq...   \n",
       "44  shawn johnson|\"andrew east\"|\"shawn east\"|\"shaw...   \n",
       "46  people are awesome|\"people are awesome 2017\"|\"...   \n",
       "\n",
       "                                          description  category_id  \\\n",
       "10  New England Patriots returner Dion Lewis blast...           17   \n",
       "36  With Justice League approaching fast we rewatc...            1   \n",
       "41  A strong 7.2-magnitude earthquake has rattled ...           25   \n",
       "44  Subscribe for weekly videos ▶ http://bit.ly/sj...           22   \n",
       "46  Pets are Awesome! This is for all the animal l...           24   \n",
       "\n",
       "            category region  trending_days  likes  dislikes   views  \n",
       "10            Sports     US              1    655        25   81377  \n",
       "36  Film & Animation     US              1   7515       792  288922  \n",
       "41   News & Politics     US              1    308        26   34785  \n",
       "44    People & Blogs     US              1   4451      1772  321053  \n",
       "46     Entertainment     US              1   3417        33   69844  "
      ]
     },
     "execution_count": 46,
     "metadata": {},
     "output_type": "execute_result"
    }
   ],
   "source": [
    "# building our df for text preprocessing\n",
    "\n",
    "country = country[['channel_title', 'title', 'tags', 'description', 'category_id', 'category', 'region','trending_days', 'likes', 'dislikes', 'views']]\n",
    "country.head()"
   ]
  },
  {
   "cell_type": "code",
   "execution_count": 47,
   "metadata": {},
   "outputs": [
    {
     "data": {
      "text/plain": [
       "{'Autos & Vehicles',\n",
       " 'Comedy',\n",
       " 'Education',\n",
       " 'Entertainment',\n",
       " 'Film & Animation',\n",
       " 'Gaming',\n",
       " 'Howto & Style',\n",
       " 'Music',\n",
       " 'News & Politics',\n",
       " 'Nonprofits & Activism',\n",
       " 'People & Blogs',\n",
       " 'Pets & Animals',\n",
       " 'Science & Technology',\n",
       " 'Shows',\n",
       " 'Sports',\n",
       " 'Travel & Events'}"
      ]
     },
     "execution_count": 47,
     "metadata": {},
     "output_type": "execute_result"
    }
   ],
   "source": [
    "set(country.category)"
   ]
  },
  {
   "cell_type": "code",
   "execution_count": 48,
   "metadata": {},
   "outputs": [
    {
     "data": {
      "text/plain": [
       "Entertainment            10562\n",
       "News & Politics           3349\n",
       "Music                     3275\n",
       "People & Blogs            3045\n",
       "Comedy                    2687\n",
       "Sports                    2492\n",
       "Howto & Style             2066\n",
       "Film & Animation          1637\n",
       "Science & Technology      1062\n",
       "Gaming                    1044\n",
       "Education                  883\n",
       "Pets & Animals             399\n",
       "Autos & Vehicles           330\n",
       "Travel & Events            268\n",
       "Shows                      116\n",
       "Nonprofits & Activism       66\n",
       "Name: category, dtype: int64"
      ]
     },
     "execution_count": 48,
     "metadata": {},
     "output_type": "execute_result"
    }
   ],
   "source": [
    "country.category.value_counts()"
   ]
  },
  {
   "cell_type": "code",
   "execution_count": null,
   "metadata": {},
   "outputs": [],
   "source": [
    "# 16 categories or classes"
   ]
  },
  {
   "cell_type": "code",
   "execution_count": 49,
   "metadata": {},
   "outputs": [],
   "source": [
    "# splitting into train and test - title and category : 80:20\n",
    "\n",
    "train_size = int(len(country) * 0.8)\n",
    "\n",
    "train_title = country['title'][:train_size]\n",
    "test_title = country['title'][train_size:]\n",
    "\n",
    "train_category = country['category'][:train_size]\n",
    "test_category = country['category'][:train_size]\n",
    "\n",
    "num_labels = 16"
   ]
  },
  {
   "cell_type": "code",
   "execution_count": 118,
   "metadata": {},
   "outputs": [
    {
     "data": {
      "text/html": [
       "<div>\n",
       "<style scoped>\n",
       "    .dataframe tbody tr th:only-of-type {\n",
       "        vertical-align: middle;\n",
       "    }\n",
       "\n",
       "    .dataframe tbody tr th {\n",
       "        vertical-align: top;\n",
       "    }\n",
       "\n",
       "    .dataframe thead th {\n",
       "        text-align: right;\n",
       "    }\n",
       "</style>\n",
       "<table border=\"1\" class=\"dataframe\">\n",
       "  <thead>\n",
       "    <tr style=\"text-align: right;\">\n",
       "      <th></th>\n",
       "      <th>channel_title</th>\n",
       "      <th>title</th>\n",
       "      <th>tags</th>\n",
       "      <th>description</th>\n",
       "      <th>category_id</th>\n",
       "      <th>category</th>\n",
       "      <th>region</th>\n",
       "      <th>trending_days</th>\n",
       "      <th>likes</th>\n",
       "      <th>dislikes</th>\n",
       "      <th>views</th>\n",
       "    </tr>\n",
       "  </thead>\n",
       "  <tbody>\n",
       "    <tr>\n",
       "      <td>10</td>\n",
       "      <td>NFL</td>\n",
       "      <td>Dion Lewis' 103-Yd Kick Return TD vs. Denver! ...</td>\n",
       "      <td>NFL|\"Football\"|\"offense\"|\"defense\"|\"afc\"|\"nfc\"...</td>\n",
       "      <td>New England Patriots returner Dion Lewis blast...</td>\n",
       "      <td>17</td>\n",
       "      <td>14</td>\n",
       "      <td>US</td>\n",
       "      <td>1</td>\n",
       "      <td>655</td>\n",
       "      <td>25</td>\n",
       "      <td>81377</td>\n",
       "    </tr>\n",
       "    <tr>\n",
       "      <td>36</td>\n",
       "      <td>Screen Junkies</td>\n",
       "      <td>TL;DW - Every DCEU Movie Before Justice League</td>\n",
       "      <td>screenjunkies|\"screen junkies\"|\"sj news\"|\"hone...</td>\n",
       "      <td>With Justice League approaching fast we rewatc...</td>\n",
       "      <td>1</td>\n",
       "      <td>4</td>\n",
       "      <td>US</td>\n",
       "      <td>1</td>\n",
       "      <td>7515</td>\n",
       "      <td>792</td>\n",
       "      <td>288922</td>\n",
       "    </tr>\n",
       "    <tr>\n",
       "      <td>41</td>\n",
       "      <td>BBC News</td>\n",
       "      <td>Iraq-Iran earthquake: Deadly tremor hits borde...</td>\n",
       "      <td>bbc|\"bbc news\"|\"news\"|\"iran\"|\"iran news\"|\"iraq...</td>\n",
       "      <td>A strong 7.2-magnitude earthquake has rattled ...</td>\n",
       "      <td>25</td>\n",
       "      <td>8</td>\n",
       "      <td>US</td>\n",
       "      <td>1</td>\n",
       "      <td>308</td>\n",
       "      <td>26</td>\n",
       "      <td>34785</td>\n",
       "    </tr>\n",
       "    <tr>\n",
       "      <td>44</td>\n",
       "      <td>Shawn Johnson East</td>\n",
       "      <td>AFFAIRS, EX BOYFRIENDS, $18MILLION NET WORTH -...</td>\n",
       "      <td>shawn johnson|\"andrew east\"|\"shawn east\"|\"shaw...</td>\n",
       "      <td>Subscribe for weekly videos ▶ http://bit.ly/sj...</td>\n",
       "      <td>22</td>\n",
       "      <td>10</td>\n",
       "      <td>US</td>\n",
       "      <td>1</td>\n",
       "      <td>4451</td>\n",
       "      <td>1772</td>\n",
       "      <td>321053</td>\n",
       "    </tr>\n",
       "    <tr>\n",
       "      <td>46</td>\n",
       "      <td>People are Awesome</td>\n",
       "      <td>People are Awesome &amp; The Pet Collective presen...</td>\n",
       "      <td>people are awesome|\"people are awesome 2017\"|\"...</td>\n",
       "      <td>Pets are Awesome! This is for all the animal l...</td>\n",
       "      <td>24</td>\n",
       "      <td>3</td>\n",
       "      <td>US</td>\n",
       "      <td>1</td>\n",
       "      <td>3417</td>\n",
       "      <td>33</td>\n",
       "      <td>69844</td>\n",
       "    </tr>\n",
       "  </tbody>\n",
       "</table>\n",
       "</div>"
      ],
      "text/plain": [
       "         channel_title                                              title  \\\n",
       "10                 NFL  Dion Lewis' 103-Yd Kick Return TD vs. Denver! ...   \n",
       "36      Screen Junkies     TL;DW - Every DCEU Movie Before Justice League   \n",
       "41            BBC News  Iraq-Iran earthquake: Deadly tremor hits borde...   \n",
       "44  Shawn Johnson East  AFFAIRS, EX BOYFRIENDS, $18MILLION NET WORTH -...   \n",
       "46  People are Awesome  People are Awesome & The Pet Collective presen...   \n",
       "\n",
       "                                                 tags  \\\n",
       "10  NFL|\"Football\"|\"offense\"|\"defense\"|\"afc\"|\"nfc\"...   \n",
       "36  screenjunkies|\"screen junkies\"|\"sj news\"|\"hone...   \n",
       "41  bbc|\"bbc news\"|\"news\"|\"iran\"|\"iran news\"|\"iraq...   \n",
       "44  shawn johnson|\"andrew east\"|\"shawn east\"|\"shaw...   \n",
       "46  people are awesome|\"people are awesome 2017\"|\"...   \n",
       "\n",
       "                                          description  category_id  category  \\\n",
       "10  New England Patriots returner Dion Lewis blast...           17        14   \n",
       "36  With Justice League approaching fast we rewatc...            1         4   \n",
       "41  A strong 7.2-magnitude earthquake has rattled ...           25         8   \n",
       "44  Subscribe for weekly videos ▶ http://bit.ly/sj...           22        10   \n",
       "46  Pets are Awesome! This is for all the animal l...           24         3   \n",
       "\n",
       "   region  trending_days  likes  dislikes   views  \n",
       "10     US              1    655        25   81377  \n",
       "36     US              1   7515       792  288922  \n",
       "41     US              1    308        26   34785  \n",
       "44     US              1   4451      1772  321053  \n",
       "46     US              1   3417        33   69844  "
      ]
     },
     "execution_count": 118,
     "metadata": {},
     "output_type": "execute_result"
    }
   ],
   "source": [
    "from sklearn.preprocessing import LabelEncoder\n",
    "le = LabelEncoder()\n",
    "le.fit(country.category)\n",
    "country.category = le.transform(country.category)\n",
    "country.head(5)"
   ]
  },
  {
   "cell_type": "code",
   "execution_count": 119,
   "metadata": {},
   "outputs": [],
   "source": [
    "# define tokenizer with vocab size\n",
    "\n",
    "#Vectorization by converting each text into a sequence of integers or a vector\n",
    "#We want results from the top 50000 words\n",
    "#Set the maximum number of words in each title to 7\n",
    "\n",
    "# keras module for building LSTM \n",
    "from keras.preprocessing.sequence import pad_sequences\n",
    "from keras.layers import Embedding, LSTM, Dense, Dropout\n",
    "from keras.preprocessing.text import Tokenizer\n",
    "from keras.callbacks import EarlyStopping\n",
    "from keras.models import Sequential\n",
    "import keras.utils as ku\n",
    "\n",
    "\n",
    "# The maximum number of words to be used. (most frequent)\n",
    "MAX_NB_WORDS = 50000\n",
    "\n",
    "# Max number of words in each title\n",
    "MAX_SEQUENCE_LENGTH = 7\n",
    "\n",
    "EMBEDDING_DIM = 100\n",
    "tokenizer = Tokenizer(num_words=MAX_NB_WORDS, filters='!\"#$%&()*+,-./:;<=>?@[\\]^_`{|}~', lower=True)\n",
    "tokenizer.fit_on_texts(train_title)\n",
    "X_train = tokenizer.texts_to_matrix(train_title)\n",
    "X_test = tokenizer.texts_to_matrix(test_title)\n",
    "\n",
    "encoder = LabelBinarizer()\n",
    "encoder.fit(train_category)\n",
    "y_train = encoder.transform(train_category)\n",
    "y_test = encoder.transform(test_category)\n",
    "\n",
    "# word_index = tokenizer.word_index\n",
    "# print('Found %s unique tokens.' % len(word_index))"
   ]
  },
  {
   "cell_type": "code",
   "execution_count": 91,
   "metadata": {},
   "outputs": [
    {
     "data": {
      "text/plain": [
       "((26624, 50000), (26624, 16))"
      ]
     },
     "execution_count": 91,
     "metadata": {},
     "output_type": "execute_result"
    }
   ],
   "source": [
    "X_train.shape, Y_train.shape"
   ]
  },
  {
   "cell_type": "code",
   "execution_count": 92,
   "metadata": {},
   "outputs": [],
   "source": [
    "# # truncate and pad the input sequence so they are all in the same length for modeling\n",
    "\n",
    "# X = tokenizer.texts_to_sequences(country['title'].values)\n",
    "# X = pad_sequences(X, maxlen=MAX_SEQUENCE_LENGTH)\n",
    "# print('Shape of data tensor:', X.shape)"
   ]
  },
  {
   "cell_type": "code",
   "execution_count": 93,
   "metadata": {},
   "outputs": [],
   "source": [
    "# # converting categorical labels to numbers\n",
    "\n",
    "# Y = pd.get_dummies(country['category']).values\n",
    "# print('Shape of label tensor:', Y.shape)"
   ]
  },
  {
   "cell_type": "code",
   "execution_count": 94,
   "metadata": {},
   "outputs": [],
   "source": [
    "# # Train-test-split\n",
    "\n",
    "# X_train, X_test, Y_train, Y_test = train_test_split(X,Y, test_size = 0.2, random_state = 42)\n",
    "# print(X_train.shape,Y_train.shape)\n",
    "# print(X_test.shape,Y_test.shape)"
   ]
  },
  {
   "cell_type": "code",
   "execution_count": 101,
   "metadata": {},
   "outputs": [
    {
     "name": "stdout",
     "output_type": "stream",
     "text": [
      "Model: \"sequential_17\"\n",
      "_________________________________________________________________\n",
      "Layer (type)                 Output Shape              Param #   \n",
      "=================================================================\n",
      "embedding_13 (Embedding)     (None, 7, 100)            5000000   \n",
      "_________________________________________________________________\n",
      "activation_12 (Activation)   (None, 7, 100)            0         \n",
      "_________________________________________________________________\n",
      "dropout_9 (Dropout)          (None, 7, 100)            0         \n",
      "_________________________________________________________________\n",
      "dense_17 (Dense)             (None, 7, 512)            51712     \n",
      "_________________________________________________________________\n",
      "activation_13 (Activation)   (None, 7, 512)            0         \n",
      "_________________________________________________________________\n",
      "dropout_10 (Dropout)         (None, 7, 512)            0         \n",
      "_________________________________________________________________\n",
      "dense_18 (Dense)             (None, 7, 16)             8208      \n",
      "_________________________________________________________________\n",
      "activation_14 (Activation)   (None, 7, 16)             0         \n",
      "=================================================================\n",
      "Total params: 5,059,920\n",
      "Trainable params: 5,059,920\n",
      "Non-trainable params: 0\n",
      "_________________________________________________________________\n"
     ]
    }
   ],
   "source": [
    "# let us build a basic model\n",
    "\n",
    "model = Sequential()\n",
    "model.add(Embedding(MAX_NB_WORDS, EMBEDDING_DIM, input_length=X.shape[1]))\n",
    "model.add(Activation('relu'))\n",
    "model.add(Dropout(0.3))\n",
    "model.add(Dense(512))\n",
    "model.add(Activation('relu'))\n",
    "model.add(Dropout(0.3))\n",
    "model.add(Dense(num_labels))\n",
    "model.add(Activation('softmax'))\n",
    "model.summary()\n",
    "\n",
    "model.compile(loss='categorical_crossentropy',\n",
    "              optimizer='adam',\n",
    "              metrics=['accuracy'])"
   ]
  },
  {
   "cell_type": "code",
   "execution_count": 105,
   "metadata": {},
   "outputs": [],
   "source": [
    "# num_epochs = 10\n",
    "# batch_size = 128\n",
    "# history = model.fit(X_train, Y_train, batch_size=batch_size, epochs=num_epochs,\n",
    "#                     verbose=2, validation_split=0.2)"
   ]
  },
  {
   "cell_type": "code",
   "execution_count": 56,
   "metadata": {},
   "outputs": [
    {
     "name": "stderr",
     "output_type": "stream",
     "text": [
      "/Users/mahimakaushiva/opt/anaconda3/lib/python3.7/site-packages/tensorflow_core/python/framework/indexed_slices.py:424: UserWarning: Converting sparse IndexedSlices to a dense Tensor of unknown shape. This may consume a large amount of memory.\n",
      "  \"Converting sparse IndexedSlices to a dense Tensor of unknown shape. \"\n"
     ]
    },
    {
     "name": "stdout",
     "output_type": "stream",
     "text": [
      "Train on 21299 samples, validate on 5325 samples\n",
      "Epoch 1/5\n",
      "21299/21299 [==============================] - 21s 980us/step - loss: 1.9577 - accuracy: 0.4060 - val_loss: 1.5053 - val_accuracy: 0.5613\n",
      "Epoch 2/5\n",
      "21299/21299 [==============================] - 20s 938us/step - loss: 1.1889 - accuracy: 0.6452 - val_loss: 1.2560 - val_accuracy: 0.6203\n",
      "Epoch 3/5\n",
      "21299/21299 [==============================] - 20s 949us/step - loss: 0.7323 - accuracy: 0.7834 - val_loss: 1.2436 - val_accuracy: 0.6441\n",
      "Epoch 4/5\n",
      "21299/21299 [==============================] - 20s 931us/step - loss: 0.4691 - accuracy: 0.8629 - val_loss: 1.3376 - val_accuracy: 0.6569\n",
      "Epoch 5/5\n",
      "21299/21299 [==============================] - 20s 942us/step - loss: 0.3236 - accuracy: 0.9046 - val_loss: 1.3891 - val_accuracy: 0.6488\n"
     ]
    }
   ],
   "source": [
    "# first layer is the embedded layer that uses 100 length vectors to represent each word\n",
    "# spatialdropout1d performs variational dropout\n",
    "# the next layer is the LSTM layer with 100 memory units\n",
    "# output layer must contain 16 output values, one for each class\n",
    "# activation function is softmax for multi-class classification\n",
    "# categorical_crossentropy is used as the loss function\n",
    "\n",
    "from keras.layers.core import Dense, SpatialDropout1D\n",
    "from keras.layers import Flatten\n",
    "model = Sequential()\n",
    "model.add(Embedding(MAX_NB_WORDS, EMBEDDING_DIM, input_length=X.shape[1]))\n",
    "model.add(SpatialDropout1D(0.2))\n",
    "model.add(LSTM(100, dropout=0.2, recurrent_dropout=0.2))\n",
    "model.add(Dense(16, activation='softmax'))\n",
    "model.compile(loss='categorical_crossentropy', optimizer='adam', metrics=['accuracy'])\n",
    "\n",
    "epochs = 5\n",
    "batch_size = 64\n",
    "\n",
    "history = model.fit(X_train, Y_train, epochs=epochs, batch_size=batch_size,validation_split=0.2)"
   ]
  },
  {
   "cell_type": "code",
   "execution_count": 57,
   "metadata": {},
   "outputs": [],
   "source": [
    "#another approach using GRU model, takes longer time\n",
    "from tensorflow.python.keras.preprocessing.text import Tokenizer\n",
    "from tensorflow.python.keras.preprocessing.sequence import pad_sequences\n",
    "\n",
    "tokenizer_obj = Tokenizer()\n",
    "\n",
    "tokenizer_obj.fit_on_texts(train_title) \n",
    "\n",
    "# pad sequences\n",
    "max_length = max([len(s.split()) for s in train_title])\n",
    "\n",
    "# define vocabulary size\n",
    "vocab_size = len(tokenizer_obj.word_index) + 1\n",
    "\n",
    "X_train_tokens =  tokenizer_obj.texts_to_sequences(train_title)\n",
    "X_test_tokens = tokenizer_obj.texts_to_sequences(test_title)\n",
    "\n",
    "\n",
    "X_train_pad = pad_sequences(X_train_tokens, maxlen=max_length, padding='post')\n",
    "X_test_pad = pad_sequences(X_test_tokens, maxlen=max_length, padding='post')\n",
    "\n",
    "encoder = LabelBinarizer()\n",
    "encoder.fit(train_category)\n",
    "y_train = encoder.transform(train_category)\n",
    "y_test = encoder.transform(test_category)"
   ]
  },
  {
   "cell_type": "code",
   "execution_count": 60,
   "metadata": {},
   "outputs": [
    {
     "name": "stdout",
     "output_type": "stream",
     "text": [
      "Build model...\n",
      "Summary of the built model...\n",
      "Model: \"sequential_14\"\n",
      "_________________________________________________________________\n",
      "Layer (type)                 Output Shape              Param #   \n",
      "=================================================================\n",
      "embedding_11 (Embedding)     (None, 7, 100)            5000000   \n",
      "_________________________________________________________________\n",
      "spatial_dropout1d_7 (Spatial (None, 7, 100)            0         \n",
      "_________________________________________________________________\n",
      "lstm_7 (LSTM)                (None, 100)               80400     \n",
      "_________________________________________________________________\n",
      "dense_14 (Dense)             (None, 16)                1616      \n",
      "=================================================================\n",
      "Total params: 5,082,016\n",
      "Trainable params: 5,082,016\n",
      "Non-trainable params: 0\n",
      "_________________________________________________________________\n",
      "None\n"
     ]
    }
   ],
   "source": [
    "from keras.models import Sequential\n",
    "from keras.layers import Dense, Embedding, LSTM, GRU\n",
    "from keras.layers.embeddings import Embedding\n",
    "\n",
    "EMBEDDING_DIM = 100\n",
    "\n",
    "print('Build model...')\n",
    "\n",
    "model = Sequential()\n",
    "model.add(Embedding(MAX_NB_WORDS, EMBEDDING_DIM, input_length=X.shape[1]))\n",
    "model.add(SpatialDropout1D(0.2))\n",
    "model.add(LSTM(100, dropout=0.2, recurrent_dropout=0.2))\n",
    "model.add(Dense(16, activation='softmax'))\n",
    "\n",
    "# try using different optimizers and different optimizer configs\n",
    "model.compile(loss='categorical_crossentropy', optimizer='adam', metrics=['accuracy'])\n",
    "\n",
    "print('Summary of the built model...')\n",
    "print(model.summary())"
   ]
  },
  {
   "cell_type": "code",
   "execution_count": 61,
   "metadata": {},
   "outputs": [
    {
     "name": "stderr",
     "output_type": "stream",
     "text": [
      "/Users/mahimakaushiva/opt/anaconda3/lib/python3.7/site-packages/tensorflow_core/python/framework/indexed_slices.py:424: UserWarning: Converting sparse IndexedSlices to a dense Tensor of unknown shape. This may consume a large amount of memory.\n",
      "  \"Converting sparse IndexedSlices to a dense Tensor of unknown shape. \"\n"
     ]
    },
    {
     "name": "stdout",
     "output_type": "stream",
     "text": [
      "Train on 21299 samples, validate on 5325 samples\n",
      "Epoch 1/5\n",
      "21299/21299 [==============================] - 21s 972us/step - loss: 1.9714 - accuracy: 0.4032 - val_loss: 1.5259 - val_accuracy: 0.5422\n",
      "Epoch 2/5\n",
      "21299/21299 [==============================] - 20s 923us/step - loss: 1.1994 - accuracy: 0.6371 - val_loss: 1.2654 - val_accuracy: 0.6145\n",
      "Epoch 3/5\n",
      "21299/21299 [==============================] - 20s 941us/step - loss: 0.7232 - accuracy: 0.7862 - val_loss: 1.2389 - val_accuracy: 0.6415\n",
      "Epoch 4/5\n",
      "21299/21299 [==============================] - 20s 946us/step - loss: 0.4473 - accuracy: 0.8707 - val_loss: 1.3411 - val_accuracy: 0.6471\n",
      "Epoch 5/5\n",
      "21299/21299 [==============================] - 20s 948us/step - loss: 0.3021 - accuracy: 0.9121 - val_loss: 1.4298 - val_accuracy: 0.6466\n"
     ]
    }
   ],
   "source": [
    "epochs = 5\n",
    "batch_size = 64\n",
    "\n",
    "history = model.fit(X_train, Y_train, epochs=epochs, batch_size=batch_size,validation_split=0.2)"
   ]
  },
  {
   "cell_type": "code",
   "execution_count": 117,
   "metadata": {},
   "outputs": [],
   "source": [
    "# text_labels = encoder.classes_\n",
    "# label_names = country.title\n",
    "\n",
    "# for i in range(10):\n",
    "#     prediction = model.predict(np.array([X_test[i]]))\n",
    "#     predicted_label = text_labels[np.argmax(prediction[0])]\n",
    "#     #print(test_files_names.iloc[i])\n",
    "#     print('Actual label:' + test_category.iloc[i])\n",
    "#     print(\"Predicted label: \" + predicted_label)\n",
    "\n",
    "# def plot_confusion_matrix(cm, classes,\n",
    "#                           normalize=False,\n",
    "#                           title='Confusion matrix',\n",
    "#                           cmap=plt.cm.Blues):\n",
    "#     \"\"\"\n",
    "#     This function prints and plots the confusion matrix.\n",
    "#     Normalization can be applied by setting `normalize=True`.\n",
    "#     \"\"\"\n",
    "#     if normalize:\n",
    "#         cm = cm.astype('float') / cm.sum(axis=1)[:, np.newaxis]\n",
    "#         print(\"Normalized confusion matrix\")\n",
    "#     else:\n",
    "#         print('Confusion matrix, without normalization')\n",
    "\n",
    "#     # print(cm)\n",
    "\n",
    "#     plt.imshow(cm, interpolation='nearest', cmap=cmap)\n",
    "#     plt.title(title)\n",
    "#     plt.colorbar()\n",
    "#     tick_marks = np.arange(len(classes))\n",
    "#     plt.xticks(tick_marks, classes, rotation=90)\n",
    "#     plt.yticks(tick_marks, classes)\n",
    "\n",
    "#     fmt = '.2f' if normalize else 'd'\n",
    "#     thresh = cm.max() / 2.\n",
    "#     for i, j in itertools.product(range(cm.shape[0]), range(cm.shape[1])):\n",
    "#         plt.text(j, i, format(cm[i, j], fmt),\n",
    "#                  horizontalalignment=\"center\",\n",
    "#                  color=\"white\" if cm[i, j] > thresh else \"black\")\n",
    "#         plt.tight_layout()\n",
    "#         plt.ylabel('True label')\n",
    "#         plt.xlabel('Predicted label')\n",
    "\n",
    "\n",
    "# Y_pred = model.predict(X_test);\n",
    "# cnf_matrix = confusion_matrix(np.argmax(Y_test, axis=1), np.argmax(Y_pred, axis=1))\n",
    "\n",
    "# # Plot normalized confusion matrix\n",
    "# fig = plt.figure()\n",
    "# fig.set_size_inches(14, 12, forward=True)\n",
    "# #fig.align_labels()\n",
    "\n",
    "# # fig.subplots_adjust(left=0.0, right=1.0, bottom=0.0, top=1.0)\n",
    "# plot_confusion_matrix(cnf_matrix, classes=np.asarray(label_names), normalize=True,\n",
    "#                       title='Normalized confusion matrix')\n",
    "\n",
    "# fig.savefig(\"txt_classification-smote\" + str(num_epochs) + \".png\", pad_inches=5.0)"
   ]
  },
  {
   "cell_type": "code",
   "execution_count": 64,
   "metadata": {},
   "outputs": [],
   "source": [
    "prediction = model.predict(X_test)"
   ]
  },
  {
   "cell_type": "code",
   "execution_count": 66,
   "metadata": {},
   "outputs": [
    {
     "data": {
      "text/plain": [
       "array([ 3, 10, 10, ...,  3,  8,  6])"
      ]
     },
     "execution_count": 66,
     "metadata": {},
     "output_type": "execute_result"
    }
   ],
   "source": [
    "predictions = np.argmax(prediction, axis = 1)\n",
    "predictions"
   ]
  },
  {
   "cell_type": "code",
   "execution_count": 67,
   "metadata": {},
   "outputs": [],
   "source": [
    "Y_test_labels = np.argmax(Y_test, axis =1)"
   ]
  },
  {
   "cell_type": "code",
   "execution_count": 68,
   "metadata": {},
   "outputs": [
    {
     "data": {
      "text/plain": [
       "array([ 3, 10,  7, ...,  3,  8,  6])"
      ]
     },
     "execution_count": 68,
     "metadata": {},
     "output_type": "execute_result"
    }
   ],
   "source": [
    "Y_test_labels"
   ]
  },
  {
   "cell_type": "code",
   "execution_count": 69,
   "metadata": {},
   "outputs": [
    {
     "data": {
      "text/plain": [
       "array([ 7,  8, 10, ...,  1, 11,  3])"
      ]
     },
     "execution_count": 69,
     "metadata": {},
     "output_type": "execute_result"
    }
   ],
   "source": [
    "Y_train_labels = np.argmax(Y_train, axis =1)\n",
    "Y_train_labels"
   ]
  },
  {
   "cell_type": "code",
   "execution_count": 71,
   "metadata": {},
   "outputs": [
    {
     "data": {
      "text/plain": [
       "0.5830988956027162"
      ]
     },
     "execution_count": 71,
     "metadata": {},
     "output_type": "execute_result"
    }
   ],
   "source": [
    "from sklearn.metrics import cohen_kappa_score\n",
    "cohen_score = cohen_kappa_score(Y_test_labels, predictions)\n",
    "cohen_score"
   ]
  },
  {
   "cell_type": "code",
   "execution_count": 72,
   "metadata": {},
   "outputs": [
    {
     "name": "stdout",
     "output_type": "stream",
     "text": [
      "precision: [0.47619048 0.53236246 0.44776119 0.68764045 0.70866142 0.53617021\n",
      " 0.7        0.79809221 0.59060403 0.         0.44006849 0.81632653\n",
      " 0.57068063 0.83333333 0.80443548 0.73913043]\n",
      "recall: [0.3030303  0.5992714  0.33707865 0.73205742 0.56426332 0.55752212\n",
      " 0.68372093 0.7807154  0.66869301 0.         0.41993464 0.53333333\n",
      " 0.49771689 0.625      0.76878613 0.38636364]\n",
      "fscore: [0.37037037 0.5638389  0.38461538 0.70915411 0.62827225 0.54663774\n",
      " 0.69176471 0.78930818 0.62722737 0.         0.42976589 0.64516129\n",
      " 0.53170732 0.71428571 0.7862069  0.50746269]\n",
      "support: [  66  549  178 2090  319  226  430  643  658   13  612   75  219   16\n",
      "  519   44]\n"
     ]
    },
    {
     "name": "stderr",
     "output_type": "stream",
     "text": [
      "/Users/mahimakaushiva/opt/anaconda3/lib/python3.7/site-packages/sklearn/metrics/_classification.py:1268: UndefinedMetricWarning: Precision and F-score are ill-defined and being set to 0.0 in labels with no predicted samples. Use `zero_division` parameter to control this behavior.\n",
      "  _warn_prf(average, modifier, msg_start, len(result))\n"
     ]
    }
   ],
   "source": [
    "from sklearn.metrics import precision_recall_fscore_support as score\n",
    "\n",
    "precision, recall, fscore, support = score(Y_test_labels, predictions)\n",
    "\n",
    "print('precision: {}'.format(precision))\n",
    "print('recall: {}'.format(recall))\n",
    "print('fscore: {}'.format(fscore))\n",
    "print('support: {}'.format(support))"
   ]
  },
  {
   "cell_type": "code",
   "execution_count": 75,
   "metadata": {},
   "outputs": [
    {
     "name": "stdout",
     "output_type": "stream",
     "text": [
      "[0.3030303  0.5992714  0.33707865 0.73205742 0.56426332 0.55752212\n",
      " 0.68372093 0.7807154  0.66869301 0.         0.41993464 0.53333333\n",
      " 0.49771689 0.625      0.76878613 0.38636364]\n",
      "[0.47619048 0.53236246 0.44776119 0.68764045 0.70866142 0.53617021\n",
      " 0.7        0.79809221 0.59060403        nan 0.44006849 0.81632653\n",
      " 0.57068063 0.83333333 0.80443548 0.73913043]\n"
     ]
    },
    {
     "name": "stderr",
     "output_type": "stream",
     "text": [
      "/Users/mahimakaushiva/opt/anaconda3/lib/python3.7/site-packages/ipykernel_launcher.py:7: RuntimeWarning: invalid value encountered in true_divide\n",
      "  import sys\n"
     ]
    }
   ],
   "source": [
    "from sklearn.metrics import confusion_matrix\n",
    "import numpy as np\n",
    "\n",
    "\n",
    "cm = confusion_matrix(Y_test_labels, predictions)\n",
    "recall = np.diag(cm) / np.sum(cm, axis = 1)\n",
    "precision = np.diag(cm) / np.sum(cm, axis = 0)\n",
    "\n",
    "print(recall)\n",
    "\n",
    "print(precision)"
   ]
  },
  {
   "cell_type": "code",
   "execution_count": 86,
   "metadata": {},
   "outputs": [
    {
     "data": {
      "text/plain": [
       "((26624, 7), (26624, 16))"
      ]
     },
     "execution_count": 86,
     "metadata": {},
     "output_type": "execute_result"
    }
   ],
   "source": [
    "X_train.shape, Y_train.shape"
   ]
  },
  {
   "cell_type": "code",
   "execution_count": 87,
   "metadata": {},
   "outputs": [
    {
     "name": "stdout",
     "output_type": "stream",
     "text": [
      "(35043, 7) (35043, 16)\n"
     ]
    }
   ],
   "source": [
    "#Let us try some sampling technique to remove class imbalance\n",
    "from imblearn.over_sampling import SMOTE\n",
    "#Over-sampling: SMOTE\n",
    "#SMOTE (Synthetic Minority Oversampling TEchnique) consists of synthesizing elements for the minority class, \n",
    "#based on those that already exist. It works randomly picking a point from the minority class and computing \n",
    "#the k-nearest neighbors for this point.The synthetic points are added between the chosen point and its neighbors.\n",
    "#We'll use ratio='minority' to resample the minority class.\n",
    "smote = SMOTE('minority')\n",
    "\n",
    "\n",
    "X_sm, Y_sm = smote.fit_sample(X_train, Y_train)\n",
    "print(X_sm.shape, Y_sm.shape)"
   ]
  },
  {
   "cell_type": "code",
   "execution_count": 88,
   "metadata": {},
   "outputs": [
    {
     "name": "stdout",
     "output_type": "stream",
     "text": [
      "Train on 28034 samples, validate on 7009 samples\n",
      "Epoch 1/10\n",
      " - 42s - loss: 0.2124 - accuracy: 0.9383 - val_loss: 1.7265 - val_accuracy: 0.4503\n",
      "Epoch 2/10\n",
      " - 16s - loss: 0.1239 - accuracy: 0.9622 - val_loss: 1.9597 - val_accuracy: 0.4466\n",
      "Epoch 3/10\n",
      " - 16s - loss: 0.1031 - accuracy: 0.9673 - val_loss: 1.9352 - val_accuracy: 0.4928\n",
      "Epoch 4/10\n",
      " - 16s - loss: 0.0914 - accuracy: 0.9718 - val_loss: 2.5214 - val_accuracy: 0.4120\n",
      "Epoch 5/10\n",
      " - 17s - loss: 0.0707 - accuracy: 0.9783 - val_loss: 2.8285 - val_accuracy: 0.3942\n",
      "Epoch 6/10\n",
      " - 17s - loss: 0.0654 - accuracy: 0.9792 - val_loss: 3.0479 - val_accuracy: 0.3864\n",
      "Epoch 7/10\n",
      " - 16s - loss: 0.0592 - accuracy: 0.9813 - val_loss: 3.1944 - val_accuracy: 0.3781\n",
      "Epoch 8/10\n",
      " - 17s - loss: 0.0518 - accuracy: 0.9832 - val_loss: 3.3637 - val_accuracy: 0.3674\n",
      "Epoch 9/10\n",
      " - 18s - loss: 0.0486 - accuracy: 0.9851 - val_loss: 3.2476 - val_accuracy: 0.3856\n",
      "Epoch 10/10\n",
      " - 17s - loss: 0.0476 - accuracy: 0.9847 - val_loss: 3.7102 - val_accuracy: 0.3511\n"
     ]
    }
   ],
   "source": [
    "history = model.fit(X_sm, Y_sm, batch_size=batch_size, epochs=num_epochs,\n",
    "                    verbose = 2, class_weight= class_weight, validation_split= 0.2)"
   ]
  },
  {
   "cell_type": "code",
   "execution_count": 89,
   "metadata": {},
   "outputs": [
    {
     "name": "stdout",
     "output_type": "stream",
     "text": [
      "test accuracy: 0.6420309543609619\n"
     ]
    }
   ],
   "source": [
    "score, acc = model.evaluate(X_test, Y_test, batch_size=batch_size, verbose=2)\n",
    "print('test accuracy:', acc)"
   ]
  },
  {
   "cell_type": "code",
   "execution_count": 77,
   "metadata": {},
   "outputs": [
    {
     "name": "stdout",
     "output_type": "stream",
     "text": [
      "Train on 28034 samples, validate on 7009 samples\n",
      "Epoch 1/10\n",
      " - 17s - loss: 0.6212 - accuracy: 0.8389 - val_loss: 2.3706 - val_accuracy: 0.1564\n",
      "Epoch 2/10\n",
      " - 17s - loss: 0.3848 - accuracy: 0.8895 - val_loss: 2.4159 - val_accuracy: 0.2200\n",
      "Epoch 3/10\n",
      " - 17s - loss: 0.2790 - accuracy: 0.9191 - val_loss: 2.5939 - val_accuracy: 0.2641\n",
      "Epoch 4/10\n",
      " - 18s - loss: 0.2234 - accuracy: 0.9346 - val_loss: 2.8166 - val_accuracy: 0.2644\n",
      "Epoch 5/10\n",
      " - 19s - loss: 0.1739 - accuracy: 0.9496 - val_loss: 2.9748 - val_accuracy: 0.2746\n",
      "Epoch 6/10\n",
      " - 19s - loss: 0.1477 - accuracy: 0.9548 - val_loss: 3.4468 - val_accuracy: 0.2667\n",
      "Epoch 7/10\n",
      " - 20s - loss: 0.1221 - accuracy: 0.9648 - val_loss: 3.6033 - val_accuracy: 0.2641\n",
      "Epoch 8/10\n",
      " - 19s - loss: 0.1063 - accuracy: 0.9676 - val_loss: 3.7064 - val_accuracy: 0.2785\n",
      "Epoch 9/10\n",
      " - 18s - loss: 0.0997 - accuracy: 0.9703 - val_loss: 4.2201 - val_accuracy: 0.2561\n",
      "Epoch 10/10\n",
      " - 18s - loss: 0.1013 - accuracy: 0.9701 - val_loss: 4.4639 - val_accuracy: 0.2555\n"
     ]
    }
   ],
   "source": [
    "from sklearn.utils import class_weight\n",
    "class_weight = class_weight.compute_class_weight('balanced' ,np.unique(Y_train_labels) ,Y_train_labels)\n",
    "num_epochs =10\n",
    "batch_size = 128\n",
    "history = model.fit(X_sm, Y_sm,\n",
    "                    batch_size=batch_size,\n",
    "                    epochs=num_epochs,\n",
    "                    verbose=2,\n",
    "                    class_weight=class_weight,\n",
    "                    validation_split=0.2)"
   ]
  },
  {
   "cell_type": "code",
   "execution_count": 78,
   "metadata": {},
   "outputs": [
    {
     "name": "stdout",
     "output_type": "stream",
     "text": [
      "Test accuracy: 0.6513444781303406\n"
     ]
    }
   ],
   "source": [
    "score, acc = model.evaluate(X_test, Y_test,\n",
    "                       batch_size=batch_size, verbose=2)\n",
    "\n",
    "print('Test accuracy:', acc)"
   ]
  },
  {
   "cell_type": "code",
   "execution_count": 103,
   "metadata": {},
   "outputs": [],
   "source": [
    "my_tags = ['Entertainment','News & Politics','People & Blogs','Comedy','Sports','Music','Howto & Style','Film & Animation',\n",
    "           'Gaming','Science & Technology','Education','Autos & Vehicles','Pets & Animals','Travel & Events','Shows', 'Nonprofits & Activism']"
   ]
  },
  {
   "cell_type": "code",
   "execution_count": null,
   "metadata": {},
   "outputs": [],
   "source": [
    "from sklearn.pipeline import Pipeline"
   ]
  },
  {
   "cell_type": "code",
   "execution_count": 106,
   "metadata": {},
   "outputs": [
    {
     "name": "stdout",
     "output_type": "stream",
     "text": [
      "Found 35218 unique tokens.\n",
      "Shape of data tensor: (33281, 50)\n",
      "Shape of label tensor: (33281, 16)\n"
     ]
    }
   ],
   "source": [
    "from keras.preprocessing.text import Tokenizer\n",
    "from keras.preprocessing.text import Tokenizer\n",
    "from keras.preprocessing.sequence import pad_sequences\n",
    "from keras.models import Sequential\n",
    "from keras.layers import Dense, Embedding, LSTM, SpatialDropout1D\n",
    "from keras.utils.np_utils import to_categorical\n",
    "\n",
    "# The maximum number of words to be used. (most frequent)\n",
    "MAX_NB_WORDS = 20000\n",
    "# Max number of words in each complaint.\n",
    "MAX_SEQUENCE_LENGTH = 50\n",
    "# This is fixed.\n",
    "EMBEDDING_DIM = 100\n",
    "\n",
    "\n",
    "data_for_lstms = country['title'].values\n",
    "\n",
    "tokenizer = Tokenizer(num_words=MAX_NB_WORDS, filters='!\"#$%&()*+,-./:;<=>?@[\\]^_`{|}~', lower=True)\n",
    "tokenizer.fit_on_texts(data_for_lstms)\n",
    "word_index = tokenizer.word_index\n",
    "print('Found %s unique tokens.' % len(word_index))\n",
    "\n",
    "# Convert the data to padded sequences\n",
    "X = tokenizer.texts_to_sequences(data_for_lstms)\n",
    "X = pad_sequences(X, maxlen=MAX_SEQUENCE_LENGTH)\n",
    "print('Shape of data tensor:', X.shape)\n",
    "\n",
    "# One-hot Encode labels\n",
    "Y = pd.get_dummies(country['category']).values\n",
    "print('Shape of label tensor:', Y.shape)\n",
    "\n",
    "# Splitting into training and test set\n",
    "X_train, X_test, Y_train, Y_test = train_test_split(X,Y, random_state = 42)"
   ]
  },
  {
   "cell_type": "code",
   "execution_count": 109,
   "metadata": {},
   "outputs": [
    {
     "name": "stdout",
     "output_type": "stream",
     "text": [
      "Model: \"sequential_19\"\n",
      "_________________________________________________________________\n",
      "Layer (type)                 Output Shape              Param #   \n",
      "=================================================================\n",
      "embedding_15 (Embedding)     (None, 50, 100)           2000000   \n",
      "_________________________________________________________________\n",
      "spatial_dropout1d_9 (Spatial (None, 50, 100)           0         \n",
      "_________________________________________________________________\n",
      "lstm_9 (LSTM)                (None, 100)               80400     \n",
      "_________________________________________________________________\n",
      "dense_20 (Dense)             (None, 16)                1616      \n",
      "=================================================================\n",
      "Total params: 2,082,016\n",
      "Trainable params: 2,082,016\n",
      "Non-trainable params: 0\n",
      "_________________________________________________________________\n",
      "None\n"
     ]
    }
   ],
   "source": [
    "# Define LSTM Model\n",
    "model = Sequential()\n",
    "model.add(Embedding(MAX_NB_WORDS, EMBEDDING_DIM, input_length=X.shape[1]))\n",
    "model.add(SpatialDropout1D(0.2))\n",
    "model.add(LSTM(100, dropout=0.2, recurrent_dropout=0.2))\n",
    "model.add(Dense(16, activation='softmax'))\n",
    "model.compile(loss='categorical_crossentropy', optimizer='adam', metrics=['accuracy'])\n",
    "print(model.summary())"
   ]
  },
  {
   "cell_type": "code",
   "execution_count": 110,
   "metadata": {},
   "outputs": [
    {
     "name": "stderr",
     "output_type": "stream",
     "text": [
      "/Users/mahimakaushiva/opt/anaconda3/lib/python3.7/site-packages/tensorflow_core/python/framework/indexed_slices.py:424: UserWarning: Converting sparse IndexedSlices to a dense Tensor of unknown shape. This may consume a large amount of memory.\n",
      "  \"Converting sparse IndexedSlices to a dense Tensor of unknown shape. \"\n"
     ]
    },
    {
     "name": "stdout",
     "output_type": "stream",
     "text": [
      "Train on 22464 samples, validate on 2496 samples\n",
      "Epoch 1/5\n",
      "22464/22464 [==============================] - 33s 1ms/step - loss: 1.9143 - accuracy: 0.4212 - val_loss: 1.4571 - val_accuracy: 0.5673\n",
      "Epoch 2/5\n",
      "22464/22464 [==============================] - 29s 1ms/step - loss: 1.1611 - accuracy: 0.6458 - val_loss: 1.1955 - val_accuracy: 0.6334\n",
      "Epoch 3/5\n",
      "22464/22464 [==============================] - 28s 1ms/step - loss: 0.7636 - accuracy: 0.7699 - val_loss: 1.1573 - val_accuracy: 0.6558\n",
      "Epoch 4/5\n",
      "22464/22464 [==============================] - 30s 1ms/step - loss: 0.5376 - accuracy: 0.8399 - val_loss: 1.2184 - val_accuracy: 0.6691\n",
      "Epoch 5/5\n",
      "22464/22464 [==============================] - 29s 1ms/step - loss: 0.3876 - accuracy: 0.8851 - val_loss: 1.2891 - val_accuracy: 0.6735\n"
     ]
    }
   ],
   "source": [
    "# Training LSTM Model\n",
    "epochs = 5\n",
    "batch_size = 64\n",
    "\n",
    "history = model.fit(X_train, Y_train, epochs=epochs, batch_size=batch_size,validation_split=0.1)"
   ]
  },
  {
   "cell_type": "code",
   "execution_count": 111,
   "metadata": {},
   "outputs": [
    {
     "name": "stdout",
     "output_type": "stream",
     "text": [
      "Test accuracy: 0.6832111477851868\n"
     ]
    }
   ],
   "source": [
    "score, acc = model.evaluate(X_test, Y_test, batch_size=batch_size, verbose=2)\n",
    "\n",
    "print('Test accuracy:', acc)"
   ]
  },
  {
   "cell_type": "code",
   "execution_count": 114,
   "metadata": {},
   "outputs": [
    {
     "data": {
      "image/png": "[encoded data removed]",
      "text/plain": [
       "<Figure size 432x288 with 1 Axes>"
      ]
     },
     "metadata": {
      "needs_background": "light"
     },
     "output_type": "display_data"
    },
    {
     "data": {
      "image/png": "[encoded data removed]",
      "text/plain": [
       "<Figure size 432x288 with 1 Axes>"
      ]
     },
     "metadata": {
      "needs_background": "light"
     },
     "output_type": "display_data"
    }
   ],
   "source": [
    "import matplotlib.pyplot as plt\n",
    "plt.title('Loss')\n",
    "plt.plot(history.history['loss'], label='train')\n",
    "plt.plot(history.history['val_loss'], label='test')\n",
    "plt.legend()\n",
    "plt.show();\n",
    "\n",
    "plt.title('Accuracy')\n",
    "plt.plot(history.history['accuracy'], label='train')\n",
    "plt.plot(history.history['val_accuracy'], label='test')\n",
    "plt.legend()\n",
    "plt.show()"
   ]
  },
  {
   "cell_type": "code",
   "execution_count": 133,
   "metadata": {},
   "outputs": [
    {
     "name": "stdout",
     "output_type": "stream",
     "text": [
      "                       precision    recall  f1-score   support\n",
      "\n",
      "     Autos & Vehicles       0.63      0.45      0.53        80\n",
      "               Comedy       0.55      0.62      0.58       663\n",
      "            Education       0.55      0.33      0.41       214\n",
      "        Entertainment       0.73      0.75      0.74      2637\n",
      "     Film & Animation       0.65      0.67      0.66       391\n",
      "               Gaming       0.75      0.57      0.65       278\n",
      "        Howto & Style       0.75      0.72      0.73       545\n",
      "                Music       0.82      0.82      0.82       812\n",
      "      News & Politics       0.65      0.72      0.69       825\n",
      "Nonprofits & Activism       1.00      0.21      0.35        14\n",
      "       People & Blogs       0.44      0.44      0.44       780\n",
      "       Pets & Animals       0.83      0.60      0.70        88\n",
      " Science & Technology       0.57      0.52      0.54       268\n",
      "                Shows       0.57      0.73      0.64        22\n",
      "               Sports       0.84      0.80      0.82       641\n",
      "      Travel & Events       0.72      0.65      0.68        63\n",
      "\n",
      "             accuracy                           0.68      8321\n",
      "            macro avg       0.69      0.60      0.62      8321\n",
      "         weighted avg       0.68      0.68      0.68      8321\n",
      "\n"
     ]
    },
    {
     "data": {
      "image/png": "[encoded data removed]",
      "text/plain": [
       "<Figure size 720x720 with 2 Axes>"
      ]
     },
     "metadata": {
      "needs_background": "light"
     },
     "output_type": "display_data"
    }
   ],
   "source": [
    "# performance evaluation\n",
    "\n",
    "from sklearn import metrics\n",
    "\n",
    "X_train, X_test, Y_train, Y_test = train_test_split(X,Y, random_state = 42)\n",
    "y_probas = model.predict(X_test)\n",
    "y_pred = np.argmax(y_probas, axis=1)\n",
    "y_test = np.argmax(Y_test, axis=1)\n",
    "\n",
    "print(metrics.classification_report(y_test, y_pred, \n",
    "                                    target_names=list(le.classes_)))\n",
    "\n",
    "conf_mat = confusion_matrix(y_test, y_pred, normalize=True)\n",
    "fig, ax = plt.subplots(figsize=(10,10))\n",
    "sns.heatmap(conf_mat, annot=True, fmt='d', xticklabels=list(le.classes_), yticklabels=list(le.classes_))\n",
    "plt.ylabel('Actual')\n",
    "plt.xlabel('Predicted')\n",
    "plt.title('Confusion Matrix - LSTM')\n",
    "plt.show()"
   ]
  },
  {
   "cell_type": "code",
   "execution_count": 138,
   "metadata": {},
   "outputs": [
    {
     "ename": "ValueError",
     "evalue": "plot_confusion_matrix only supports classifiers",
     "output_type": "error",
     "traceback": [
      "\u001b[0;31m---------------------------------------------------------------------------\u001b[0m",
      "\u001b[0;31mValueError\u001b[0m                                Traceback (most recent call last)",
      "\u001b[0;32m<ipython-input-138-12a5f5cb1d33>\u001b[0m in \u001b[0;36m<module>\u001b[0;34m\u001b[0m\n\u001b[1;32m      1\u001b[0m \u001b[0;32mfrom\u001b[0m \u001b[0msklearn\u001b[0m\u001b[0;34m.\u001b[0m\u001b[0mmetrics\u001b[0m \u001b[0;32mimport\u001b[0m \u001b[0mplot_confusion_matrix\u001b[0m\u001b[0;34m\u001b[0m\u001b[0;34m\u001b[0m\u001b[0m\n\u001b[1;32m      2\u001b[0m \u001b[0;34m\u001b[0m\u001b[0m\n\u001b[0;32m----> 3\u001b[0;31m \u001b[0mplot_confusion_matrix\u001b[0m\u001b[0;34m(\u001b[0m\u001b[0mmodel\u001b[0m\u001b[0;34m,\u001b[0m \u001b[0mX_test\u001b[0m\u001b[0;34m,\u001b[0m \u001b[0my_test\u001b[0m\u001b[0;34m,\u001b[0m \u001b[0mnormalize\u001b[0m\u001b[0;34m=\u001b[0m\u001b[0;32mTrue\u001b[0m\u001b[0;34m)\u001b[0m\u001b[0;34m\u001b[0m\u001b[0;34m\u001b[0m\u001b[0m\n\u001b[0m",
      "\u001b[0;32m~/opt/anaconda3/lib/python3.7/site-packages/sklearn/metrics/_plot/confusion_matrix.py\u001b[0m in \u001b[0;36mplot_confusion_matrix\u001b[0;34m(estimator, X, y_true, labels, sample_weight, normalize, display_labels, include_values, xticks_rotation, values_format, cmap, ax)\u001b[0m\n\u001b[1;32m    183\u001b[0m \u001b[0;34m\u001b[0m\u001b[0m\n\u001b[1;32m    184\u001b[0m     \u001b[0;32mif\u001b[0m \u001b[0;32mnot\u001b[0m \u001b[0mis_classifier\u001b[0m\u001b[0;34m(\u001b[0m\u001b[0mestimator\u001b[0m\u001b[0;34m)\u001b[0m\u001b[0;34m:\u001b[0m\u001b[0;34m\u001b[0m\u001b[0;34m\u001b[0m\u001b[0m\n\u001b[0;32m--> 185\u001b[0;31m         \u001b[0;32mraise\u001b[0m \u001b[0mValueError\u001b[0m\u001b[0;34m(\u001b[0m\u001b[0;34m\"plot_confusion_matrix only supports classifiers\"\u001b[0m\u001b[0;34m)\u001b[0m\u001b[0;34m\u001b[0m\u001b[0;34m\u001b[0m\u001b[0m\n\u001b[0m\u001b[1;32m    186\u001b[0m \u001b[0;34m\u001b[0m\u001b[0m\n\u001b[1;32m    187\u001b[0m     \u001b[0;32mif\u001b[0m \u001b[0mnormalize\u001b[0m \u001b[0;32mnot\u001b[0m \u001b[0;32min\u001b[0m \u001b[0;34m{\u001b[0m\u001b[0;34m'true'\u001b[0m\u001b[0;34m,\u001b[0m \u001b[0;34m'pred'\u001b[0m\u001b[0;34m,\u001b[0m \u001b[0;34m'all'\u001b[0m\u001b[0;34m,\u001b[0m \u001b[0;32mNone\u001b[0m\u001b[0;34m}\u001b[0m\u001b[0;34m:\u001b[0m\u001b[0;34m\u001b[0m\u001b[0;34m\u001b[0m\u001b[0m\n",
      "\u001b[0;31mValueError\u001b[0m: plot_confusion_matrix only supports classifiers"
     ]
    }
   ],
   "source": [
    "from sklearn.metrics import plot_confusion_matrix\n",
    "\n",
    "plot_confusion_matrix(model, X_test, y_test, normalize=True)"
   ]
  },
  {
   "cell_type": "code",
   "execution_count": 137,
   "metadata": {},
   "outputs": [
    {
     "data": {
      "text/plain": [
       "<keras.engine.sequential.Sequential at 0x1a459557d0>"
      ]
     },
     "execution_count": 137,
     "metadata": {},
     "output_type": "execute_result"
    }
   ],
   "source": [
    "model"
   ]
  },
  {
   "cell_type": "code",
   "execution_count": 127,
   "metadata": {},
   "outputs": [],
   "source": [
    "# from sklearn.metrics import average_precision_score\n",
    "# average_precision = average_precision_score(y_test, y_probas)\n",
    "\n",
    "# print('Average precision-recall score: {0:0.2f}'.format(\n",
    "#       average_precision))"
   ]
  },
  {
   "cell_type": "code",
   "execution_count": 131,
   "metadata": {},
   "outputs": [
    {
     "name": "stdout",
     "output_type": "stream",
     "text": [
      "Collecting scikit-plot\n",
      "  Downloading https://files.pythonhosted.org/packages/7c/47/32520e259340c140a4ad27c1b97050dd3254fdc517b1d59974d47037510e/scikit_plot-0.3.7-py3-none-any.whl\n",
      "Requirement already satisfied: scipy>=0.9 in /Users/mahimakaushiva/opt/anaconda3/lib/python3.7/site-packages (from scikit-plot) (1.3.1)\n",
      "Requirement already satisfied: joblib>=0.10 in /Users/mahimakaushiva/opt/anaconda3/lib/python3.7/site-packages (from scikit-plot) (0.13.2)\n",
      "Requirement already satisfied: scikit-learn>=0.18 in /Users/mahimakaushiva/opt/anaconda3/lib/python3.7/site-packages (from scikit-plot) (0.22)\n",
      "Requirement already satisfied: matplotlib>=1.4.0 in /Users/mahimakaushiva/opt/anaconda3/lib/python3.7/site-packages (from scikit-plot) (3.1.1)\n",
      "Requirement already satisfied: numpy>=1.11.0 in /Users/mahimakaushiva/opt/anaconda3/lib/python3.7/site-packages (from scikit-learn>=0.18->scikit-plot) (1.17.2)\n",
      "Requirement already satisfied: cycler>=0.10 in /Users/mahimakaushiva/opt/anaconda3/lib/python3.7/site-packages (from matplotlib>=1.4.0->scikit-plot) (0.10.0)\n",
      "Requirement already satisfied: kiwisolver>=1.0.1 in /Users/mahimakaushiva/opt/anaconda3/lib/python3.7/site-packages (from matplotlib>=1.4.0->scikit-plot) (1.1.0)\n",
      "Requirement already satisfied: pyparsing!=2.0.4,!=2.1.2,!=2.1.6,>=2.0.1 in /Users/mahimakaushiva/opt/anaconda3/lib/python3.7/site-packages (from matplotlib>=1.4.0->scikit-plot) (2.4.2)\n",
      "Requirement already satisfied: python-dateutil>=2.1 in /Users/mahimakaushiva/opt/anaconda3/lib/python3.7/site-packages (from matplotlib>=1.4.0->scikit-plot) (2.8.0)\n",
      "Requirement already satisfied: six in /Users/mahimakaushiva/opt/anaconda3/lib/python3.7/site-packages (from cycler>=0.10->matplotlib>=1.4.0->scikit-plot) (1.12.0)\n",
      "Requirement already satisfied: setuptools in /Users/mahimakaushiva/opt/anaconda3/lib/python3.7/site-packages (from kiwisolver>=1.0.1->matplotlib>=1.4.0->scikit-plot) (41.4.0)\n",
      "Installing collected packages: scikit-plot\n",
      "Successfully installed scikit-plot-0.3.7\n"
     ]
    }
   ],
   "source": [
    "!pip install scikit-plot"
   ]
  },
  {
   "cell_type": "code",
   "execution_count": 132,
   "metadata": {},
   "outputs": [
    {
     "name": "stderr",
     "output_type": "stream",
     "text": [
      "/Users/mahimakaushiva/opt/anaconda3/lib/python3.7/site-packages/sklearn/utils/deprecation.py:87: FutureWarning: Function plot_precision_recall_curve is deprecated; This will be removed in v0.5.0. Please use scikitplot.metrics.plot_precision_recall instead.\n",
      "  warnings.warn(msg, category=FutureWarning)\n"
     ]
    },
    {
     "data": {
      "image/png": "[encoded data removed]",
      "text/plain": [
       "<Figure size 432x288 with 1 Axes>"
      ]
     },
     "metadata": {
      "needs_background": "light"
     },
     "output_type": "display_data"
    }
   ],
   "source": [
    "import scikitplot as skplt\n",
    "import matplotlib.pyplot as plt\n",
    "\n",
    "skplt.metrics.plot_precision_recall_curve(y_test, y_probas)\n",
    "plt.title('Precision-Recall Curve - LSTM')\n",
    "plt.show()"
   ]
  },
  {
   "cell_type": "code",
   "execution_count": null,
   "metadata": {},
   "outputs": [],
   "source": []
  }
 ],
 "metadata": {
  "kernelspec": {
   "display_name": "Python 3",
   "language": "python",
   "name": "python3"
  },
  "language_info": {
   "codemirror_mode": {
    "name": "ipython",
    "version": 3
   },
   "file_extension": ".py",
   "mimetype": "text/x-python",
   "name": "python",
   "nbconvert_exporter": "python",
   "pygments_lexer": "ipython3",
   "version": "3.7.4"
  }
 },
 "nbformat": 4,
 "nbformat_minor": 2
}
